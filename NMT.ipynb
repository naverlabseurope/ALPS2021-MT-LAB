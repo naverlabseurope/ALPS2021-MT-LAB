{
 "cells": [
  {
   "cell_type": "markdown",
   "metadata": {},
   "source": [
    "# Neural Machine Translation"
   ]
  },
  {
   "cell_type": "markdown",
   "metadata": {},
   "source": [
    "General Reference: https://github.com/nyu-dl/NLP_DL_Lecture_Note/blob/master/lecture_note.pdf <br>\n",
    "Original Notebook: https://github.com/nyu-dl/AMMI-2019-NLP-Part2"
   ]
  },
  {
   "cell_type": "markdown",
   "metadata": {},
   "source": [
    "### Install packages"
   ]
  },
  {
   "cell_type": "code",
   "execution_count": null,
   "metadata": {},
   "outputs": [],
   "source": [
    "!pip install torch\n",
    "!pip install subword-nmt\n",
    "!pip install sacremoses\n",
    "!pip install googletrans==3.1.0a0\n",
    "!pip install pandas\n",
    "!pip install sacrebleu\n",
    "!pip install matplotlib\n",
    "!pip install requests\n",
    "!pip install bertviz"
   ]
  },
  {
   "cell_type": "markdown",
   "metadata": {},
   "source": [
    "### Python imports"
   ]
  },
  {
   "cell_type": "code",
   "execution_count": 6,
   "metadata": {},
   "outputs": [],
   "source": [
    "\"\"\"\n",
    "To run this notebook in Google Colab, you need to the following first:\n",
    "1. Go to \"Runtime / Change runtime type\", then select \"GPU\" in the \"Hardware accelerator\" drop-down list\n",
    "2. Open this link: https://drive.google.com/drive/folders/1E07YaKths98YpoBCH2PjdtTPqOXgfdZB?usp=sharing\n",
    "3. Then go to \"Shared with me\" in your Google Drive, right-click the \"ALPS2022-NMT\" folder\n",
    "and select \"Add shortcut to Drive\"\n",
    "\n",
    "Optionally, if you don't have a Google Drive account, you can set colab to False,\n",
    "and the data and models will be downloaded in Colab (might take longer).\n",
    "\"\"\"\n",
    "\n",
    "cpu = False\n",
    "colab = True   # set to False to run locally and not from Google Colab\n",
    "model_root = 'models'  # where new models will be saved\n",
    "\n",
    "if colab:\n",
    "    # Download the python files from the ALPS Github\n",
    "    !wget https://raw.githubusercontent.com/naverlabseurope/ALPS2021-MT-LAB/ALPS2022/data.py\n",
    "    !wget https://raw.githubusercontent.com/naverlabseurope/ALPS2021-MT-LAB/ALPS2022/models.py\n",
    "    # Mount your Google Drive, which should contain a link to \"ALPS2022-NMT\"\n",
    "    from google.colab import drive\n",
    "    drive.flush_and_unmount()\n",
    "    drive.mount('/content/drive')\n",
    "    root_dir = '/content/drive/MyDrive/ALPS2022-NMT'\n",
    "    # model_root = '/content/drive/MyDrive/ALPS2022-models' # uncomment to save your models to your Google Drive\n",
    "    !ls {root_dir}/*\n",
    "else:\n",
    "    # Download the datasets and pre-trained models\n",
    "    # Modify this script to download data in other language pairs than EN-FR\n",
    "    !scripts/download-data.sh\n",
    "    root_dir = '.'\n",
    "\n",
    "import os\n",
    "import sys\n",
    "import re\n",
    "import data\n",
    "import models\n",
    "import pandas\n",
    "import time\n",
    "import torch\n",
    "import torch.nn as nn\n",
    "import numpy as np\n",
    "import matplotlib.pyplot as plt\n",
    "from statistics import mean\n",
    "from collections import OrderedDict\n",
    "from tqdm.notebook import tqdm\n",
    "from subword_nmt.apply_bpe import BPE   # segment text into subword units\n",
    "from data import load_dataset, binarize, load_or_create_dictionary, BatchIterator\n",
    "%matplotlib inline\n",
    "\n",
    "# Set up Google Translate API for Comparison\n",
    "from googletrans import Translator   # https://github.com/ssut/py-googletrans\n",
    "google_translator = Translator()"
   ]
  },
  {
   "cell_type": "markdown",
   "metadata": {},
   "source": [
    "## The dataset\n",
    "\n",
    "We will work with a small English to French dataset from https://www.manythings.org/anki/. It contains translations of short and simple sentences aimed at foreign language learners (from the [Tatoeba collaborative database](https://tatoeba.org/en/)). Of course, models trained on this data will not perform well on longer, more sophisticated sentences. They also won't be very robust to domain shift and input noise. To train stronger models, some larger datasets can be downloaded from https://www.statmt.org/wmt21/ or https://opus.nlpl.eu/."
   ]
  },
  {
   "cell_type": "code",
   "execution_count": 7,
   "metadata": {},
   "outputs": [
    {
     "name": "stdout",
     "output_type": "stream",
     "text": [
      "is it cancer ?\r\n",
      "it took half an hour .\r\n",
      "how many caps do you own ?\r\n",
      "you should read many books when you are young .\r\n",
      "he is a student at harvard .\r\n"
     ]
    }
   ],
   "source": [
    "source_lang, target_lang = 'en', 'fr'\n",
    "\n",
    "# paths to the datasets and pretrained models\n",
    "data_dir = os.path.join(root_dir, 'data')\n",
    "pretrained_model_dir = os.path.join(root_dir, 'pretrained_models', f'{source_lang}-{target_lang}')\n",
    "\n",
    "# path to the newly trained models\n",
    "model_dir = os.path.join(model_root, f'{source_lang}-{target_lang}')\n",
    "\n",
    "!mkdir -p {model_dir}\n",
    "!head -5 {data_dir}/train.en-fr.en"
   ]
  },
  {
   "cell_type": "markdown",
   "metadata": {},
   "source": [
    "## Load and preprocess the data\n",
    "\n",
    "1. Load the BPE model\n",
    "2. Load the parallel corpora for this language pair (train, valid and test). `load_dataset` will load a corpus and tokenize it with the BPE model with the given `preprocess` function.\n",
    "3. Create (or load) dictionaries that map BPE tokens to token IDs (`load_or_create_dictionary` function)\n",
    "4. Binarize the data: map source and target text sequences to sequences of IDs, and sort the training set by length (`binarize` function)\n",
    "5. Create batches (`BatchIterator` class): group multiple sequence pairs of similar length together, pad them to the maximum length and create numpy arrays that can be used to train or evaluate our models"
   ]
  },
  {
   "cell_type": "code",
   "execution_count": 8,
   "metadata": {},
   "outputs": [],
   "source": [
    "# set the random seed: initialize the random number generator for reproducibility\n",
    "def reset_seed(seed=1234):\n",
    "    np.random.seed(seed)\n",
    "    torch.manual_seed(seed)"
   ]
  },
  {
   "cell_type": "markdown",
   "metadata": {},
   "source": [
    "### 1. Load the BPE model (multilingual BPE model, works with French, German and English)"
   ]
  },
  {
   "cell_type": "code",
   "execution_count": 9,
   "metadata": {},
   "outputs": [],
   "source": [
    "train_path = os.path.join(data_dir, f'train.{source_lang}-{target_lang}')\n",
    "valid_path = os.path.join(data_dir, f'valid.{source_lang}-{target_lang}')\n",
    "test_path = os.path.join(data_dir, f'test.{source_lang}-{target_lang}')\n",
    "bpe_path = os.path.join(data_dir, 'bpecodes.de-en-fr')\n",
    "\n",
    "with open(bpe_path) as bpe_codes:\n",
    "    bpe_model = BPE(bpe_codes)\n",
    "\n",
    "def preprocess(source_line, target_line=None, source_lang=None, target_lang=None):\n",
    "    # BPE segmentation: e.g., 'He overslept this morning .' -> he over@@ slept this morning .'\n",
    "    # modify this function to tweak the pre-processing (e.g., to add control tags / language codes)\n",
    "    source_line = bpe_model.segment(source_line.lower())\n",
    "    if target_line is not None:\n",
    "        target_line = bpe_model.segment(target_line.lower())\n",
    "    return source_line, target_line\n",
    "\n",
    "def postprocess(line):\n",
    "    # Merge BPE-tokenized sequences back into sequences of words:\n",
    "    # \"ce matin , il s' est réve@@ illé trop tard .\" -> \"ce matin , il s' est réveillé trop tard .\"\n",
    "    return line.replace('@@ ', '')"
   ]
  },
  {
   "cell_type": "markdown",
   "metadata": {},
   "source": [
    "### 2. Load and preprocess the parallel corpora"
   ]
  },
  {
   "cell_type": "code",
   "execution_count": 10,
   "metadata": {},
   "outputs": [
    {
     "name": "stdout",
     "output_type": "stream",
     "text": [
      "                                       source_data  \\\n",
      "0                                   is it cancer ?   \n",
      "1                           it took half an hour .   \n",
      "2                       how many caps do you own ?   \n",
      "3  you should read many books when you are young .   \n",
      "4                     he is a student at harvard .   \n",
      "\n",
      "                                         target_data  \\\n",
      "0                          s' agit-il d' un cancer ?   \n",
      "1                         ça a pris une demi-heure .   \n",
      "2                combien de casquettes possèdes-tu ?   \n",
      "3  on devrait lire beaucoup de livres quand on es...   \n",
      "4                        il est étudiant à harvard .   \n",
      "\n",
      "                                    source_tokenized  \\\n",
      "0                                [is, it, cancer, ?]   \n",
      "1                      [it, took, half, an, hour, .]   \n",
      "2             [how, many, cap@@, s, do, you, own, ?]   \n",
      "3  [you, should, read, many, books, when, you, ar...   \n",
      "4           [he, is, a, student, at, harv@@, ard, .]   \n",
      "\n",
      "                                    target_tokenized  \n",
      "0               [s', ag@@, it-il, d', un, cancer, ?]  \n",
      "1          [ça, a, pris, une, de@@, mi-@@, heure, .]  \n",
      "2  [combien, de, cas@@, qu@@, ettes, poss@@, è@@,...  \n",
      "3  [on, devrait, lire, beaucoup, de, livres, quan...  \n",
      "4             [il, est, étudiant, à, harv@@, ard, .]  \n"
     ]
    }
   ],
   "source": [
    "train_data = load_dataset(train_path, source_lang, target_lang, preprocess, max_size=None)  # pandas.DataFrame\n",
    "# set max_size to 10000 for fast debugging\n",
    "valid_data = load_dataset(valid_path, source_lang, target_lang, preprocess)\n",
    "test_data = load_dataset(test_path, source_lang, target_lang, preprocess)\n",
    "print(train_data[:5])   # to see the first 5 rows of train_data"
   ]
  },
  {
   "cell_type": "markdown",
   "metadata": {},
   "source": [
    "### 3. Load or create the dictionaries"
   ]
  },
  {
   "cell_type": "code",
   "execution_count": 11,
   "metadata": {
    "tags": []
   },
   "outputs": [
    {
     "name": "stdout",
     "output_type": "stream",
     "text": [
      "['<sos>', '<eos>', '<unk>', '<pad>', '.', 'the', '?', 'is', 'i', 'to', 'he', 'you', 'tom', ',', 'it', 'a', \"'t\", 'of', '\"', 'do', 'was', \"'s\", 'this', 'are', 'in', 'we', 'have', 'can', 'what', 'that', 'me', 'she', 'y', 'don', 'his', 'and', 'my', 'will', 'an', 'at', 'him', 'from', 'your', 'how', 'for', 'with', 'go', 'did', 'day', 'not', 'want', 'on', 'time', \"'m\", 'they', 'be', '!', 'one', 'about', 'her', 'know', 'where', 'when', 'like', 'today', 'has', 'good', 'as', 'very', 'ing', 'there', 'just', 'all', 'no', 'work', \"'re\", \"'ll\", 'ed', 'ts', 'up', 'make', 'had', 'out', 'by', 'people', 'more', 'mary', 'think', 'am', 'see', 'or', 'really', 'here', 'any', 'get', \"'ve\", 'why', 'who', 'so', 'let']\n",
      "['<sos>', '<eos>', '<unk>', '<pad>', '.', 'est', 'de', ',', '?', 'il', 'le', 'les', 'tom', 'la', 'je', 'a', 'pas', 'à', 'ai', 'en', 'ne', \"j'\", \"d'\", 'que', 'un', \"n'\", \"l'\", 'une', 'vous', 'ce', 'nous', 'faire', \"s'\", 'du', 'me', 'tu', 'des', '\"', \"qu'\", 'se', 'et', \"c'\", 'plus', 'sont', 'était', 'elle', 'dans', '!', 'fait', 'avec', 'très', 'au', 're@@', 'cette', \"m'\", 'pour', 'suis', 'qui', 'sur', 'te', 'mon', 'ça', 'on', 'é@@', 'c@@', 'où', \"aujourd'\", 'hui', 'tout', 'é', 'est-ce', 'vraiment', 'tes', 'y', 'dit', 'comment', 'quand', 'ent', 'sa', 'is', 'être', 'dé@@', 'es', 'ti@@', 'son', 'aime', 'vais', 'même', 'ont', 'in@@', 'comme', 'mes', 'er', 'si', 'ou', 'avons', 'beaucoup', 'moi', 'ils', 'con@@']\n",
      "source vocab size: 3302\n",
      "target vocab size: 3674\n"
     ]
    }
   ],
   "source": [
    "source_dict_path = os.path.join(pretrained_model_dir, f'dict.{source_lang}.txt')\n",
    "target_dict_path = os.path.join(pretrained_model_dir, f'dict.{target_lang}.txt')\n",
    "\n",
    "source_dict = load_or_create_dictionary(\n",
    "    source_dict_path,\n",
    "    train_data['source_tokenized'],\n",
    "    reset=False,    # set reset to True if you're changing the data or the preprocessing\n",
    ")\n",
    "print(source_dict.words[:100])   # print the first 100 words in the source vocabulary\n",
    "\n",
    "target_dict = load_or_create_dictionary(\n",
    "    target_dict_path,\n",
    "    train_data['target_tokenized'],\n",
    "    reset=False,\n",
    ")\n",
    "print(target_dict.words[:100])\n",
    "\n",
    "print('source vocab size:', len(source_dict))\n",
    "print('target vocab size:', len(target_dict))"
   ]
  },
  {
   "cell_type": "markdown",
   "metadata": {},
   "source": [
    "### 3. Use the dictionaries to map tokens to indices. The training set is also sorted by length for more efficient batching."
   ]
  },
  {
   "cell_type": "code",
   "execution_count": 12,
   "metadata": {
    "scrolled": true
   },
   "outputs": [
    {
     "name": "stdout",
     "output_type": "stream",
     "text": [
      "        source_data      target_data  source_tokenized    target_tokenized  \\\n",
      "354        enough !          assez !       [enough, !]          [assez, !]   \n",
      "1105      finally !          enfin !      [finally, !]          [enfin, !]   \n",
      "4365         fire !            feu !         [fire, !]            [feu, !]   \n",
      "7206  immediately !  immédiatement !  [immediately, !]  [immédiatement, !]   \n",
      "9258         sing !         chante !         [sing, !]         [chante, !]   \n",
      "\n",
      "         source_bin  source_len     target_bin  target_len  \n",
      "354    [254, 56, 1]           3   [291, 47, 1]           3  \n",
      "1105  [1042, 56, 1]           3  [2237, 47, 1]           3  \n",
      "4365   [545, 56, 1]           3   [771, 47, 1]           3  \n",
      "7206  [1535, 56, 1]           3  [1426, 47, 1]           3  \n",
      "9258   [689, 56, 1]           3  [1108, 47, 1]           3  \n"
     ]
    }
   ],
   "source": [
    "binarize(train_data, source_dict, target_dict, sort=True)\n",
    "binarize(valid_data, source_dict, target_dict, sort=False)\n",
    "binarize(test_data, source_dict, target_dict, sort=False)\n",
    "print(train_data[:5])  # print the first 5 rows of train_data\n",
    "# The 'source_bin' and 'target_bin' columns contain the sequences of indices\n",
    "# Indices of 1 correspond to the EOS token"
   ]
  },
  {
   "cell_type": "markdown",
   "metadata": {},
   "source": [
    "### Data statistics:"
   ]
  },
  {
   "cell_type": "code",
   "execution_count": 13,
   "metadata": {},
   "outputs": [
    {
     "name": "stdout",
     "output_type": "stream",
     "text": [
      "train_size=82297, valid_size=2000, test_size=2000, min_len=3, max_len=297, avg_len=9.9\n",
      "Train source length distribution:\n",
      "0.5000      9.0000\n",
      "0.7500     11.0000\n",
      "0.9000     14.0000\n",
      "0.9500     17.0000\n",
      "0.9900     27.0000\n",
      "0.9990     57.0000\n",
      "0.9999    105.0816\n",
      "Name: source_len, dtype: float64\n"
     ]
    }
   ],
   "source": [
    "print('train_size={}, valid_size={}, test_size={}, min_len={}, max_len={}, avg_len={:.1f}'.format(\n",
    "    len(train_data),\n",
    "    len(valid_data),\n",
    "    len(test_data),\n",
    "    train_data['source_len'].min(),\n",
    "    train_data['source_len'].max(),\n",
    "    train_data['source_len'].mean(),\n",
    "))\n",
    "\n",
    "print('Train source length distribution:')\n",
    "# The 90th percentile indicates the point where 90% percent of the data have values lower than this number.\n",
    "# We see that 90% of training examples have 14 source words or less\n",
    "# and 99% of all training examples have 27 source words or less.\n",
    "print(train_data['source_len'].quantile([0.5, 0.75, 0.9, 0.95, 0.99, 0.999, 0.9999]))"
   ]
  },
  {
   "cell_type": "markdown",
   "metadata": {},
   "source": [
    "### 5. Build batches. The training batches are automatically shuffled before each epoch"
   ]
  },
  {
   "cell_type": "code",
   "execution_count": 14,
   "metadata": {},
   "outputs": [
    {
     "name": "stdout",
     "output_type": "stream",
     "text": [
      "Example of training batch:\n",
      "{'source': tensor([[  31,   20,  398,  366,  178,    4,    1],\n",
      "        [  10,    7, 1299,   34,  102,    4,    1],\n",
      "        [  10,    7,   15,   66, 1382,    4,    1],\n",
      "        [  23,   11,  325,   44,  600,    6,    1],\n",
      "        [   8,   53,   49, 2086,  227,    4,    1],\n",
      "        [  12, 1059,  195,   30,  191,    4,    1],\n",
      "        [  31,  673, 2234,    5,  102,    4,    1],\n",
      "        [  31,   21,  364,  323,  200,    4,    1],\n",
      "        [  27,   11, 1396,   42,  674,    6,    1],\n",
      "        [  12,    7,   15,   66,  328,    4,    1],\n",
      "        [ 213, 2341, 1531,   51,   11,    4,    1],\n",
      "        [  43,   47,   11,  674,   12,    6,    1],\n",
      "        [  25,   75,   49,  266,  340,    4,    1],\n",
      "        [   5,  388,   27,  394,  601,    4,    1],\n",
      "        [ 213,    8,  527,   45,   11,    6,    1],\n",
      "        [  12,  223,   16,  107,   30,    4,    1],\n",
      "        [ 186,   24, 1628,   45,   30,    4,    1],\n",
      "        [  43,  203,    7,   22,  531,    6,    1],\n",
      "        [   8,   33,   16,  231,   11,    4,    1],\n",
      "        [   8,   76, 1577,   14,  150,    4,    1],\n",
      "        [  22,  452,   16,  106,  226,    4,    1],\n",
      "        [   8,   53,   15,  158,  853,    4,    1],\n",
      "        [  54,  311,   24,    5, 1030,    4,    1],\n",
      "        [  22,  223,   16,  376,  162,    4,    1],\n",
      "        [  10,   81,  392,   72,  727,    4,    1],\n",
      "        [  59,  238,    7,    2,  419,    4,    1],\n",
      "        [  10,  584,  191, 2002,  895,    4,    1],\n",
      "        [  14,   21,  399, 1741,  157,    4,    1],\n",
      "        [   8,   27,   16,  416,   14,    4,    1],\n",
      "        [   8,  570,  201,  506,  475,    4,    1],\n",
      "        [   8,   27,  597,   15,  102,    4,    1],\n",
      "        [  36,  327,  134, 1371,  195,    4,    1],\n",
      "        [  28,   21, 1051,   91,   63,    6,    1],\n",
      "        [  10,  353,  612,   68,  122,    4,    1],\n",
      "        [   8,   26,   15,  448, 1054,    4,    1],\n",
      "        [   5,  594,  126,   16, 1807,    4,    1],\n",
      "        [   8,   50,    9, 2078,   40,    4,    1],\n",
      "        [  12,  223,   16,  231,   30,    4,    1],\n",
      "        [  31,  330, 2252,  403,   40,    4,    1],\n",
      "        [   8,   33,   16,   94,   14,    4,    1],\n",
      "        [  11,  129,   46,   24,  753,    4,    1],\n",
      "        [  62,   27,    8, 1128,   11,    6,    1],\n",
      "        [   8,   88,  882, 1495,  290,    4,    1],\n",
      "        [ 351,  335, 1339,   17,   22,    4,    1],\n",
      "        [  54,   37,  662,  575,  302,    4,    1],\n",
      "        [  28,   21,  159,   51,   92,    6,    1],\n",
      "        [  28,    7,    5,  137,   58,    6,    1],\n",
      "        [  12,  223,   16,  180,  122,    4,    1],\n",
      "        [  12,    7,   15,  309, 2005,    4,    1],\n",
      "        [   8,  484, 1261,  357,  441,    4,    1],\n",
      "        [   5,  407,    7,  481,   52,    4,    1],\n",
      "        [  35,   28,  390,  497,   29,    6,    1],\n",
      "        [  33,   16,  662,   42,  563,    4,    1],\n",
      "        [   8,   88,  457, 1141,   77,    4,    1],\n",
      "        [  31,    7,   15, 1925,  426,    4,    1],\n",
      "        [  12,    7,   15, 2720,   38,    4,    1],\n",
      "        [   8,   50,    9, 1259,  834,    4,    1],\n",
      "        [2263,   65,   15,  705,  995,    4,    1],\n",
      "        [1699,    8,  129,  311, 1499,    4,    1],\n",
      "        [  99,   21, 1649,  320,  710,    4,    1],\n",
      "        [  96,   23,   54,  341,   22,    6,    1],\n",
      "        [  27,   11,  674,   22,  658,    6,    1],\n",
      "        [  25,  457,   60,  575,  302,    4,    1],\n",
      "        [  31,   65,  779,    9, 1112,    4,    1],\n",
      "        [  43,  226,  117,   11,  779,    6,    1],\n",
      "        [  10,  218,  229,   68,  806,    4,    1],\n",
      "        [  31,  423,    9,  760,   30,    4,    1],\n",
      "        [   8,  113,   16,   50,   29,    4,    1],\n",
      "        [  47,    8, 1695,    5,  279,    6,    1],\n",
      "        [   8,   26,  392,   36, 1260,    4,    1],\n",
      "        [  10,  496,   63,   15,  257,    4,    1],\n",
      "        [1211,   13,   29,   21,  254,    4,    1],\n",
      "        [   8,   76, 1158,   44,   11,    4,    1]]), 'target': tensor([[  45,  435,  317,  815,  340,    4,    1],\n",
      "        [   9,  146,  655,   78,  115,    4,    1],\n",
      "        [   9,    5,  109,  101,  408,    4,    1],\n",
      "        [1720,  809,  883,  539,   24,    8,    1],\n",
      "        [  14,   20,  558,  588,  153,    4,    1],\n",
      "        [  12,   54, 2507,   10,  241,    4,    1],\n",
      "        [  45,  146,  655,   13,  115,    4,    1],\n",
      "        [  45,    5,  209,  626, 1814,    4,    1],\n",
      "        [ 982, 3341, 1132,  142, 1289,    8,    1],\n",
      "        [  12,    5,   24,  109,  674,    4,    1],\n",
      "        [1534,   13, 2769,   59, 2061,   47,    1],\n",
      "        [  75,  208, 2020,   17,   12,    8,    1],\n",
      "        [  30,   20,  139,   42, 2025,    4,    1],\n",
      "        [  26,  448,  117, 1323,  574,    4,    1],\n",
      "        [  14,  122, 1261,   49,  227,    8,    1],\n",
      "        [  12,   20,   54,   85,   16,    4,    1],\n",
      "        [2556,   19, 2873,   49,   97,    4,    1],\n",
      "        [ 126,  842,   15,  383,  742,    8,    1],\n",
      "        [  14,   20,   59,  705,   16,    4,    1],\n",
      "        [  14,   10, 3093,  213, 1668,    4,    1],\n",
      "        [  61,   20,  625,   16, 1415,    4,    1],\n",
      "        [  21,   18,   24,  108,  224,    4,    1],\n",
      "        [ 121, 1018,   77,   26, 1212,    4,    1],\n",
      "        [  61,   20,  512,   16, 3110,    4,    1],\n",
      "        [   9,  100,  483,   68, 2171,    4,    1],\n",
      "        [  78,  545,    5,    2,    2,    4,    1],\n",
      "        [   9,  277,  241, 1702, 1274,    4,    1],\n",
      "        [  41,    5,  284,  859,  810,    4,    1],\n",
      "        [  14,   25, 2103,   16,   61,    4,    1],\n",
      "        [ 700,  169,   18, 1351, 3003,    4,    1],\n",
      "        [  14,  122,  740,   27,  115,    4,    1],\n",
      "        [ 103,  395, 2386, 2105,  155,    4,    1],\n",
      "        [  15,  136,  976,   71, 1230,    8,    1],\n",
      "        [   9,   85,   96,   13,  542,    4,    1],\n",
      "        [  21,   18,   24,  282, 1115,    4,    1],\n",
      "        [  10,  111,   20,  429,   16,    4,    1],\n",
      "        [  14,  140,   10,  447,  464,    4,    1],\n",
      "        [  12,   20,   34, 1336,   16,    4,    1],\n",
      "        [  45,   10, 1174,  331,  255,    4,    1],\n",
      "        [  14,   20, 1361,   59,   16,    4,    1],\n",
      "        [  35,  428,   73,  167, 2471,    4,    1],\n",
      "        [  76,  405,   28,  874, 1295,    8,    1],\n",
      "        [  21, 1929,   10, 1952,  338,    4,    1],\n",
      "        [ 187,  206,  206,  916,  456,   47,    1],\n",
      "        [  98,   32, 1795,  465,   88,    4,    1],\n",
      "        [  23,   39, 1562,  656,  145,    8,    1],\n",
      "        [   6,  136,  277,   10,  158,    8,    1],\n",
      "        [  12,   20, 1987,   16,   96,    4,    1],\n",
      "        [  12,    5,   24,  298,  344,    4,    1],\n",
      "        [  14, 1034,   26,  137,    9,    4,    1],\n",
      "        [  10,  399,    5,   19,  463,    4,    1],\n",
      "        [  38,  486,  960,  516,   61,    8,    1],\n",
      "        [  25, 2395,   16,  489, 1801,    4,    1],\n",
      "        [  14,   56,  320, 1237,  192,    4,    1],\n",
      "        [  45,    5, 2137, 1946,   39,    4,    1],\n",
      "        [  12,    5,   24,  220, 1564,    4,    1],\n",
      "        [  14,  140, 1429,   33,  997,    4,    1],\n",
      "        [2738,   15,   27,  406,  838,    4,    1],\n",
      "        [ 653, 2752,  880,   26, 2015,    4,    1],\n",
      "        [  63,  684, 2875, 2832,  907,   47,    1],\n",
      "        [ 104,  593, 1060,  121,  106,    8,    1],\n",
      "        [ 669, 1240,   17,   53,  632,    8,    1],\n",
      "        [  30,   30,  661, 1000,  320,    4,    1],\n",
      "        [  45,    5,  607,   17, 1294,    4,    1],\n",
      "        [ 215,    6,  159,  245,  607,    8,    1],\n",
      "        [   9,   48,   68,   50,  895,    4,    1],\n",
      "        [  45,   15, 1934,   34, 1012,    4,    1],\n",
      "        [  14,   20, 1135,   16,   61,    4,    1],\n",
      "        [1802, 1827,  922,   13,  135,    8,    1],\n",
      "        [  21,   18,  483,   60, 1464,    4,    1],\n",
      "        [   9,  426,   90,   24,  860,    4,    1],\n",
      "        [ 179,    7,   19, 1623,  291,   47,    1],\n",
      "        [  14,   86, 1851,   55,  227,    4,    1]]), 'source_len': tensor([7, 7, 7, 7, 7, 7, 7, 7, 7, 7, 7, 7, 7, 7, 7, 7, 7, 7, 7, 7, 7, 7, 7, 7,\n",
      "        7, 7, 7, 7, 7, 7, 7, 7, 7, 7, 7, 7, 7, 7, 7, 7, 7, 7, 7, 7, 7, 7, 7, 7,\n",
      "        7, 7, 7, 7, 7, 7, 7, 7, 7, 7, 7, 7, 7, 7, 7, 7, 7, 7, 7, 7, 7, 7, 7, 7,\n",
      "        7]), 'target_len': tensor([7, 7, 7, 7, 7, 7, 7, 7, 7, 7, 7, 7, 7, 7, 7, 7, 7, 7, 7, 7, 7, 7, 7, 7,\n",
      "        7, 7, 7, 7, 7, 7, 7, 7, 7, 7, 7, 7, 7, 7, 7, 7, 7, 7, 7, 7, 7, 7, 7, 7,\n",
      "        7, 7, 7, 7, 7, 7, 7, 7, 7, 7, 7, 7, 7, 7, 7, 7, 7, 7, 7, 7, 7, 7, 7, 7,\n",
      "        7]), 'source_lang': 'en', 'target_lang': 'fr', 'reference': ['elle fut promue .', 'il lave sa voiture .', 'il est bon chanteur .', \"cherchez-vous quelqu' un ?\", 'je ne cache rien .', \"tom m' enseigne le français .\", 'elle lave la voiture .', 'elle est encore mineure .', 'pouvez-vous justifier votre réponse ?', 'tom est un bon ami .', 'puisse la fortune te sourire !', 'comment avez-vous répondu à tom ?', 'nous ne sommes plus amies .', \"l' enfant peut marcher seul .\", 'je peux courir avec toi ?', \"tom ne m' aime pas .\", 'restez en contact avec moi .', 'quel âge a cet arbre ?', 'je ne te comprends pas .', 'je le rapporterai .', 'ça ne sera pas long .', \"j' ai un peu mal .\", \"elles étudient l' après-midi .\", 'ça ne semble pas correct .', 'il avait perdu tout espoir .', 'sa chambre est girly .', 'il parle français couramment .', \"c' est immoral .\", \"je n' entends pas ça .\", 'j ’ ai hésité .', 'je peux conduire une voiture .', 'ma sœur pleure souvent .', 'a quoi ressemble vraiment londres ?', 'il aime beaucoup la musique .', \"j' ai un grand jardin .\", 'le train ne part pas .', 'je veux le surprendre .', 'tom ne me comprend pas .', 'elle le vénère .', 'je ne capte pas .', 'tu devrais y aller toi-même .', 'quand puis-je vous rendre visite ?', \"j' apprends le grec .\", 'saisissez ceci !', \"ils s' oublieront .\", 'que se passe-t-il ici ?', 'de quoi parle le livre ?', 'tom ne boit pas beaucoup .', 'tom est un voleur .', \"je déteste l' ail .\", 'le bus est en retard .', \"qu' est-il arrivé après ça ?\", \"n' oubliez pas vos affaires .\", 'je suis déjà préparée .', 'elle est rêveuse .', 'tom est un homme politique .', 'je veux perdre du poids .', 'italie a une histoire riche .', \"peut-être devrais-je étudier l' allemand .\", 'évadons-nous ensemble !', 'pourquoi font-elles cela ?', 'peux-tu répondre à cette question ?', 'nous nous connaissons déjà .', 'elle est partie à paris .', 'combien de temps es-tu partie ?', 'il fait tout très rapidement .', 'elle a voulu me rencontrer .', 'je ne voulais pas ça .', 'ai-je verrouillé la porte ?', \"j' ai perdu mon stylo .\", 'il vit comme un roi .', 'bien , en voilà assez !', 'je vais payer pour toi .']}\n"
     ]
    }
   ],
   "source": [
    "max_len = 30       # maximum 30 tokens per sentence (longer sequences will be truncated)\n",
    "batch_size = 512   # maximum 512 tokens per batch (decrease if you get OOM errors, increase to speed up training)\n",
    "\n",
    "reset_seed()\n",
    "\n",
    "train_iterator = BatchIterator(train_data, source_lang, target_lang, batch_size, max_len, shuffle=True)\n",
    "valid_iterator = BatchIterator(valid_data, source_lang, target_lang, batch_size, max_len, shuffle=False)\n",
    "test_iterator = BatchIterator(test_data, source_lang, target_lang, batch_size, max_len, shuffle=False)\n",
    "\n",
    "print('Example of training batch:')\n",
    "print(next(iter(train_iterator)))"
   ]
  },
  {
   "cell_type": "markdown",
   "metadata": {},
   "source": [
    "# Sequence to sequence models\n",
    "\n",
    "A Recurrent Neural Network, or RNN, is a network that operates on a\n",
    "sequence and uses its own output as input for subsequent steps.\n",
    "\n",
    "A `Sequence to Sequence network <http://arxiv.org/abs/1409.3215>`__, or\n",
    "seq2seq network, or `Encoder-Decoder\n",
    "network <https://arxiv.org/pdf/1406.1078v3.pdf>`__, is a model\n",
    "consisting of usually two RNNs called the encoder and decoder. The encoder reads\n",
    "an input sequence and outputs a single vector, and the decoder reads\n",
    "that vector to produce an output sequence. Essentially, all we need is some mechanism to read the source sentence and create an encoding and some mechanism to read the encoding and decode it to the target language. \n",
    "\n",
    "Unlike sequence prediction with a single RNN, where every input\n",
    "corresponds to an output, the seq2seq model frees us from sequence\n",
    "length and order, which makes it ideal for translation between two\n",
    "languages.\n",
    "\n",
    "Consider the sentence \"I am not the\n",
    "black cat\" → \"Je ne suis pas le chat noir\". Most of the words in the input sentence have a direct\n",
    "translation in the output sentence, but are in slightly different\n",
    "orders, e.g. \"chat noir\" and \"black cat\". Because of the \"ne/pas\"\n",
    "construction there is also one more word in the input sentence. It would\n",
    "be difficult to produce a correct translation directly from the sequence\n",
    "of input words.\n",
    "\n",
    "With a seq2seq model the encoder creates a single vector which, in the\n",
    "ideal case, encodes the meaning of the input sequence into a single\n",
    "vector — a single point in some N dimensional space of sentences.\n"
   ]
  },
  {
   "cell_type": "markdown",
   "metadata": {},
   "source": [
    "## The Encoder\n",
    "\n",
    "The encoder is anything which takes in a sentence and gives us a representation for the sentence. \n",
    "\n",
    "The encoder of a seq2seq network can be a RNN that outputs some value for\n",
    "every word from the input sentence. For every input word the encoder\n",
    "outputs a vector and a hidden state, and uses the hidden state for the\n",
    "next input word.\n",
    "\n",
    "However, we will start with a simpler Bag-of-Words encoder and then move on to more complex encoders.\n",
    "\n",
    "### Bag-of-Words encoder"
   ]
  },
  {
   "cell_type": "code",
   "execution_count": 15,
   "metadata": {},
   "outputs": [],
   "source": [
    "bow_encoder = models.BOW_Encoder(\n",
    "    source_dict=source_dict,\n",
    "    hidden_size=512,\n",
    "    num_layers=1,\n",
    "    dropout=0.1,\n",
    "    reduce='sum',\n",
    ")"
   ]
  },
  {
   "cell_type": "code",
   "execution_count": 16,
   "metadata": {},
   "outputs": [
    {
     "name": "stdout",
     "output_type": "stream",
     "text": [
      "BOW_Encoder(\n",
      "  (embedding): Embedding(3302, 512, padding_idx=3)\n",
      "  (dropout_layer): Dropout(p=0.1, inplace=False)\n",
      "  (activation): ReLU()\n",
      "  (layers): ModuleList(\n",
      "    (0): Linear(in_features=512, out_features=512, bias=True)\n",
      "  )\n",
      ")\n"
     ]
    }
   ],
   "source": [
    "print(bow_encoder)"
   ]
  },
  {
   "cell_type": "markdown",
   "metadata": {},
   "source": [
    "## The decoder\n",
    "\n",
    "The decoder is another network that takes the encoder's output vector(s) and outputs a sequence of words to create the translation.\n",
    "\n",
    "### Decoder without attention\n",
    "\n",
    "In the simplest seq2seq decoder we use only the last output of the encoder. This last output is sometimes called the context vector as it encodes context from the entire sequence.\n",
    "\n",
    "At every step of decoding, the decoder is given an input token and the encoder's context vector and it updates its internal state, which is then used to predict the next word. The initial input token is the start-of-sequence <SOS> token. The next inputs are the decoder's own predictions (at test time) or the ground-truth tokens (at train time)."
   ]
  },
  {
   "cell_type": "code",
   "execution_count": 17,
   "metadata": {},
   "outputs": [],
   "source": [
    "bow_decoder = models.RNN_Decoder(\n",
    "    target_dict=target_dict,\n",
    "    hidden_size=512,\n",
    "    num_layers=1,\n",
    "    dropout=0.1,\n",
    ")"
   ]
  },
  {
   "cell_type": "code",
   "execution_count": 18,
   "metadata": {},
   "outputs": [
    {
     "name": "stdout",
     "output_type": "stream",
     "text": [
      "RNN_Decoder(\n",
      "  (embedding): Embedding(3674, 512, padding_idx=3)\n",
      "  (dropout_layer): Dropout(p=0.1, inplace=False)\n",
      "  (gru): GRU(1024, 512, batch_first=True)\n",
      "  (out): Linear(in_features=512, out_features=3674, bias=True)\n",
      "  (softmax): LogSoftmax(dim=2)\n",
      ")\n"
     ]
    }
   ],
   "source": [
    "print(bow_decoder)"
   ]
  },
  {
   "cell_type": "code",
   "execution_count": 19,
   "metadata": {},
   "outputs": [],
   "source": [
    "bow_model = models.EncoderDecoder(\n",
    "    bow_encoder,\n",
    "    bow_decoder,\n",
    "    lr=0.001,\n",
    "    use_cuda=not cpu,\n",
    ")"
   ]
  },
  {
   "cell_type": "markdown",
   "metadata": {},
   "source": [
    "### Training code"
   ]
  },
  {
   "cell_type": "code",
   "execution_count": 20,
   "metadata": {},
   "outputs": [],
   "source": [
    "def evaluate_model(model, *test_or_valid_iterators, record=False):\n",
    "    \"\"\"\n",
    "    Evaluate given models with given test or validation sets. This will compute both chrF and validation loss.\n",
    "    \n",
    "    model: instance of models.EncoderDecoder\n",
    "    test_or_valid_iterators: list of BatchIterator\n",
    "    record: save scores in the model checkpoint\n",
    "    \"\"\"\n",
    "    scores = []\n",
    "    \n",
    "    # Compute chrF and valid loss over all test or validation sets\n",
    "    for iterator in test_or_valid_iterators:\n",
    "        src, tgt = iterator.source_lang, iterator.target_lang\n",
    "        loss = 0\n",
    "        for batch in iterator:\n",
    "            loss += model.eval_step(batch) / len(iterator)\n",
    "        translation_output = model.translate(iterator, postprocess)\n",
    "        score = translation_output.score\n",
    "\n",
    "        print(f'{src}-{tgt}: loss={loss:.2f}, chrF={score:.2f}')\n",
    "\n",
    "        if record:  # store the metrics in the model checkpoint\n",
    "            model.record(f'{src}_{tgt}_loss', loss)\n",
    "            model.record(f'{src}_{tgt}_chrf', score)\n",
    "        \n",
    "        scores.append(score)\n",
    "\n",
    "    # Average the validation chrF scores\n",
    "    score = sum(scores) / len(scores)\n",
    "    if len(scores) > 1:\n",
    "        print(f'chrF={score:.2f}')\n",
    "\n",
    "    return score\n",
    "\n",
    "\n",
    "def train_model(model, train_iterator, valid_iterators, checkpoint_path, epochs=10):\n",
    "    \"\"\"\n",
    "    Train given model for given number of epochs.\n",
    "    The best performing checkpoint (according to average chrF on \"valid_iterators\") will be saved\n",
    "    under 'checkpoint_path'.\n",
    "    \n",
    "    By default, the optimizer, epoch counter and learning rate scheduler are not reset.\n",
    "    This means that this function can be called several times:\n",
    "        train_model(epochs=2) is equivalent to train_model(epochs=1); train_model(epochs=1)\n",
    "    \n",
    "    model: instance of models.EncoderDecoder\n",
    "    train_iterator: instance of data.BatchIterator used for generating training batches\n",
    "    valid_iterators: list of BatchIterator used for evaluation\n",
    "    checkpoint_path: path where the model will be saved\n",
    "    epochs: iterate this many times over train_iterator\n",
    "    \"\"\"\n",
    "    epochs += model.epoch\n",
    "\n",
    "    reset_seed()\n",
    "\n",
    "    best_score = -1\n",
    "    for epoch in range(model.epoch + 1, epochs + 1):\n",
    "\n",
    "        start = time.time()\n",
    "        running_loss = 0\n",
    "\n",
    "        print(f'Epoch [{epoch}/{epochs}]')\n",
    "\n",
    "        # Iterate over training batches for one epoch\n",
    "        with tqdm(enumerate(train_iterator), total=len(train_iterator)) as t:\n",
    "\n",
    "            for i, batch in t:\n",
    "                running_loss += model.train_step(batch)\n",
    "                t.postfix = f' loss={running_loss / (i + 1):.3f}'\n",
    "\n",
    "        # Average training loss for this epoch\n",
    "        epoch_loss = running_loss / len(train_iterator)\n",
    "\n",
    "        print(f'loss={epoch_loss:.3f}, time={time.time() - start:.2f}')\n",
    "        model.record('train_loss', epoch_loss)\n",
    "\n",
    "        score = evaluate_model(model, *valid_iterators, record=True)\n",
    "\n",
    "        # Update the model's learning rate based on current performance.\n",
    "        # This scheduler divides the learning rate by 10 if chrF does not improve.\n",
    "        model.scheduler_step(score)\n",
    "\n",
    "        # Save a model checkpoint if it has the best validation chrF so far\n",
    "        if score > best_score:\n",
    "            best_score = score\n",
    "            model.save(checkpoint_path)\n",
    "\n",
    "        print('=' * 50)\n",
    "\n",
    "    print(f'Training completed. Best chrF is {best_score:.2f}')\n",
    "\n",
    "\n",
    "def plot_loss(model):\n",
    "    \"\"\"\n",
    "    Plot the training vs validation loss/chrf for the given model,\n",
    "    provided those metrics are stored in the checkpoint.\n",
    "    \"\"\"\n",
    "    metrics = model.metrics\n",
    "    epochs = sorted(metrics.keys())\n",
    "    train_loss = [metrics[epoch]['train_loss'] for epoch in epochs]\n",
    "    valid_loss = [\n",
    "        mean(v for k, v in metrics[epoch].items() if 'loss' in k and k != 'train_loss')\n",
    "        for epoch in epochs\n",
    "    ]\n",
    "    chrf = [\n",
    "        mean(v for k, v in metrics[epoch].items() if 'chrf' in k)\n",
    "        for epoch in epochs\n",
    "    ]\n",
    "    \n",
    "    fig, ax1 = plt.subplots()\n",
    "    ax2 = ax1.twinx()\n",
    "    ax1.plot(epochs, train_loss, linestyle='solid', label='Train loss')\n",
    "    ax1.plot(epochs, valid_loss, linestyle='dashdot', label='Valid loss')\n",
    "    ax2.plot(epochs, chrf, 'g--', label='Valid chrF')\n",
    "    ax1.set_xlabel('Epochs')\n",
    "    ax1.set_ylabel('Loss')\n",
    "    ax2.set_ylabel('chrF')\n",
    "    ax1.legend(loc='upper left')\n",
    "    ax2.legend(loc='upper right')"
   ]
  },
  {
   "cell_type": "markdown",
   "metadata": {},
   "source": [
    "### Train a model with BOW encoder and RNN decoder (or load a pre-trained model)"
   ]
  },
  {
   "cell_type": "code",
   "execution_count": 21,
   "metadata": {},
   "outputs": [
    {
     "name": "stdout",
     "output_type": "stream",
     "text": [
      "checkpoint path: ./pretrained_models/en-fr/bow.pt\n"
     ]
    },
    {
     "data": {
      "image/png": "[encoded data removed]",
      "text/plain": [
       "<Figure size 432x288 with 2 Axes>"
      ]
     },
     "metadata": {
      "needs_background": "light"
     },
     "output_type": "display_data"
    }
   ],
   "source": [
    "# Set this value to True to train your own model. By default, a pre-trained model will be loaded.\n",
    "# Tip: you can set \"epochs\" to a small value (e.g., 2) and re-run this cell several times to continue training you model (`train_model` does not reset the model)\n",
    "# Note that you can load the pre-trained model, then re-run this cell with train_again=False to continue training it\n",
    "train_again = False\n",
    "\n",
    "if train_again:\n",
    "    checkpoint_path = os.path.join(model_dir, 'bow.pt')\n",
    "else:\n",
    "    checkpoint_path = os.path.join(pretrained_model_dir, 'bow.pt')\n",
    "\n",
    "print('checkpoint path:', checkpoint_path)\n",
    "\n",
    "if os.path.exists(checkpoint_path) and not train_again:\n",
    "    bow_model.load(checkpoint_path)   # trained for 10 epochs\n",
    "else:\n",
    "    train_model(bow_model, train_iterator, [valid_iterator],\n",
    "                epochs=2,\n",
    "                checkpoint_path=checkpoint_path)\n",
    "\n",
    "plot_loss(bow_model)"
   ]
  },
  {
   "cell_type": "markdown",
   "metadata": {},
   "source": [
    "### Compute chrF on the test set"
   ]
  },
  {
   "cell_type": "code",
   "execution_count": 22,
   "metadata": {},
   "outputs": [
    {
     "name": "stdout",
     "output_type": "stream",
     "text": [
      "en-fr: loss=2.14, chrF=41.13\n"
     ]
    }
   ],
   "source": [
    "chrf = evaluate_model(bow_model, test_iterator)"
   ]
  },
  {
   "cell_type": "markdown",
   "metadata": {},
   "source": [
    "### Interact with the model"
   ]
  },
  {
   "cell_type": "code",
   "execution_count": 23,
   "metadata": {},
   "outputs": [],
   "source": [
    "def show_attention(input, output, attention_weights):\n",
    "    \"\"\"\n",
    "    Plot an encoder-decoder attention matrix\n",
    "    \"\"\"\n",
    "    fig = plt.figure()\n",
    "    ax = fig.add_subplot(111)\n",
    "    fig.colorbar(ax.matshow(attention_weights, cmap='bone', aspect='auto'))\n",
    "    xlabels = input.split() + [data.EOS_TOKEN]\n",
    "    ylabels = output.split() + [data.EOS_TOKEN]\n",
    "    ax.set_xticks(range(len(xlabels)))\n",
    "    ax.set_xticklabels(xlabels, rotation=90)\n",
    "    ax.set_yticks(range(len(ylabels)))\n",
    "    ax.set_yticklabels(ylabels)\n",
    "    plt.show()\n",
    "\n",
    "\n",
    "def encode_as_batch(sentence, dictionary):\n",
    "    \"\"\"\n",
    "    Create a batch from a single sentence\n",
    "    \"\"\"\n",
    "    sentence = f'{sentence} {data.EOS_TOKEN}'\n",
    "    tensor = dictionary.txt2vec(sentence).unsqueeze(0)\n",
    "    return {\n",
    "        'source': tensor,\n",
    "        'source_len': torch.tensor(tensor.shape[-1:]),\n",
    "    }\n",
    "\n",
    "\n",
    "def translate(model, sentence, preprocess=preprocess, source_lang=source_lang, target_lang=target_lang,\n",
    "              return_output=False):\n",
    "    \"\"\"\n",
    "    Translate given sentence with given model. Also show translation outputs by Google Translate for comparison.\n",
    "\n",
    "    sentence (str): sentence to translate\n",
    "    preprocess: function used to tokenize the input sentence\n",
    "    source_lang (str): source language code (used for Google Translate and as a parameter to \"preprocess\")\n",
    "    target_lang (str): target language code (used for Google Translate and as a parameter to \"preprocess\")\n",
    "    return_output: if True, returns the translation and attention matrices. If False, just prints the translations.\n",
    "    \"\"\"\n",
    "    sentence_tok, _ = preprocess(sentence, target_line=None, source_lang=source_lang, target_lang=target_lang)\n",
    "    print('Tokenized source:', sentence_tok)\n",
    "    batch = encode_as_batch(sentence_tok, model.source_dict)\n",
    "    prediction, attn_matrix, enc_self_attn = model.decoding_step(batch)\n",
    "    prediction = prediction[0]\n",
    "    prediction_detok = postprocess(prediction)\n",
    "    print('Prediction:', prediction)\n",
    "    print('Detokenized prediction:', prediction_detok)\n",
    "\n",
    "    print('Google Translate ({}->{}): {}'.format(\n",
    "        source_lang,\n",
    "        target_lang,\n",
    "        google_translator.translate(sentence, src=source_lang, dest=target_lang).text,\n",
    "    ))\n",
    "    print('Google Translate on prediction ({}->{}): {}'.format(\n",
    "        target_lang,\n",
    "        source_lang,\n",
    "        google_translator.translate(prediction_detok, src=target_lang, dest=source_lang).text,\n",
    "    ))\n",
    "\n",
    "    results = {\n",
    "        'source_tokens': sentence_tok.split() + ['<eos>'],\n",
    "        'prediction_detok': prediction_detok,\n",
    "        'prediction_tokens': prediction.split(),\n",
    "    }\n",
    "\n",
    "    if attn_matrix is not None:\n",
    "        attn_matrix = attn_matrix[0].detach().cpu().numpy()\n",
    "        results['attention_matrix'] = attn_matrix\n",
    "        show_attention(sentence_tok, prediction, attn_matrix)\n",
    "    \n",
    "    if enc_self_attn is not None:\n",
    "        results['encoder_self_attention_list'] = enc_self_attn\n",
    "    \n",
    "    if return_output:\n",
    "        return results"
   ]
  },
  {
   "cell_type": "code",
   "execution_count": 24,
   "metadata": {},
   "outputs": [
    {
     "name": "stdout",
     "output_type": "stream",
     "text": [
      "Tokenized source: hello how are you ?\n",
      "Prediction: sal@@ ut , comment vas-tu ?\n",
      "Detokenized prediction: salut , comment vas-tu ?\n",
      "Google Translate (en->fr): Bonjour comment vas-tu ?\n",
      "Google Translate on prediction (fr->en): Hi, how are you ?\n"
     ]
    }
   ],
   "source": [
    "# Translate some English sentence with the model\n",
    "translate(bow_model, 'hello how are you ?')\n",
    "# The Google Translate outputs are shown for reference to non-French speakers:\n",
    "# - The en->fr output is a high-quality translation of the input sentence\n",
    "# - The fr->en output is a translation back into English of our model's French translation (so that you can assess its quality)"
   ]
  },
  {
   "cell_type": "markdown",
   "metadata": {},
   "source": [
    "The biggest limitation of a Bag-of-Words encoder is that it is insensitive to word order: <br>\n",
    "when shuffling the words in the previous sentence, you get the same output."
   ]
  },
  {
   "cell_type": "code",
   "execution_count": 25,
   "metadata": {},
   "outputs": [
    {
     "name": "stdout",
     "output_type": "stream",
     "text": [
      "Tokenized source: you are hello ? how\n",
      "Prediction: sal@@ ut , comment vas-tu ?\n",
      "Detokenized prediction: salut , comment vas-tu ?\n",
      "Google Translate (en->fr): tu es bonjour ? comment\n",
      "Google Translate on prediction (fr->en): Hi, how are you ?\n"
     ]
    }
   ],
   "source": [
    "translate(bow_model, 'you are hello ? how')"
   ]
  },
  {
   "cell_type": "code",
   "execution_count": 26,
   "metadata": {},
   "outputs": [
    {
     "name": "stdout",
     "output_type": "stream",
     "text": [
      "Tokenized source: she 's five years older than me .\n",
      "Prediction: elle a plus de cinq ans que moi .\n",
      "Detokenized prediction: elle a plus de cinq ans que moi .\n",
      "Google Translate (en->fr): elle a cinq ans de plus que moi .\n",
      "Google Translate on prediction (fr->en): she is more than five years old than me.\n"
     ]
    }
   ],
   "source": [
    "translate(bow_model, \"she 's five years older than me .\")"
   ]
  },
  {
   "cell_type": "markdown",
   "metadata": {},
   "source": [
    "## RNN encoder + RNN decoder\n",
    "\n",
    "Now let's look at a more powerful model, which also uses an RNN for encoding the source sequence. Contrary to the Bag-of-Words encoder, it is sensitive to word order."
   ]
  },
  {
   "cell_type": "code",
   "execution_count": 27,
   "metadata": {},
   "outputs": [],
   "source": [
    "rnn_encoder = models.RNN_Encoder(\n",
    "    source_dict=source_dict,\n",
    "    hidden_size=512,\n",
    "    num_layers=1,\n",
    "    dropout=0.1,\n",
    ")"
   ]
  },
  {
   "cell_type": "code",
   "execution_count": 28,
   "metadata": {},
   "outputs": [
    {
     "name": "stdout",
     "output_type": "stream",
     "text": [
      "RNN_Encoder(\n",
      "  (embedding): Embedding(3302, 512, padding_idx=3)\n",
      "  (dropout_layer): Dropout(p=0.1, inplace=False)\n",
      "  (gru): GRU(512, 512, batch_first=True)\n",
      ")\n"
     ]
    }
   ],
   "source": [
    "print(rnn_encoder)"
   ]
  },
  {
   "cell_type": "code",
   "execution_count": 29,
   "metadata": {},
   "outputs": [],
   "source": [
    "rnn_decoder = models.RNN_Decoder(\n",
    "    target_dict=target_dict,\n",
    "    hidden_size=512,\n",
    "    num_layers=1,\n",
    "    dropout=0.1,\n",
    ")"
   ]
  },
  {
   "cell_type": "code",
   "execution_count": 30,
   "metadata": {},
   "outputs": [
    {
     "name": "stdout",
     "output_type": "stream",
     "text": [
      "RNN_Decoder(\n",
      "  (embedding): Embedding(3674, 512, padding_idx=3)\n",
      "  (dropout_layer): Dropout(p=0.1, inplace=False)\n",
      "  (gru): GRU(1024, 512, batch_first=True)\n",
      "  (out): Linear(in_features=512, out_features=3674, bias=True)\n",
      "  (softmax): LogSoftmax(dim=2)\n",
      ")\n"
     ]
    }
   ],
   "source": [
    "print(rnn_decoder)"
   ]
  },
  {
   "cell_type": "code",
   "execution_count": 31,
   "metadata": {},
   "outputs": [],
   "source": [
    "rnn_model = models.EncoderDecoder(\n",
    "    rnn_encoder,\n",
    "    rnn_decoder,\n",
    "    lr=0.001,\n",
    "    use_cuda=not cpu,\n",
    ")"
   ]
  },
  {
   "cell_type": "markdown",
   "metadata": {},
   "source": [
    "### Train a model with RNN encoder and RNN decoder (or load a pre-trained model)"
   ]
  },
  {
   "cell_type": "code",
   "execution_count": 32,
   "metadata": {},
   "outputs": [
    {
     "name": "stdout",
     "output_type": "stream",
     "text": [
      "checkpoint path: ./pretrained_models/en-fr/rnn.pt\n"
     ]
    },
    {
     "data": {
      "image/png": "[encoded data removed]",
      "text/plain": [
       "<Figure size 432x288 with 2 Axes>"
      ]
     },
     "metadata": {
      "needs_background": "light"
     },
     "output_type": "display_data"
    }
   ],
   "source": [
    "# Set this value to True to train your own model. By default, a pre-trained model will be loaded.\n",
    "# Tip: you can set \"epochs\" to a small value (e.g., 2) and re-run this cell several times to continue training you model (`train_model` does not reset the model)\n",
    "# Note that you can load the pre-trained model, then re-run this cell with train_again=False to continue training it\n",
    "train_again = False\n",
    "\n",
    "if train_again:\n",
    "    checkpoint_path = os.path.join(model_dir, 'rnn.pt')\n",
    "else:\n",
    "    checkpoint_path = os.path.join(pretrained_model_dir, 'rnn.pt')\n",
    "\n",
    "print('checkpoint path:', checkpoint_path)\n",
    "\n",
    "if os.path.exists(checkpoint_path) and not train_again:\n",
    "    rnn_model.load(checkpoint_path)   # trained for 10 epochs\n",
    "else:\n",
    "    train_model(rnn_model, train_iterator, [valid_iterator],\n",
    "                epochs=2,\n",
    "                checkpoint_path=checkpoint_path)\n",
    "\n",
    "plot_loss(rnn_model)"
   ]
  },
  {
   "cell_type": "markdown",
   "metadata": {},
   "source": [
    "### Compute chrF on the test set"
   ]
  },
  {
   "cell_type": "code",
   "execution_count": 33,
   "metadata": {},
   "outputs": [
    {
     "name": "stdout",
     "output_type": "stream",
     "text": [
      "en-fr: loss=1.87, chrF=44.40\n"
     ]
    }
   ],
   "source": [
    "chrf = evaluate_model(rnn_model, test_iterator)"
   ]
  },
  {
   "cell_type": "markdown",
   "metadata": {},
   "source": [
    "### Interact with the model"
   ]
  },
  {
   "cell_type": "code",
   "execution_count": 34,
   "metadata": {},
   "outputs": [
    {
     "name": "stdout",
     "output_type": "stream",
     "text": [
      "Tokenized source: hello how are you ?\n",
      "Prediction: sal@@ ut , comment ça va ?\n",
      "Detokenized prediction: salut , comment ça va ?\n",
      "Google Translate (en->fr): Bonjour comment vas-tu ?\n",
      "Google Translate on prediction (fr->en): Hi how are you ?\n"
     ]
    }
   ],
   "source": [
    "translate(rnn_model, 'hello how are you ?')"
   ]
  },
  {
   "cell_type": "markdown",
   "metadata": {},
   "source": [
    "#### Contrary to the BoW encoder, an RNN is sensitive to word ordering"
   ]
  },
  {
   "cell_type": "code",
   "execution_count": 35,
   "metadata": {},
   "outputs": [
    {
     "name": "stdout",
     "output_type": "stream",
     "text": [
      "Tokenized source: you are hello ? how\n",
      "Prediction: sal@@ ut comment ?\n",
      "Detokenized prediction: salut comment ?\n",
      "Google Translate (en->fr): tu es bonjour ? comment\n",
      "Google Translate on prediction (fr->en): Hi how ?\n"
     ]
    }
   ],
   "source": [
    "translate(rnn_model, 'you are hello ? how')"
   ]
  },
  {
   "cell_type": "code",
   "execution_count": 36,
   "metadata": {},
   "outputs": [
    {
     "name": "stdout",
     "output_type": "stream",
     "text": [
      "Tokenized source: she 's five years older than me .\n",
      "Prediction: elle est plus â@@ gée que moi .\n",
      "Detokenized prediction: elle est plus âgée que moi .\n",
      "Google Translate (en->fr): elle a cinq ans de plus que moi .\n",
      "Google Translate on prediction (fr->en): she is older than me.\n"
     ]
    }
   ],
   "source": [
    "translate(rnn_model, \"she 's five years older than me .\")"
   ]
  },
  {
   "cell_type": "code",
   "execution_count": 37,
   "metadata": {},
   "outputs": [
    {
     "name": "stdout",
     "output_type": "stream",
     "text": [
      "Tokenized source: i know that the last thing you want to do is help me .\n",
      "Prediction: je sais que la dernière chose que je veu@@ ille faire est de faire vous aider .\n",
      "Detokenized prediction: je sais que la dernière chose que je veuille faire est de faire vous aider .\n",
      "Google Translate (en->fr): Je sais que la dernière chose que tu veux faire est de m'aider.\n",
      "Google Translate on prediction (fr->en): I know the last thing I want to do is get help from you.\n"
     ]
    }
   ],
   "source": [
    "translate(rnn_model, 'i know that the last thing you want to do is help me .')"
   ]
  },
  {
   "cell_type": "markdown",
   "metadata": {},
   "source": [
    "## RNN encoder + RNN decoder with encoder-decoder attention\n",
    "\n",
    "The previous model is limited as it needs to encode the entire source sentence into a single fixed-size vector. In this exercise, this is not a big limitation as we're dealing with very short inputs, but in real world tasks you may need to encode much longer sequences (e.g., long sentences, full documents, speech inputs, images, etc.)\n",
    "\n",
    "We will now see a similar model, but which uses an attention mechanism to look at all the encoder states, not just the last one."
   ]
  },
  {
   "cell_type": "code",
   "execution_count": 38,
   "metadata": {},
   "outputs": [],
   "source": [
    "rnn_attn_encoder = models.RNN_Encoder(\n",
    "    source_dict=source_dict,\n",
    "    hidden_size=512,\n",
    "    num_layers=1,\n",
    "    dropout=0.1,\n",
    ")"
   ]
  },
  {
   "cell_type": "code",
   "execution_count": 39,
   "metadata": {},
   "outputs": [
    {
     "name": "stdout",
     "output_type": "stream",
     "text": [
      "RNN_Encoder(\n",
      "  (embedding): Embedding(3302, 512, padding_idx=3)\n",
      "  (dropout_layer): Dropout(p=0.1, inplace=False)\n",
      "  (gru): GRU(512, 512, batch_first=True)\n",
      ")\n"
     ]
    }
   ],
   "source": [
    " print(rnn_attn_encoder)"
   ]
  },
  {
   "cell_type": "code",
   "execution_count": 40,
   "metadata": {},
   "outputs": [],
   "source": [
    "rnn_attn_decoder = models.AttentionDecoder(\n",
    "    target_dict=target_dict,\n",
    "    hidden_size=512,\n",
    "    num_layers=1,\n",
    "    dropout=0.1,\n",
    ")"
   ]
  },
  {
   "cell_type": "code",
   "execution_count": 41,
   "metadata": {},
   "outputs": [
    {
     "name": "stdout",
     "output_type": "stream",
     "text": [
      "AttentionDecoder(\n",
      "  (embedding): Embedding(3674, 512, padding_idx=3)\n",
      "  (dropout_layer): Dropout(p=0.1, inplace=False)\n",
      "  (gru): GRU(1024, 512)\n",
      "  (out): Linear(in_features=512, out_features=3674, bias=True)\n",
      "  (attention): AttentionModule(\n",
      "    (l1): Linear(in_features=512, out_features=512, bias=False)\n",
      "    (l2): Linear(in_features=1024, out_features=512, bias=False)\n",
      "  )\n",
      "  (softmax): LogSoftmax(dim=1)\n",
      ")\n"
     ]
    }
   ],
   "source": [
    "print(rnn_attn_decoder)"
   ]
  },
  {
   "cell_type": "code",
   "execution_count": 42,
   "metadata": {},
   "outputs": [],
   "source": [
    "rnn_attn_model = models.EncoderDecoder(\n",
    "    rnn_attn_encoder,\n",
    "    rnn_attn_decoder,\n",
    "    lr=0.0005,\n",
    "    use_cuda=not cpu,\n",
    ")"
   ]
  },
  {
   "cell_type": "markdown",
   "metadata": {},
   "source": [
    "### Train a model with RNN Encoder and RNN Decoder with attention (or load a pre-trained model)"
   ]
  },
  {
   "cell_type": "code",
   "execution_count": 43,
   "metadata": {},
   "outputs": [
    {
     "name": "stdout",
     "output_type": "stream",
     "text": [
      "checkpoint path: ./pretrained_models/en-fr/rnn-attn.pt\n"
     ]
    }
   ],
   "source": [
    "# Set this value to True to train your own model. By default, a pre-trained model will be loaded.\n",
    "# Tip: you can set \"epochs\" to a small value (e.g., 2) and re-run this cell several times to continue training you model (`train_model` does not reset the model)\n",
    "# Note that you can load the pre-trained model, then re-run this cell with train_again=False to continue training it\n",
    "train_again = False\n",
    "\n",
    "if train_again:\n",
    "    checkpoint_path = os.path.join(model_dir, 'rnn-attn.pt')\n",
    "else:\n",
    "    checkpoint_path = os.path.join(pretrained_model_dir, 'rnn-attn.pt')\n",
    "\n",
    "print('checkpoint path:', checkpoint_path)\n",
    "\n",
    "if os.path.exists(checkpoint_path) and not train_again:\n",
    "    rnn_attn_model.load(checkpoint_path)   # trained for 10 epochs\n",
    "else:\n",
    "    train_model(rnn_attn_model, train_iterator, [valid_iterator],\n",
    "                epochs=2,\n",
    "                checkpoint_path=checkpoint_path)"
   ]
  },
  {
   "cell_type": "markdown",
   "metadata": {},
   "source": [
    "### Compute chrF on the test set"
   ]
  },
  {
   "cell_type": "code",
   "execution_count": 44,
   "metadata": {},
   "outputs": [
    {
     "name": "stdout",
     "output_type": "stream",
     "text": [
      "en-fr: loss=1.59, chrF=49.90\n"
     ]
    }
   ],
   "source": [
    "chrf = evaluate_model(rnn_attn_model, test_iterator)"
   ]
  },
  {
   "cell_type": "markdown",
   "metadata": {},
   "source": [
    "### Interact with the model and visualize attention matrices"
   ]
  },
  {
   "cell_type": "code",
   "execution_count": 45,
   "metadata": {},
   "outputs": [
    {
     "name": "stdout",
     "output_type": "stream",
     "text": [
      "Tokenized source: hello how are you ?\n",
      "Prediction: bonjour ?\n",
      "Detokenized prediction: bonjour ?\n",
      "Google Translate (en->fr): Bonjour comment vas-tu ?\n",
      "Google Translate on prediction (fr->en): Hello ?\n"
     ]
    },
    {
     "data": {
      "image/png": "[encoded data removed]",
      "text/plain": [
       "<Figure size 432x288 with 2 Axes>"
      ]
     },
     "metadata": {
      "needs_background": "light"
     },
     "output_type": "display_data"
    }
   ],
   "source": [
    "translate(rnn_attn_model, 'hello how are you ?')\n",
    "# The heatmap below shows how much attention is given to each source position by decoder time step.\n",
    "# We see for instance that when generating the word \"bonjour\", the decoder looks at encoder state of source word \"hello\""
   ]
  },
  {
   "cell_type": "code",
   "execution_count": 46,
   "metadata": {},
   "outputs": [
    {
     "name": "stdout",
     "output_type": "stream",
     "text": [
      "Tokenized source: she 's five years older than me .\n",
      "Prediction: elle est cinq ans plus â@@ gée que moi .\n",
      "Detokenized prediction: elle est cinq ans plus âgée que moi .\n",
      "Google Translate (en->fr): elle a cinq ans de plus que moi .\n",
      "Google Translate on prediction (fr->en): she is five years older than me.\n"
     ]
    },
    {
     "data": {
      "image/png": "[encoded data removed]",
      "text/plain": [
       "<Figure size 432x288 with 2 Axes>"
      ]
     },
     "metadata": {
      "needs_background": "light"
     },
     "output_type": "display_data"
    }
   ],
   "source": [
    "translate(rnn_attn_model, \"she 's five years older than me .\")"
   ]
  },
  {
   "cell_type": "code",
   "execution_count": 47,
   "metadata": {},
   "outputs": [
    {
     "name": "stdout",
     "output_type": "stream",
     "text": [
      "Tokenized source: i know that the last thing you want to do is help me .\n",
      "Prediction: je sais que la dernière chose que vous vou@@ liez m' aider .\n",
      "Detokenized prediction: je sais que la dernière chose que vous vouliez m' aider .\n",
      "Google Translate (en->fr): Je sais que la dernière chose que tu veux faire est de m'aider.\n",
      "Google Translate on prediction (fr->en): I know the last thing you wanted to help me with.\n"
     ]
    },
    {
     "data": {
      "image/png": "[encoded data removed]",
      "text/plain": [
       "<Figure size 432x288 with 2 Axes>"
      ]
     },
     "metadata": {
      "needs_background": "light"
     },
     "output_type": "display_data"
    }
   ],
   "source": [
    "translate(rnn_attn_model, 'i know that the last thing you want to do is help me .')"
   ]
  },
  {
   "cell_type": "markdown",
   "metadata": {},
   "source": [
    "## Transformer model\n",
    "\n",
    "[Transformer](https://arxiv.org/abs/1706.03762) is currently the state-of-the-art for Machine Translation. The encoder uses self-attention over the previous layers. The decoder combines self-attention and encoder-decoder attention."
   ]
  },
  {
   "cell_type": "code",
   "execution_count": 48,
   "metadata": {},
   "outputs": [],
   "source": [
    "transformer_encoder = models.TransformerEncoder(\n",
    "    source_dict=source_dict,\n",
    "    hidden_size=512,\n",
    "    num_layers=2,\n",
    "    dropout=0.1,\n",
    "    heads=4,\n",
    ")"
   ]
  },
  {
   "cell_type": "code",
   "execution_count": 49,
   "metadata": {},
   "outputs": [
    {
     "name": "stdout",
     "output_type": "stream",
     "text": [
      "TransformerEncoder(\n",
      "  (embedding): Embedding(3302, 512, padding_idx=3)\n",
      "  (dropout_layer): Dropout(p=0.1, inplace=False)\n",
      "  (embed_positions): PositionalEncoding()\n",
      "  (layers): ModuleList(\n",
      "    (0): TransformerEncoderLayer(\n",
      "      (self_attn): MultiheadAttention(\n",
      "        (dropout): Dropout(p=0.1, inplace=False)\n",
      "        (k_proj): Linear(in_features=512, out_features=512, bias=True)\n",
      "        (v_proj): Linear(in_features=512, out_features=512, bias=True)\n",
      "        (q_proj): Linear(in_features=512, out_features=512, bias=True)\n",
      "        (out_proj): Linear(in_features=512, out_features=512, bias=True)\n",
      "      )\n",
      "      (linear1): Linear(in_features=512, out_features=512, bias=True)\n",
      "      (dropout): Dropout(p=0.1, inplace=False)\n",
      "      (linear2): Linear(in_features=512, out_features=512, bias=True)\n",
      "      (norm1): LayerNorm((512,), eps=1e-05, elementwise_affine=True)\n",
      "      (norm2): LayerNorm((512,), eps=1e-05, elementwise_affine=True)\n",
      "      (dropout1): Dropout(p=0.1, inplace=False)\n",
      "      (dropout2): Dropout(p=0.1, inplace=False)\n",
      "    )\n",
      "    (1): TransformerEncoderLayer(\n",
      "      (self_attn): MultiheadAttention(\n",
      "        (dropout): Dropout(p=0.1, inplace=False)\n",
      "        (k_proj): Linear(in_features=512, out_features=512, bias=True)\n",
      "        (v_proj): Linear(in_features=512, out_features=512, bias=True)\n",
      "        (q_proj): Linear(in_features=512, out_features=512, bias=True)\n",
      "        (out_proj): Linear(in_features=512, out_features=512, bias=True)\n",
      "      )\n",
      "      (linear1): Linear(in_features=512, out_features=512, bias=True)\n",
      "      (dropout): Dropout(p=0.1, inplace=False)\n",
      "      (linear2): Linear(in_features=512, out_features=512, bias=True)\n",
      "      (norm1): LayerNorm((512,), eps=1e-05, elementwise_affine=True)\n",
      "      (norm2): LayerNorm((512,), eps=1e-05, elementwise_affine=True)\n",
      "      (dropout1): Dropout(p=0.1, inplace=False)\n",
      "      (dropout2): Dropout(p=0.1, inplace=False)\n",
      "    )\n",
      "  )\n",
      ")\n"
     ]
    }
   ],
   "source": [
    "print(transformer_encoder)"
   ]
  },
  {
   "cell_type": "code",
   "execution_count": 50,
   "metadata": {},
   "outputs": [],
   "source": [
    "transformer_decoder = models.TransformerDecoder(\n",
    "    target_dict=target_dict,\n",
    "    hidden_size=512,\n",
    "    num_layers=1,\n",
    "    heads=4,\n",
    "    dropout=0.1,\n",
    ")"
   ]
  },
  {
   "cell_type": "code",
   "execution_count": 51,
   "metadata": {},
   "outputs": [
    {
     "name": "stdout",
     "output_type": "stream",
     "text": [
      "TransformerDecoder(\n",
      "  (embedding): Embedding(3674, 512, padding_idx=3)\n",
      "  (dropout_layer): Dropout(p=0.1, inplace=False)\n",
      "  (embed_positions): PositionalEncoding()\n",
      "  (layers): ModuleList(\n",
      "    (0): TransformerDecoderLayer(\n",
      "      (self_attn): MultiheadAttention(\n",
      "        (dropout): Dropout(p=0.1, inplace=False)\n",
      "        (k_proj): Linear(in_features=512, out_features=512, bias=True)\n",
      "        (v_proj): Linear(in_features=512, out_features=512, bias=True)\n",
      "        (q_proj): Linear(in_features=512, out_features=512, bias=True)\n",
      "        (out_proj): Linear(in_features=512, out_features=512, bias=True)\n",
      "      )\n",
      "      (multihead_attn): MultiheadAttention(\n",
      "        (dropout): Dropout(p=0.1, inplace=False)\n",
      "        (k_proj): Linear(in_features=512, out_features=512, bias=True)\n",
      "        (v_proj): Linear(in_features=512, out_features=512, bias=True)\n",
      "        (q_proj): Linear(in_features=512, out_features=512, bias=True)\n",
      "        (out_proj): Linear(in_features=512, out_features=512, bias=True)\n",
      "      )\n",
      "      (linear1): Linear(in_features=512, out_features=512, bias=True)\n",
      "      (dropout): Dropout(p=0.1, inplace=False)\n",
      "      (linear2): Linear(in_features=512, out_features=512, bias=True)\n",
      "      (norm1): LayerNorm((512,), eps=1e-05, elementwise_affine=True)\n",
      "      (norm2): LayerNorm((512,), eps=1e-05, elementwise_affine=True)\n",
      "      (norm3): LayerNorm((512,), eps=1e-05, elementwise_affine=True)\n",
      "      (dropout1): Dropout(p=0.1, inplace=False)\n",
      "      (dropout2): Dropout(p=0.1, inplace=False)\n",
      "      (dropout3): Dropout(p=0.1, inplace=False)\n",
      "    )\n",
      "  )\n",
      "  (out): Linear(in_features=512, out_features=3674, bias=True)\n",
      "  (softmax): LogSoftmax(dim=2)\n",
      ")\n"
     ]
    }
   ],
   "source": [
    "print(transformer_decoder)"
   ]
  },
  {
   "cell_type": "code",
   "execution_count": 52,
   "metadata": {},
   "outputs": [],
   "source": [
    "transformer_model = models.EncoderDecoder(\n",
    "    transformer_encoder,\n",
    "    transformer_decoder,\n",
    "    lr=0.0005,\n",
    "    use_cuda=not cpu,\n",
    ")"
   ]
  },
  {
   "cell_type": "markdown",
   "metadata": {},
   "source": [
    "Note that in this notebook, we're using the same learning rate scheduler for all models:\n",
    "`torch.optim.lr_scheduler.ReduceLROnPlateau`, which reduces the learning rate when the validation score (chrF)\n",
    "does not increase enough.\n",
    "Feel free to experiment with other schedulers, using the `scheduler_fn` and `scheduler_args` parameters.\n",
    "Transformers are often trained with warmup: starting with a small learning rate,\n",
    "increasing it up to a maximum value for the first N steps, them slowly decreasing it.\n",
    "\n",
    "Deeper models can also be trained (Transformer encoders and decoders are often at least 6 layers). Regularization (`dropout` parameter) might need to be modified accordingly to avoid overfitting."
   ]
  },
  {
   "cell_type": "markdown",
   "metadata": {},
   "source": [
    "### Train a Transformer model (or load a pre-trained model)"
   ]
  },
  {
   "cell_type": "code",
   "execution_count": 53,
   "metadata": {},
   "outputs": [
    {
     "name": "stdout",
     "output_type": "stream",
     "text": [
      "checkpoint path: ./pretrained_models/en-fr/transformer.pt\n"
     ]
    }
   ],
   "source": [
    "# Set this value to True to train your own model. By default, a pre-trained model will be loaded.\n",
    "# Tip: you can set \"epochs\" to a small value (e.g., 2) and re-run this cell several times to continue training you model (`train_model` does not reset the model)\n",
    "# Note that you can load the pre-trained model, then re-run this cell with train_again=False to continue training it\n",
    "train_again = False\n",
    "\n",
    "if train_again:\n",
    "    checkpoint_path = os.path.join(model_dir, 'transformer.pt')\n",
    "else:\n",
    "    checkpoint_path = os.path.join(pretrained_model_dir, 'transformer.pt')\n",
    "\n",
    "print('checkpoint path:', checkpoint_path)\n",
    "\n",
    "if os.path.exists(checkpoint_path) and not train_again:\n",
    "    transformer_model.load(checkpoint_path)   # trained for 10 epochs\n",
    "else:\n",
    "    train_model(transformer_model, train_iterator, [valid_iterator],\n",
    "                epochs=2,\n",
    "                checkpoint_path=checkpoint_path)"
   ]
  },
  {
   "cell_type": "markdown",
   "metadata": {},
   "source": [
    "### Compute chrF on the test set"
   ]
  },
  {
   "cell_type": "code",
   "execution_count": 54,
   "metadata": {},
   "outputs": [
    {
     "name": "stdout",
     "output_type": "stream",
     "text": [
      "en-fr: loss=1.89, chrF=56.27\n"
     ]
    }
   ],
   "source": [
    "chrf = evaluate_model(transformer_model, test_iterator)"
   ]
  },
  {
   "cell_type": "markdown",
   "metadata": {},
   "source": [
    "### Interact with the model"
   ]
  },
  {
   "cell_type": "code",
   "execution_count": 55,
   "metadata": {},
   "outputs": [],
   "source": [
    "# bertviz: tool for visualizing attention in the Transformer model\n",
    "from bertviz import head_view, model_view"
   ]
  },
  {
   "cell_type": "code",
   "execution_count": 56,
   "metadata": {},
   "outputs": [
    {
     "data": {
      "application/javascript": [
       "require.config({\n",
       "  paths: {\n",
       "      d3: '//cdnjs.cloudflare.com/ajax/libs/d3/5.7.0/d3.min',\n",
       "    jquery: '//ajax.googleapis.com/ajax/libs/jquery/2.0.0/jquery.min',\n",
       "  }\n",
       "});\n"
      ],
      "text/plain": [
       "<IPython.core.display.Javascript object>"
      ]
     },
     "metadata": {},
     "output_type": "display_data"
    }
   ],
   "source": [
    "%%javascript\n",
    "require.config({\n",
    "  paths: {\n",
    "      d3: '//cdnjs.cloudflare.com/ajax/libs/d3/5.7.0/d3.min',\n",
    "    jquery: '//ajax.googleapis.com/ajax/libs/jquery/2.0.0/jquery.min',\n",
    "  }\n",
    "});"
   ]
  },
  {
   "cell_type": "code",
   "execution_count": 57,
   "metadata": {},
   "outputs": [],
   "source": [
    "def show_head_view(results):\n",
    "    \"\"\"\n",
    "    Interactive visualization to see the attention at all heads and layers (4 heads per layer in the current setting)\n",
    "    \"\"\"\n",
    "    self_attention = results['encoder_self_attention_list']\n",
    "    tokens = results['source_tokens']\n",
    "    head_view(self_attention, tokens, None)\n",
    "\n",
    "def show_model_view(results):\n",
    "    \"\"\"\n",
    "    Shows attention per layer and per head in separate graphics\n",
    "    \"\"\"\n",
    "    self_attention = results['encoder_self_attention_list']\n",
    "    tokens = results['source_tokens']\n",
    "    model_view(self_attention, tokens, None)"
   ]
  },
  {
   "cell_type": "code",
   "execution_count": 58,
   "metadata": {},
   "outputs": [
    {
     "name": "stdout",
     "output_type": "stream",
     "text": [
      "Tokenized source: hello how are you ?\n",
      "Prediction: sal@@ ut comment vas-tu ?\n",
      "Detokenized prediction: salut comment vas-tu ?\n",
      "Google Translate (en->fr): Bonjour comment vas-tu ?\n",
      "Google Translate on prediction (fr->en): Hi, how are you ?\n"
     ]
    },
    {
     "data": {
      "image/png": "[encoded data removed]",
      "text/plain": [
       "<Figure size 432x288 with 2 Axes>"
      ]
     },
     "metadata": {
      "needs_background": "light"
     },
     "output_type": "display_data"
    }
   ],
   "source": [
    "results = translate(transformer_model, 'hello how are you ?', return_output=True)"
   ]
  },
  {
   "cell_type": "code",
   "execution_count": 59,
   "metadata": {},
   "outputs": [
    {
     "data": {
      "text/html": [
       "<script src=\"https://cdnjs.cloudflare.com/ajax/libs/require.js/2.3.6/require.min.js\"></script>"
      ],
      "text/plain": [
       "<IPython.core.display.HTML object>"
      ]
     },
     "metadata": {},
     "output_type": "display_data"
    },
    {
     "data": {
      "text/html": [
       "      \n",
       "        <div id='bertviz-73ac1974987e4b11a2b25937dec67143'>\n",
       "            <span style=\"user-select:none\">\n",
       "                Layer: <select id=\"layer\"></select>\n",
       "                \n",
       "            </span>\n",
       "            <div id='vis'></div>\n",
       "        </div>\n",
       "    "
      ],
      "text/plain": [
       "<IPython.core.display.HTML object>"
      ]
     },
     "metadata": {},
     "output_type": "display_data"
    },
    {
     "data": {
      "application/javascript": [
       "/**\n",
       " * @fileoverview Transformer Visualization D3 javascript code.\n",
       " *\n",
       " *\n",
       " *  Based on: https://github.com/tensorflow/tensor2tensor/blob/master/tensor2tensor/visualization/attention.js\n",
       " *\n",
       " * Change log:\n",
       " *\n",
       " * 12/19/18  Jesse Vig   Assorted cleanup. Changed orientation of attention matrices.\n",
       " * 12/29/20  Jesse Vig   Significant refactor.\n",
       " * 12/31/20  Jesse Vig   Support multiple visualizations in single notebook.\n",
       " * 02/06/21  Jesse Vig   Move require config from separate jupyter notebook step\n",
       " * 05/03/21  Jesse Vig   Adjust height of visualization dynamically\n",
       " * 07/25/21  Jesse Vig   Support layer filtering\n",
       " **/\n",
       "\n",
       "require.config({\n",
       "  paths: {\n",
       "      d3: '//cdnjs.cloudflare.com/ajax/libs/d3/5.7.0/d3.min',\n",
       "    jquery: '//ajax.googleapis.com/ajax/libs/jquery/2.0.0/jquery.min',\n",
       "  }\n",
       "});\n",
       "\n",
       "requirejs(['jquery', 'd3'], function ($, d3) {\n",
       "\n",
       "    const params = {\"attention\": [{\"name\": null, \"attn\": [[[[1.1805009512121518e-16, 1.869521459283276e-23, 2.0843765590210141e-16, 1.0, 0.0, 1.4295500782263935e-17], [0.6887481212615967, 4.1478434544014585e-43, 1.029870293370881e-40, 0.0, 0.31125181913375854, 0.0], [0.33991000056266785, 4.3833661482275855e-30, 5.803100163749602e-29, 4.077815783047255e-25, 1.6108981204052812e-28, 0.6600900292396545], [6.660038481572496e-16, 0.0, 4.6444773144061445e-15, 0.0, 0.0, 1.0], [0.0, 0.0, 0.0, 0.0, 0.0, 1.0], [1.0, 1.8155646985817953e-09, 5.146926218557724e-10, 3.126296873908667e-42, 2.033685865835024e-31, 4.708362840131385e-43]], [[7.912959176792356e-07, 0.9999991655349731, 4.4022669725893564e-15, 2.5850250274216107e-18, 6.556102980553017e-31, 1.2614114097182389e-28], [6.690473477844003e-22, 9.763186353123343e-13, 1.259412068051374e-21, 1.0, 1.2830418900355165e-29, 3.545285114741787e-43], [2.9182847219064258e-36, 4.399573668482378e-20, 1.0, 7.006492321624085e-45, 1.7971900329553178e-21, 9.364309731266083e-27], [0.0, 0.0, 0.0, 0.0, 0.0, 1.0], [7.485344900612505e-30, 1.0, 0.0, 8.835339130572033e-17, 0.0, 0.0], [2.922710009358416e-27, 6.673338062141846e-24, 1.2334130553943641e-23, 0.0, 0.0, 1.0]], [[0.0, 0.0, 0.0, 0.0, 0.0, 1.0], [0.0, 0.0, 0.0, 0.0, 0.0, 1.0], [4.0637655465419695e-44, 1.0832037129230836e-42, 1.0, 0.0, 0.0, 0.0], [0.0, 0.0, 0.0, 0.0, 0.0, 1.0], [0.0, 0.0, 0.0, 0.0, 0.0, 1.0], [0.0, 0.0, 0.0, 1.0, 0.0, 1.0709657493599373e-24]], [[3.791827962729144e-10, 5.767985200577641e-08, 1.9591370626487192e-12, 1.0401261015674512e-13, 1.7740686307152198e-13, 1.0], [1.5190499724674198e-26, 1.326064326950465e-22, 4.264050082338302e-35, 7.6824488399288295e-34, 2.9032911958953743e-31, 1.0], [1.9968731695817876e-21, 6.1983540248277825e-22, 1.0, 4.4599224314958456e-39, 1.9504889012796758e-36, 5.044674471569341e-44], [6.110193797872646e-39, 4.90454462513686e-44, 1.0, 0.0, 0.0, 0.0], [1.0, 1.5344036041753384e-09, 3.0203864669802194e-30, 6.252438013450244e-19, 2.0228628953158188e-37, 3.3924420899194335e-30], [5.439466946960706e-35, 3.839557792249999e-43, 0.0, 1.1305491683812996e-15, 0.0, 1.0]]], [[[0.6080519556999207, 0.1361607164144516, 0.12319297343492508, 0.045597732067108154, 0.0030497992411255836, 0.08394675701856613], [0.361478328704834, 0.21141980588436127, 0.08912888914346695, 0.2443862408399582, 0.05010797828435898, 0.04347875341773033], [0.13538148999214172, 0.0517045333981514, 0.0032092900946736336, 0.7518009543418884, 0.014612065628170967, 0.043291620910167694], [5.7841312809614465e-05, 0.0006518604350276291, 0.0009757498046383262, 0.001309722545556724, 0.9966928958892822, 0.0003119155007880181], [0.04793199896812439, 0.0702231228351593, 0.36917510628700256, 0.422675222158432, 0.014304935932159424, 0.0756896436214447], [0.055100392550230026, 0.024741075932979584, 0.2988821864128113, 0.07042757421731949, 0.3355378210544586, 0.21531088650226593]], [[0.06983489543199539, 0.04517192766070366, 0.1432182788848877, 0.0642610415816307, 0.5163604021072388, 0.16115352511405945], [0.011585588566958904, 0.004870883654803038, 0.035564955323934555, 0.021958526223897934, 0.8588336706161499, 0.06718628108501434], [0.012208148837089539, 0.025638973340392113, 0.005617904011160135, 0.004771514795720577, 0.9422227144241333, 0.009540732949972153], [0.6996802687644958, 0.22079363465309143, 0.010543418116867542, 0.0017663536127656698, 0.010043037123978138, 0.057173289358615875], [0.1639670729637146, 0.19998851418495178, 0.09735605120658875, 0.16979651153087616, 0.03463380038738251, 0.3342580497264862], [0.17506495118141174, 0.45713701844215393, 0.18793512880802155, 0.05037146434187889, 0.09003424644470215, 0.03945719078183174]], [[0.14599956572055817, 0.06432376801967621, 0.14169847965240479, 0.06326794624328613, 0.11527975648641586, 0.46943047642707825], [0.9876669645309448, 0.0003475110570434481, 0.00324007379822433, 0.0013024309882894158, 0.0050654360093176365, 0.0023775864392518997], [0.4083496332168579, 0.36490949988365173, 0.05827047675848007, 0.05244513228535652, 0.03866634517908096, 0.07735885679721832], [0.15928295254707336, 0.1636139303445816, 0.29462260007858276, 0.01593242958188057, 0.25120165944099426, 0.11534640938043594], [0.11902587115764618, 0.20504261553287506, 0.057502422481775284, 0.37600284814834595, 0.04069159924983978, 0.20173461735248566], [0.01824905164539814, 0.02432272955775261, 0.01797916553914547, 0.04107731580734253, 0.7520935535430908, 0.14627812802791595]], [[0.01683523878455162, 0.5817864537239075, 0.006426058243960142, 0.01625804603099823, 0.3526633083820343, 0.026030924171209335], [0.7308666110038757, 0.0036605626810342073, 0.020483845844864845, 0.022051209583878517, 0.022912010550498962, 0.2000257521867752], [0.062275320291519165, 0.913902223110199, 0.0006482981261797249, 0.0072244396433234215, 0.002412210451439023, 0.013537631370127201], [0.685353696346283, 0.041193362325429916, 0.024334361776709557, 0.012382257729768753, 0.029186582192778587, 0.20754970610141754], [0.3505166172981262, 0.03102385811507702, 0.19622719287872314, 0.15778952836990356, 0.012524888850748539, 0.25191789865493774], [0.07523974776268005, 0.05570981651544571, 0.12465225905179977, 0.007167567498981953, 0.7307754158973694, 0.006455161143094301]]]], \"left_text\": [\"hello\", \"how\", \"are\", \"you\", \"?\", \"<eos>\"], \"right_text\": [\"hello\", \"how\", \"are\", \"you\", \"?\", \"<eos>\"]}], \"default_filter\": \"0\", \"root_div_id\": \"bertviz-73ac1974987e4b11a2b25937dec67143\", \"layer\": null, \"heads\": null, \"include_layers\": [0, 1]}; // HACK: {\"attention\": [{\"name\": null, \"attn\": [[[[1.1805009512121518e-16, 1.869521459283276e-23, 2.0843765590210141e-16, 1.0, 0.0, 1.4295500782263935e-17], [0.6887481212615967, 4.1478434544014585e-43, 1.029870293370881e-40, 0.0, 0.31125181913375854, 0.0], [0.33991000056266785, 4.3833661482275855e-30, 5.803100163749602e-29, 4.077815783047255e-25, 1.6108981204052812e-28, 0.6600900292396545], [6.660038481572496e-16, 0.0, 4.6444773144061445e-15, 0.0, 0.0, 1.0], [0.0, 0.0, 0.0, 0.0, 0.0, 1.0], [1.0, 1.8155646985817953e-09, 5.146926218557724e-10, 3.126296873908667e-42, 2.033685865835024e-31, 4.708362840131385e-43]], [[7.912959176792356e-07, 0.9999991655349731, 4.4022669725893564e-15, 2.5850250274216107e-18, 6.556102980553017e-31, 1.2614114097182389e-28], [6.690473477844003e-22, 9.763186353123343e-13, 1.259412068051374e-21, 1.0, 1.2830418900355165e-29, 3.545285114741787e-43], [2.9182847219064258e-36, 4.399573668482378e-20, 1.0, 7.006492321624085e-45, 1.7971900329553178e-21, 9.364309731266083e-27], [0.0, 0.0, 0.0, 0.0, 0.0, 1.0], [7.485344900612505e-30, 1.0, 0.0, 8.835339130572033e-17, 0.0, 0.0], [2.922710009358416e-27, 6.673338062141846e-24, 1.2334130553943641e-23, 0.0, 0.0, 1.0]], [[0.0, 0.0, 0.0, 0.0, 0.0, 1.0], [0.0, 0.0, 0.0, 0.0, 0.0, 1.0], [4.0637655465419695e-44, 1.0832037129230836e-42, 1.0, 0.0, 0.0, 0.0], [0.0, 0.0, 0.0, 0.0, 0.0, 1.0], [0.0, 0.0, 0.0, 0.0, 0.0, 1.0], [0.0, 0.0, 0.0, 1.0, 0.0, 1.0709657493599373e-24]], [[3.791827962729144e-10, 5.767985200577641e-08, 1.9591370626487192e-12, 1.0401261015674512e-13, 1.7740686307152198e-13, 1.0], [1.5190499724674198e-26, 1.326064326950465e-22, 4.264050082338302e-35, 7.6824488399288295e-34, 2.9032911958953743e-31, 1.0], [1.9968731695817876e-21, 6.1983540248277825e-22, 1.0, 4.4599224314958456e-39, 1.9504889012796758e-36, 5.044674471569341e-44], [6.110193797872646e-39, 4.90454462513686e-44, 1.0, 0.0, 0.0, 0.0], [1.0, 1.5344036041753384e-09, 3.0203864669802194e-30, 6.252438013450244e-19, 2.0228628953158188e-37, 3.3924420899194335e-30], [5.439466946960706e-35, 3.839557792249999e-43, 0.0, 1.1305491683812996e-15, 0.0, 1.0]]], [[[0.6080519556999207, 0.1361607164144516, 0.12319297343492508, 0.045597732067108154, 0.0030497992411255836, 0.08394675701856613], [0.361478328704834, 0.21141980588436127, 0.08912888914346695, 0.2443862408399582, 0.05010797828435898, 0.04347875341773033], [0.13538148999214172, 0.0517045333981514, 0.0032092900946736336, 0.7518009543418884, 0.014612065628170967, 0.043291620910167694], [5.7841312809614465e-05, 0.0006518604350276291, 0.0009757498046383262, 0.001309722545556724, 0.9966928958892822, 0.0003119155007880181], [0.04793199896812439, 0.0702231228351593, 0.36917510628700256, 0.422675222158432, 0.014304935932159424, 0.0756896436214447], [0.055100392550230026, 0.024741075932979584, 0.2988821864128113, 0.07042757421731949, 0.3355378210544586, 0.21531088650226593]], [[0.06983489543199539, 0.04517192766070366, 0.1432182788848877, 0.0642610415816307, 0.5163604021072388, 0.16115352511405945], [0.011585588566958904, 0.004870883654803038, 0.035564955323934555, 0.021958526223897934, 0.8588336706161499, 0.06718628108501434], [0.012208148837089539, 0.025638973340392113, 0.005617904011160135, 0.004771514795720577, 0.9422227144241333, 0.009540732949972153], [0.6996802687644958, 0.22079363465309143, 0.010543418116867542, 0.0017663536127656698, 0.010043037123978138, 0.057173289358615875], [0.1639670729637146, 0.19998851418495178, 0.09735605120658875, 0.16979651153087616, 0.03463380038738251, 0.3342580497264862], [0.17506495118141174, 0.45713701844215393, 0.18793512880802155, 0.05037146434187889, 0.09003424644470215, 0.03945719078183174]], [[0.14599956572055817, 0.06432376801967621, 0.14169847965240479, 0.06326794624328613, 0.11527975648641586, 0.46943047642707825], [0.9876669645309448, 0.0003475110570434481, 0.00324007379822433, 0.0013024309882894158, 0.0050654360093176365, 0.0023775864392518997], [0.4083496332168579, 0.36490949988365173, 0.05827047675848007, 0.05244513228535652, 0.03866634517908096, 0.07735885679721832], [0.15928295254707336, 0.1636139303445816, 0.29462260007858276, 0.01593242958188057, 0.25120165944099426, 0.11534640938043594], [0.11902587115764618, 0.20504261553287506, 0.057502422481775284, 0.37600284814834595, 0.04069159924983978, 0.20173461735248566], [0.01824905164539814, 0.02432272955775261, 0.01797916553914547, 0.04107731580734253, 0.7520935535430908, 0.14627812802791595]], [[0.01683523878455162, 0.5817864537239075, 0.006426058243960142, 0.01625804603099823, 0.3526633083820343, 0.026030924171209335], [0.7308666110038757, 0.0036605626810342073, 0.020483845844864845, 0.022051209583878517, 0.022912010550498962, 0.2000257521867752], [0.062275320291519165, 0.913902223110199, 0.0006482981261797249, 0.0072244396433234215, 0.002412210451439023, 0.013537631370127201], [0.685353696346283, 0.041193362325429916, 0.024334361776709557, 0.012382257729768753, 0.029186582192778587, 0.20754970610141754], [0.3505166172981262, 0.03102385811507702, 0.19622719287872314, 0.15778952836990356, 0.012524888850748539, 0.25191789865493774], [0.07523974776268005, 0.05570981651544571, 0.12465225905179977, 0.007167567498981953, 0.7307754158973694, 0.006455161143094301]]]], \"left_text\": [\"hello\", \"how\", \"are\", \"you\", \"?\", \"<eos>\"], \"right_text\": [\"hello\", \"how\", \"are\", \"you\", \"?\", \"<eos>\"]}], \"default_filter\": \"0\", \"root_div_id\": \"bertviz-73ac1974987e4b11a2b25937dec67143\", \"layer\": null, \"heads\": null, \"include_layers\": [0, 1]} is a template marker that is replaced by actual params.\n",
       "    const TEXT_SIZE = 15;\n",
       "    const BOXWIDTH = 110;\n",
       "    const BOXHEIGHT = 22.5;\n",
       "    const MATRIX_WIDTH = 115;\n",
       "    const CHECKBOX_SIZE = 20;\n",
       "    const TEXT_TOP = 30;\n",
       "\n",
       "    console.log(\"d3 version\", d3.version)\n",
       "    let headColors;\n",
       "    try {\n",
       "        headColors = d3.scaleOrdinal(d3.schemeCategory10);\n",
       "    } catch (err) {\n",
       "        console.log('Older d3 version')\n",
       "        headColors = d3.scale.category10();\n",
       "    }\n",
       "    let config = {};\n",
       "    initialize();\n",
       "    renderVis();\n",
       "\n",
       "    function initialize() {\n",
       "        config.attention = params['attention'];\n",
       "        config.filter = params['default_filter'];\n",
       "        config.rootDivId = params['root_div_id'];\n",
       "        config.nLayers = config.attention[config.filter]['attn'].length;\n",
       "        config.nHeads = config.attention[config.filter]['attn'][0].length;\n",
       "        config.layers = params['include_layers']\n",
       "\n",
       "        if (params['heads']) {\n",
       "            config.headVis = new Array(config.nHeads).fill(false);\n",
       "            params['heads'].forEach(x => config.headVis[x] = true);\n",
       "        } else {\n",
       "            config.headVis = new Array(config.nHeads).fill(true);\n",
       "        }\n",
       "        config.initialTextLength = config.attention[config.filter].right_text.length;\n",
       "        config.layer_seq = (params['layer'] == null ? 0 : config.layers.findIndex(layer => params['layer'] === layer));\n",
       "        config.layer = config.layers[config.layer_seq]\n",
       "\n",
       "        let layerEl = $(`#${config.rootDivId} #layer`);\n",
       "        for (const layer of config.layers) {\n",
       "            layerEl.append($(\"<option />\").val(layer).text(layer));\n",
       "        }\n",
       "        layerEl.val(config.layer).change();\n",
       "        layerEl.on('change', function (e) {\n",
       "            config.layer = +e.currentTarget.value;\n",
       "            config.layer_seq = config.layers.findIndex(layer => config.layer === layer);\n",
       "            renderVis();\n",
       "        });\n",
       "\n",
       "        $(`#${config.rootDivId} #filter`).on('change', function (e) {\n",
       "            config.filter = e.currentTarget.value;\n",
       "            renderVis();\n",
       "        });\n",
       "    }\n",
       "\n",
       "    function renderVis() {\n",
       "\n",
       "        // Load parameters\n",
       "        const attnData = config.attention[config.filter];\n",
       "        const leftText = attnData.left_text;\n",
       "        const rightText = attnData.right_text;\n",
       "\n",
       "        // Select attention for given layer\n",
       "        const layerAttention = attnData.attn[config.layer_seq];\n",
       "\n",
       "        // Clear vis\n",
       "        $(`#${config.rootDivId} #vis`).empty();\n",
       "\n",
       "        // Determine size of visualization\n",
       "        const height = Math.max(leftText.length, rightText.length) * BOXHEIGHT + TEXT_TOP;\n",
       "        const svg = d3.select(`#${config.rootDivId} #vis`)\n",
       "            .append('svg')\n",
       "            .attr(\"width\", \"100%\")\n",
       "            .attr(\"height\", height + \"px\");\n",
       "\n",
       "        // Display tokens on left and right side of visualization\n",
       "        renderText(svg, leftText, true, layerAttention, 0);\n",
       "        renderText(svg, rightText, false, layerAttention, MATRIX_WIDTH + BOXWIDTH);\n",
       "\n",
       "        // Render attention arcs\n",
       "        renderAttention(svg, layerAttention);\n",
       "\n",
       "        // Draw squares at top of visualization, one for each head\n",
       "        drawCheckboxes(0, svg, layerAttention);\n",
       "    }\n",
       "\n",
       "    function renderText(svg, text, isLeft, attention, leftPos) {\n",
       "\n",
       "        const textContainer = svg.append(\"svg:g\")\n",
       "            .attr(\"id\", isLeft ? \"left\" : \"right\");\n",
       "\n",
       "        // Add attention highlights superimposed over words\n",
       "        textContainer.append(\"g\")\n",
       "            .classed(\"attentionBoxes\", true)\n",
       "            .selectAll(\"g\")\n",
       "            .data(attention)\n",
       "            .enter()\n",
       "            .append(\"g\")\n",
       "            .attr(\"head-index\", (d, i) => i)\n",
       "            .selectAll(\"rect\")\n",
       "            .data(d => isLeft ? d : transpose(d)) // if right text, transpose attention to get right-to-left weights\n",
       "            .enter()\n",
       "            .append(\"rect\")\n",
       "            .attr(\"x\", function () {\n",
       "                var headIndex = +this.parentNode.getAttribute(\"head-index\");\n",
       "                return leftPos + boxOffsets(headIndex);\n",
       "            })\n",
       "            .attr(\"y\", (+1) * BOXHEIGHT)\n",
       "            .attr(\"width\", BOXWIDTH / activeHeads())\n",
       "            .attr(\"height\", BOXHEIGHT)\n",
       "            .attr(\"fill\", function () {\n",
       "                return headColors(+this.parentNode.getAttribute(\"head-index\"))\n",
       "            })\n",
       "            .style(\"opacity\", 0.0);\n",
       "\n",
       "        const tokenContainer = textContainer.append(\"g\").selectAll(\"g\")\n",
       "            .data(text)\n",
       "            .enter()\n",
       "            .append(\"g\");\n",
       "\n",
       "        // Add gray background that appears when hovering over text\n",
       "        tokenContainer.append(\"rect\")\n",
       "            .classed(\"background\", true)\n",
       "            .style(\"opacity\", 0.0)\n",
       "            .attr(\"fill\", \"lightgray\")\n",
       "            .attr(\"x\", leftPos)\n",
       "            .attr(\"y\", (d, i) => TEXT_TOP + i * BOXHEIGHT)\n",
       "            .attr(\"width\", BOXWIDTH)\n",
       "            .attr(\"height\", BOXHEIGHT);\n",
       "\n",
       "        // Add token text\n",
       "        const textEl = tokenContainer.append(\"text\")\n",
       "            .text(d => d)\n",
       "            .attr(\"font-size\", TEXT_SIZE + \"px\")\n",
       "            .style(\"cursor\", \"default\")\n",
       "            .style(\"-webkit-user-select\", \"none\")\n",
       "            .attr(\"x\", leftPos)\n",
       "            .attr(\"y\", (d, i) => TEXT_TOP + i * BOXHEIGHT);\n",
       "\n",
       "        if (isLeft) {\n",
       "            textEl.style(\"text-anchor\", \"end\")\n",
       "                .attr(\"dx\", BOXWIDTH - 0.5 * TEXT_SIZE)\n",
       "                .attr(\"dy\", TEXT_SIZE);\n",
       "        } else {\n",
       "            textEl.style(\"text-anchor\", \"start\")\n",
       "                .attr(\"dx\", +0.5 * TEXT_SIZE)\n",
       "                .attr(\"dy\", TEXT_SIZE);\n",
       "        }\n",
       "\n",
       "        tokenContainer.on(\"mouseover\", function (d, index) {\n",
       "\n",
       "            // Show gray background for moused-over token\n",
       "            textContainer.selectAll(\".background\")\n",
       "                .style(\"opacity\", (d, i) => i === index ? 1.0 : 0.0)\n",
       "\n",
       "            // Reset visibility attribute for any previously highlighted attention arcs\n",
       "            svg.select(\"#attention\")\n",
       "                .selectAll(\"line[visibility='visible']\")\n",
       "                .attr(\"visibility\", null)\n",
       "\n",
       "            // Hide group containing attention arcs\n",
       "            svg.select(\"#attention\").attr(\"visibility\", \"hidden\");\n",
       "\n",
       "            // Set to visible appropriate attention arcs to be highlighted\n",
       "            if (isLeft) {\n",
       "                svg.select(\"#attention\").selectAll(\"line[left-token-index='\" + index + \"']\").attr(\"visibility\", \"visible\");\n",
       "            } else {\n",
       "                svg.select(\"#attention\").selectAll(\"line[right-token-index='\" + index + \"']\").attr(\"visibility\", \"visible\");\n",
       "            }\n",
       "\n",
       "            // Update color boxes superimposed over tokens\n",
       "            const id = isLeft ? \"right\" : \"left\";\n",
       "            const leftPos = isLeft ? MATRIX_WIDTH + BOXWIDTH : 0;\n",
       "            svg.select(\"#\" + id)\n",
       "                .selectAll(\".attentionBoxes\")\n",
       "                .selectAll(\"g\")\n",
       "                .attr(\"head-index\", (d, i) => i)\n",
       "                .selectAll(\"rect\")\n",
       "                .attr(\"x\", function () {\n",
       "                    const headIndex = +this.parentNode.getAttribute(\"head-index\");\n",
       "                    return leftPos + boxOffsets(headIndex);\n",
       "                })\n",
       "                .attr(\"y\", (d, i) => TEXT_TOP + i * BOXHEIGHT)\n",
       "                .attr(\"width\", BOXWIDTH / activeHeads())\n",
       "                .attr(\"height\", BOXHEIGHT)\n",
       "                .style(\"opacity\", function (d) {\n",
       "                    const headIndex = +this.parentNode.getAttribute(\"head-index\");\n",
       "                    if (config.headVis[headIndex])\n",
       "                        if (d) {\n",
       "                            return d[index];\n",
       "                        } else {\n",
       "                            return 0.0;\n",
       "                        }\n",
       "                    else\n",
       "                        return 0.0;\n",
       "                });\n",
       "        });\n",
       "\n",
       "        textContainer.on(\"mouseleave\", function () {\n",
       "\n",
       "            // Unhighlight selected token\n",
       "            d3.select(this).selectAll(\".background\")\n",
       "                .style(\"opacity\", 0.0);\n",
       "\n",
       "            // Reset visibility attributes for previously selected lines\n",
       "            svg.select(\"#attention\")\n",
       "                .selectAll(\"line[visibility='visible']\")\n",
       "                .attr(\"visibility\", null) ;\n",
       "            svg.select(\"#attention\").attr(\"visibility\", \"visible\");\n",
       "\n",
       "            // Reset highlights superimposed over tokens\n",
       "            svg.selectAll(\".attentionBoxes\")\n",
       "                .selectAll(\"g\")\n",
       "                .selectAll(\"rect\")\n",
       "                .style(\"opacity\", 0.0);\n",
       "        });\n",
       "    }\n",
       "\n",
       "    function renderAttention(svg, attention) {\n",
       "\n",
       "        // Remove previous dom elements\n",
       "        svg.select(\"#attention\").remove();\n",
       "\n",
       "        // Add new elements\n",
       "        svg.append(\"g\")\n",
       "            .attr(\"id\", \"attention\") // Container for all attention arcs\n",
       "            .selectAll(\".headAttention\")\n",
       "            .data(attention)\n",
       "            .enter()\n",
       "            .append(\"g\")\n",
       "            .classed(\"headAttention\", true) // Group attention arcs by head\n",
       "            .attr(\"head-index\", (d, i) => i)\n",
       "            .selectAll(\".tokenAttention\")\n",
       "            .data(d => d)\n",
       "            .enter()\n",
       "            .append(\"g\")\n",
       "            .classed(\"tokenAttention\", true) // Group attention arcs by left token\n",
       "            .attr(\"left-token-index\", (d, i) => i)\n",
       "            .selectAll(\"line\")\n",
       "            .data(d => d)\n",
       "            .enter()\n",
       "            .append(\"line\")\n",
       "            .attr(\"x1\", BOXWIDTH)\n",
       "            .attr(\"y1\", function () {\n",
       "                const leftTokenIndex = +this.parentNode.getAttribute(\"left-token-index\")\n",
       "                return TEXT_TOP + leftTokenIndex * BOXHEIGHT + (BOXHEIGHT / 2)\n",
       "            })\n",
       "            .attr(\"x2\", BOXWIDTH + MATRIX_WIDTH)\n",
       "            .attr(\"y2\", (d, rightTokenIndex) => TEXT_TOP + rightTokenIndex * BOXHEIGHT + (BOXHEIGHT / 2))\n",
       "            .attr(\"stroke-width\", 2)\n",
       "            .attr(\"stroke\", function () {\n",
       "                const headIndex = +this.parentNode.parentNode.getAttribute(\"head-index\");\n",
       "                return headColors(headIndex)\n",
       "            })\n",
       "            .attr(\"left-token-index\", function () {\n",
       "                return +this.parentNode.getAttribute(\"left-token-index\")\n",
       "            })\n",
       "            .attr(\"right-token-index\", (d, i) => i)\n",
       "        ;\n",
       "        updateAttention(svg)\n",
       "    }\n",
       "\n",
       "    function updateAttention(svg) {\n",
       "        svg.select(\"#attention\")\n",
       "            .selectAll(\"line\")\n",
       "            .attr(\"stroke-opacity\", function (d) {\n",
       "                const headIndex = +this.parentNode.parentNode.getAttribute(\"head-index\");\n",
       "                // If head is selected\n",
       "                if (config.headVis[headIndex]) {\n",
       "                    // Set opacity to attention weight divided by number of active heads\n",
       "                    return d / activeHeads()\n",
       "                } else {\n",
       "                    return 0.0;\n",
       "                }\n",
       "            })\n",
       "    }\n",
       "\n",
       "    function boxOffsets(i) {\n",
       "        const numHeadsAbove = config.headVis.reduce(\n",
       "            function (acc, val, cur) {\n",
       "                return val && cur < i ? acc + 1 : acc;\n",
       "            }, 0);\n",
       "        return numHeadsAbove * (BOXWIDTH / activeHeads());\n",
       "    }\n",
       "\n",
       "    function activeHeads() {\n",
       "        return config.headVis.reduce(function (acc, val) {\n",
       "            return val ? acc + 1 : acc;\n",
       "        }, 0);\n",
       "    }\n",
       "\n",
       "    function drawCheckboxes(top, svg) {\n",
       "        const checkboxContainer = svg.append(\"g\");\n",
       "        const checkbox = checkboxContainer.selectAll(\"rect\")\n",
       "            .data(config.headVis)\n",
       "            .enter()\n",
       "            .append(\"rect\")\n",
       "            .attr(\"fill\", (d, i) => headColors(i))\n",
       "            .attr(\"x\", (d, i) => i * CHECKBOX_SIZE)\n",
       "            .attr(\"y\", top)\n",
       "            .attr(\"width\", CHECKBOX_SIZE)\n",
       "            .attr(\"height\", CHECKBOX_SIZE);\n",
       "\n",
       "        function updateCheckboxes() {\n",
       "            checkboxContainer.selectAll(\"rect\")\n",
       "                .data(config.headVis)\n",
       "                .attr(\"fill\", (d, i) => d ? headColors(i): lighten(headColors(i)));\n",
       "        }\n",
       "\n",
       "        updateCheckboxes();\n",
       "\n",
       "        checkbox.on(\"click\", function (d, i) {\n",
       "            if (config.headVis[i] && activeHeads() === 1) return;\n",
       "            config.headVis[i] = !config.headVis[i];\n",
       "            updateCheckboxes();\n",
       "            updateAttention(svg);\n",
       "        });\n",
       "\n",
       "        checkbox.on(\"dblclick\", function (d, i) {\n",
       "            // If we double click on the only active head then reset\n",
       "            if (config.headVis[i] && activeHeads() === 1) {\n",
       "                config.headVis = new Array(config.nHeads).fill(true);\n",
       "            } else {\n",
       "                config.headVis = new Array(config.nHeads).fill(false);\n",
       "                config.headVis[i] = true;\n",
       "            }\n",
       "            updateCheckboxes();\n",
       "            updateAttention(svg);\n",
       "        });\n",
       "    }\n",
       "\n",
       "    function lighten(color) {\n",
       "        const c = d3.hsl(color);\n",
       "        const increment = (1 - c.l) * 0.6;\n",
       "        c.l += increment;\n",
       "        c.s -= increment;\n",
       "        return c;\n",
       "    }\n",
       "\n",
       "    function transpose(mat) {\n",
       "        return mat[0].map(function (col, i) {\n",
       "            return mat.map(function (row) {\n",
       "                return row[i];\n",
       "            });\n",
       "        });\n",
       "    }\n",
       "\n",
       "});"
      ],
      "text/plain": [
       "<IPython.core.display.Javascript object>"
      ]
     },
     "metadata": {},
     "output_type": "display_data"
    }
   ],
   "source": [
    "show_head_view(results)"
   ]
  },
  {
   "cell_type": "code",
   "execution_count": 60,
   "metadata": {},
   "outputs": [
    {
     "data": {
      "text/html": [
       "<script src=\"https://cdnjs.cloudflare.com/ajax/libs/require.js/2.3.6/require.min.js\"></script>"
      ],
      "text/plain": [
       "<IPython.core.display.HTML object>"
      ]
     },
     "metadata": {},
     "output_type": "display_data"
    },
    {
     "data": {
      "text/html": [
       "      \n",
       "        <div id='bertviz-66f972dea2fa48cc8d2c0e41a9967798'>\n",
       "            <span style=\"user-select:none\">\n",
       "                \n",
       "            </span>\n",
       "            <div id='vis'></div>\n",
       "        </div>\n",
       "    "
      ],
      "text/plain": [
       "<IPython.core.display.HTML object>"
      ]
     },
     "metadata": {},
     "output_type": "display_data"
    },
    {
     "data": {
      "application/javascript": [
       "/**\n",
       " * @fileoverview Transformer Visualization D3 javascript code.\n",
       " *\n",
       " * Based on: https://github.com/tensorflow/tensor2tensor/blob/master/tensor2tensor/visualization/attention.js\n",
       " *\n",
       " * Change log:\n",
       " *\n",
       " * 02/01/19  Jesse Vig   Initial implementation\n",
       " * 12/31/20  Jesse Vig   Support multiple visualizations in single notebook.\n",
       " * 01/19/21  Jesse Vig   Support light/dark modes\n",
       " * 02/06/21  Jesse Vig   Move require config from separate jupyter notebook step\n",
       " * 05/03/21  Jesse Vig   Adjust visualization height dynamically\n",
       " **/\n",
       "\n",
       "require.config({\n",
       "  paths: {\n",
       "      d3: '//cdnjs.cloudflare.com/ajax/libs/d3/5.7.0/d3.min',\n",
       "    jquery: '//ajax.googleapis.com/ajax/libs/jquery/2.0.0/jquery.min',\n",
       "  }\n",
       "});\n",
       "\n",
       "requirejs(['jquery', 'd3'], function($, d3) {\n",
       "\n",
       "        const params = {\"attention\": [{\"name\": null, \"attn\": [[[[1.1805009512121518e-16, 1.869521459283276e-23, 2.0843765590210141e-16, 1.0, 0.0, 1.4295500782263935e-17], [0.6887481212615967, 4.1478434544014585e-43, 1.029870293370881e-40, 0.0, 0.31125181913375854, 0.0], [0.33991000056266785, 4.3833661482275855e-30, 5.803100163749602e-29, 4.077815783047255e-25, 1.6108981204052812e-28, 0.6600900292396545], [6.660038481572496e-16, 0.0, 4.6444773144061445e-15, 0.0, 0.0, 1.0], [0.0, 0.0, 0.0, 0.0, 0.0, 1.0], [1.0, 1.8155646985817953e-09, 5.146926218557724e-10, 3.126296873908667e-42, 2.033685865835024e-31, 4.708362840131385e-43]], [[7.912959176792356e-07, 0.9999991655349731, 4.4022669725893564e-15, 2.5850250274216107e-18, 6.556102980553017e-31, 1.2614114097182389e-28], [6.690473477844003e-22, 9.763186353123343e-13, 1.259412068051374e-21, 1.0, 1.2830418900355165e-29, 3.545285114741787e-43], [2.9182847219064258e-36, 4.399573668482378e-20, 1.0, 7.006492321624085e-45, 1.7971900329553178e-21, 9.364309731266083e-27], [0.0, 0.0, 0.0, 0.0, 0.0, 1.0], [7.485344900612505e-30, 1.0, 0.0, 8.835339130572033e-17, 0.0, 0.0], [2.922710009358416e-27, 6.673338062141846e-24, 1.2334130553943641e-23, 0.0, 0.0, 1.0]], [[0.0, 0.0, 0.0, 0.0, 0.0, 1.0], [0.0, 0.0, 0.0, 0.0, 0.0, 1.0], [4.0637655465419695e-44, 1.0832037129230836e-42, 1.0, 0.0, 0.0, 0.0], [0.0, 0.0, 0.0, 0.0, 0.0, 1.0], [0.0, 0.0, 0.0, 0.0, 0.0, 1.0], [0.0, 0.0, 0.0, 1.0, 0.0, 1.0709657493599373e-24]], [[3.791827962729144e-10, 5.767985200577641e-08, 1.9591370626487192e-12, 1.0401261015674512e-13, 1.7740686307152198e-13, 1.0], [1.5190499724674198e-26, 1.326064326950465e-22, 4.264050082338302e-35, 7.6824488399288295e-34, 2.9032911958953743e-31, 1.0], [1.9968731695817876e-21, 6.1983540248277825e-22, 1.0, 4.4599224314958456e-39, 1.9504889012796758e-36, 5.044674471569341e-44], [6.110193797872646e-39, 4.90454462513686e-44, 1.0, 0.0, 0.0, 0.0], [1.0, 1.5344036041753384e-09, 3.0203864669802194e-30, 6.252438013450244e-19, 2.0228628953158188e-37, 3.3924420899194335e-30], [5.439466946960706e-35, 3.839557792249999e-43, 0.0, 1.1305491683812996e-15, 0.0, 1.0]]], [[[0.6080519556999207, 0.1361607164144516, 0.12319297343492508, 0.045597732067108154, 0.0030497992411255836, 0.08394675701856613], [0.361478328704834, 0.21141980588436127, 0.08912888914346695, 0.2443862408399582, 0.05010797828435898, 0.04347875341773033], [0.13538148999214172, 0.0517045333981514, 0.0032092900946736336, 0.7518009543418884, 0.014612065628170967, 0.043291620910167694], [5.7841312809614465e-05, 0.0006518604350276291, 0.0009757498046383262, 0.001309722545556724, 0.9966928958892822, 0.0003119155007880181], [0.04793199896812439, 0.0702231228351593, 0.36917510628700256, 0.422675222158432, 0.014304935932159424, 0.0756896436214447], [0.055100392550230026, 0.024741075932979584, 0.2988821864128113, 0.07042757421731949, 0.3355378210544586, 0.21531088650226593]], [[0.06983489543199539, 0.04517192766070366, 0.1432182788848877, 0.0642610415816307, 0.5163604021072388, 0.16115352511405945], [0.011585588566958904, 0.004870883654803038, 0.035564955323934555, 0.021958526223897934, 0.8588336706161499, 0.06718628108501434], [0.012208148837089539, 0.025638973340392113, 0.005617904011160135, 0.004771514795720577, 0.9422227144241333, 0.009540732949972153], [0.6996802687644958, 0.22079363465309143, 0.010543418116867542, 0.0017663536127656698, 0.010043037123978138, 0.057173289358615875], [0.1639670729637146, 0.19998851418495178, 0.09735605120658875, 0.16979651153087616, 0.03463380038738251, 0.3342580497264862], [0.17506495118141174, 0.45713701844215393, 0.18793512880802155, 0.05037146434187889, 0.09003424644470215, 0.03945719078183174]], [[0.14599956572055817, 0.06432376801967621, 0.14169847965240479, 0.06326794624328613, 0.11527975648641586, 0.46943047642707825], [0.9876669645309448, 0.0003475110570434481, 0.00324007379822433, 0.0013024309882894158, 0.0050654360093176365, 0.0023775864392518997], [0.4083496332168579, 0.36490949988365173, 0.05827047675848007, 0.05244513228535652, 0.03866634517908096, 0.07735885679721832], [0.15928295254707336, 0.1636139303445816, 0.29462260007858276, 0.01593242958188057, 0.25120165944099426, 0.11534640938043594], [0.11902587115764618, 0.20504261553287506, 0.057502422481775284, 0.37600284814834595, 0.04069159924983978, 0.20173461735248566], [0.01824905164539814, 0.02432272955775261, 0.01797916553914547, 0.04107731580734253, 0.7520935535430908, 0.14627812802791595]], [[0.01683523878455162, 0.5817864537239075, 0.006426058243960142, 0.01625804603099823, 0.3526633083820343, 0.026030924171209335], [0.7308666110038757, 0.0036605626810342073, 0.020483845844864845, 0.022051209583878517, 0.022912010550498962, 0.2000257521867752], [0.062275320291519165, 0.913902223110199, 0.0006482981261797249, 0.0072244396433234215, 0.002412210451439023, 0.013537631370127201], [0.685353696346283, 0.041193362325429916, 0.024334361776709557, 0.012382257729768753, 0.029186582192778587, 0.20754970610141754], [0.3505166172981262, 0.03102385811507702, 0.19622719287872314, 0.15778952836990356, 0.012524888850748539, 0.25191789865493774], [0.07523974776268005, 0.05570981651544571, 0.12465225905179977, 0.007167567498981953, 0.7307754158973694, 0.006455161143094301]]]], \"left_text\": [\"hello\", \"how\", \"are\", \"you\", \"?\", \"<eos>\"], \"right_text\": [\"hello\", \"how\", \"are\", \"you\", \"?\", \"<eos>\"]}], \"default_filter\": \"0\", \"display_mode\": \"dark\", \"root_div_id\": \"bertviz-66f972dea2fa48cc8d2c0e41a9967798\", \"include_layers\": [0, 1], \"include_heads\": [0, 1, 2, 3], \"total_heads\": 4}; // HACK: {\"attention\": [{\"name\": null, \"attn\": [[[[1.1805009512121518e-16, 1.869521459283276e-23, 2.0843765590210141e-16, 1.0, 0.0, 1.4295500782263935e-17], [0.6887481212615967, 4.1478434544014585e-43, 1.029870293370881e-40, 0.0, 0.31125181913375854, 0.0], [0.33991000056266785, 4.3833661482275855e-30, 5.803100163749602e-29, 4.077815783047255e-25, 1.6108981204052812e-28, 0.6600900292396545], [6.660038481572496e-16, 0.0, 4.6444773144061445e-15, 0.0, 0.0, 1.0], [0.0, 0.0, 0.0, 0.0, 0.0, 1.0], [1.0, 1.8155646985817953e-09, 5.146926218557724e-10, 3.126296873908667e-42, 2.033685865835024e-31, 4.708362840131385e-43]], [[7.912959176792356e-07, 0.9999991655349731, 4.4022669725893564e-15, 2.5850250274216107e-18, 6.556102980553017e-31, 1.2614114097182389e-28], [6.690473477844003e-22, 9.763186353123343e-13, 1.259412068051374e-21, 1.0, 1.2830418900355165e-29, 3.545285114741787e-43], [2.9182847219064258e-36, 4.399573668482378e-20, 1.0, 7.006492321624085e-45, 1.7971900329553178e-21, 9.364309731266083e-27], [0.0, 0.0, 0.0, 0.0, 0.0, 1.0], [7.485344900612505e-30, 1.0, 0.0, 8.835339130572033e-17, 0.0, 0.0], [2.922710009358416e-27, 6.673338062141846e-24, 1.2334130553943641e-23, 0.0, 0.0, 1.0]], [[0.0, 0.0, 0.0, 0.0, 0.0, 1.0], [0.0, 0.0, 0.0, 0.0, 0.0, 1.0], [4.0637655465419695e-44, 1.0832037129230836e-42, 1.0, 0.0, 0.0, 0.0], [0.0, 0.0, 0.0, 0.0, 0.0, 1.0], [0.0, 0.0, 0.0, 0.0, 0.0, 1.0], [0.0, 0.0, 0.0, 1.0, 0.0, 1.0709657493599373e-24]], [[3.791827962729144e-10, 5.767985200577641e-08, 1.9591370626487192e-12, 1.0401261015674512e-13, 1.7740686307152198e-13, 1.0], [1.5190499724674198e-26, 1.326064326950465e-22, 4.264050082338302e-35, 7.6824488399288295e-34, 2.9032911958953743e-31, 1.0], [1.9968731695817876e-21, 6.1983540248277825e-22, 1.0, 4.4599224314958456e-39, 1.9504889012796758e-36, 5.044674471569341e-44], [6.110193797872646e-39, 4.90454462513686e-44, 1.0, 0.0, 0.0, 0.0], [1.0, 1.5344036041753384e-09, 3.0203864669802194e-30, 6.252438013450244e-19, 2.0228628953158188e-37, 3.3924420899194335e-30], [5.439466946960706e-35, 3.839557792249999e-43, 0.0, 1.1305491683812996e-15, 0.0, 1.0]]], [[[0.6080519556999207, 0.1361607164144516, 0.12319297343492508, 0.045597732067108154, 0.0030497992411255836, 0.08394675701856613], [0.361478328704834, 0.21141980588436127, 0.08912888914346695, 0.2443862408399582, 0.05010797828435898, 0.04347875341773033], [0.13538148999214172, 0.0517045333981514, 0.0032092900946736336, 0.7518009543418884, 0.014612065628170967, 0.043291620910167694], [5.7841312809614465e-05, 0.0006518604350276291, 0.0009757498046383262, 0.001309722545556724, 0.9966928958892822, 0.0003119155007880181], [0.04793199896812439, 0.0702231228351593, 0.36917510628700256, 0.422675222158432, 0.014304935932159424, 0.0756896436214447], [0.055100392550230026, 0.024741075932979584, 0.2988821864128113, 0.07042757421731949, 0.3355378210544586, 0.21531088650226593]], [[0.06983489543199539, 0.04517192766070366, 0.1432182788848877, 0.0642610415816307, 0.5163604021072388, 0.16115352511405945], [0.011585588566958904, 0.004870883654803038, 0.035564955323934555, 0.021958526223897934, 0.8588336706161499, 0.06718628108501434], [0.012208148837089539, 0.025638973340392113, 0.005617904011160135, 0.004771514795720577, 0.9422227144241333, 0.009540732949972153], [0.6996802687644958, 0.22079363465309143, 0.010543418116867542, 0.0017663536127656698, 0.010043037123978138, 0.057173289358615875], [0.1639670729637146, 0.19998851418495178, 0.09735605120658875, 0.16979651153087616, 0.03463380038738251, 0.3342580497264862], [0.17506495118141174, 0.45713701844215393, 0.18793512880802155, 0.05037146434187889, 0.09003424644470215, 0.03945719078183174]], [[0.14599956572055817, 0.06432376801967621, 0.14169847965240479, 0.06326794624328613, 0.11527975648641586, 0.46943047642707825], [0.9876669645309448, 0.0003475110570434481, 0.00324007379822433, 0.0013024309882894158, 0.0050654360093176365, 0.0023775864392518997], [0.4083496332168579, 0.36490949988365173, 0.05827047675848007, 0.05244513228535652, 0.03866634517908096, 0.07735885679721832], [0.15928295254707336, 0.1636139303445816, 0.29462260007858276, 0.01593242958188057, 0.25120165944099426, 0.11534640938043594], [0.11902587115764618, 0.20504261553287506, 0.057502422481775284, 0.37600284814834595, 0.04069159924983978, 0.20173461735248566], [0.01824905164539814, 0.02432272955775261, 0.01797916553914547, 0.04107731580734253, 0.7520935535430908, 0.14627812802791595]], [[0.01683523878455162, 0.5817864537239075, 0.006426058243960142, 0.01625804603099823, 0.3526633083820343, 0.026030924171209335], [0.7308666110038757, 0.0036605626810342073, 0.020483845844864845, 0.022051209583878517, 0.022912010550498962, 0.2000257521867752], [0.062275320291519165, 0.913902223110199, 0.0006482981261797249, 0.0072244396433234215, 0.002412210451439023, 0.013537631370127201], [0.685353696346283, 0.041193362325429916, 0.024334361776709557, 0.012382257729768753, 0.029186582192778587, 0.20754970610141754], [0.3505166172981262, 0.03102385811507702, 0.19622719287872314, 0.15778952836990356, 0.012524888850748539, 0.25191789865493774], [0.07523974776268005, 0.05570981651544571, 0.12465225905179977, 0.007167567498981953, 0.7307754158973694, 0.006455161143094301]]]], \"left_text\": [\"hello\", \"how\", \"are\", \"you\", \"?\", \"<eos>\"], \"right_text\": [\"hello\", \"how\", \"are\", \"you\", \"?\", \"<eos>\"]}], \"default_filter\": \"0\", \"display_mode\": \"dark\", \"root_div_id\": \"bertviz-66f972dea2fa48cc8d2c0e41a9967798\", \"include_layers\": [0, 1], \"include_heads\": [0, 1, 2, 3], \"total_heads\": 4} is a template marker that is replaced by actual params.\n",
       "        const config = {};\n",
       "\n",
       "        const MIN_X = 0;\n",
       "        const MIN_Y = 0;\n",
       "        const DIV_WIDTH = 970;\n",
       "        const THUMBNAIL_PADDING = 5;\n",
       "        const DETAIL_WIDTH = 300;\n",
       "        const DETAIL_ATTENTION_WIDTH = 140;\n",
       "        const DETAIL_BOX_WIDTH = 80;\n",
       "        const DETAIL_BOX_HEIGHT = 18;\n",
       "        const DETAIL_PADDING = 28;\n",
       "        const ATTN_PADDING = 0;\n",
       "        const DETAIL_HEADING_HEIGHT = 25;\n",
       "        const DETAIL_HEADING_TEXT_SIZE = 15;\n",
       "        const TEXT_SIZE = 13;\n",
       "        const LAYER_COLORS = d3.schemeCategory10;\n",
       "        const PALETTE = {\n",
       "            'light': {\n",
       "                'text': 'black',\n",
       "                'background': 'white',\n",
       "                'highlight': '#F5F5F5'\n",
       "            },\n",
       "            'dark': {\n",
       "                'text': '#bbb',\n",
       "                'background': 'black',\n",
       "                'highlight': '#222'\n",
       "            }\n",
       "        }\n",
       "\n",
       "        function render() {\n",
       "\n",
       "            // Set global state variables\n",
       "\n",
       "            var attData = config.attention[config.filter];\n",
       "            config.leftText = attData.left_text;\n",
       "            config.rightText = attData.right_text;\n",
       "            config.attn = attData.attn;\n",
       "            config.numLayers = config.attn.length;\n",
       "            config.numHeads = config.attn[0].length;\n",
       "            config.thumbnailBoxHeight = 7 * (12 / config.totalHeads);\n",
       "            config.thumbnailHeight = Math.max(config.leftText.length, config.rightText.length) * config.thumbnailBoxHeight + 2 * THUMBNAIL_PADDING;\n",
       "            config.thumbnailWidth = DIV_WIDTH / config.totalHeads;\n",
       "            config.detailHeight = Math.max(config.leftText.length, config.rightText.length) * DETAIL_BOX_HEIGHT + 2 * DETAIL_PADDING + DETAIL_HEADING_HEIGHT;\n",
       "            config.divHeight = Math.max(config.numLayers * config.thumbnailHeight, config.detailHeight);\n",
       "\n",
       "            const vis = $(`#${config.rootDivId} #vis`)\n",
       "            vis.empty();\n",
       "            vis.attr(\"height\", config.divHeight);\n",
       "            config.svg = d3.select(`#${config.rootDivId} #vis`)\n",
       "                .append('svg')\n",
       "                .attr(\"width\", DIV_WIDTH)\n",
       "                .attr(\"height\", config.divHeight)\n",
       "              .attr(\"fill\", getBackgroundColor());\n",
       "\n",
       "            var i;\n",
       "            var j;\n",
       "            for (i = 0; i < config.numLayers; i++) {\n",
       "                for (j = 0; j < config.numHeads; j++) {\n",
       "                    renderThumbnail(i, j);\n",
       "                }\n",
       "            }\n",
       "        }\n",
       "\n",
       "        function renderThumbnail(layerIndex, headIndex) {\n",
       "            var x = headIndex * config.thumbnailWidth;\n",
       "            var y = layerIndex * config.thumbnailHeight;\n",
       "            renderThumbnailAttn(x, y, config.attn[layerIndex][headIndex], layerIndex, headIndex);\n",
       "        }\n",
       "\n",
       "        function renderDetail(att, layerIndex, headIndex) {\n",
       "            var xOffset = .8 * config.thumbnailWidth;\n",
       "            var maxX = DIV_WIDTH;\n",
       "            var maxY = config.divHeight;\n",
       "            var leftPos = (headIndex / config.totalHeads) * DIV_WIDTH\n",
       "            var x = leftPos + THUMBNAIL_PADDING + xOffset;\n",
       "            if (x < MIN_X) {\n",
       "                x = MIN_X;\n",
       "            } else if (x + DETAIL_WIDTH > maxX) {\n",
       "                x = leftPos + THUMBNAIL_PADDING - DETAIL_WIDTH + 8;\n",
       "            }\n",
       "            var posLeftText = x;\n",
       "            var posAttention = posLeftText + DETAIL_BOX_WIDTH;\n",
       "            var posRightText = posAttention + DETAIL_ATTENTION_WIDTH;\n",
       "            var thumbnailHeight = Math.max(config.leftText.length, config.rightText.length) * config.thumbnailBoxHeight + 2 * THUMBNAIL_PADDING;\n",
       "            var yOffset = 20;\n",
       "            var y = layerIndex * thumbnailHeight + THUMBNAIL_PADDING + yOffset;\n",
       "            if (y < MIN_Y) {\n",
       "                y = MIN_Y;\n",
       "            } else if (y + config.detailHeight > maxY) {\n",
       "                y = maxY - config.detailHeight;\n",
       "            }\n",
       "            renderDetailFrame(x, y, layerIndex);\n",
       "            renderDetailHeading(x, y + Math.max(config.leftText.length, config.rightText.length) *\n",
       "                DETAIL_BOX_HEIGHT, layerIndex, headIndex);\n",
       "            renderDetailText(config.leftText, \"leftText\", posLeftText, y + DETAIL_PADDING, layerIndex);\n",
       "            renderDetailAttn(posAttention, y + DETAIL_PADDING, att, layerIndex, headIndex);\n",
       "            renderDetailText(config.rightText, \"rightText\", posRightText, y + DETAIL_PADDING, layerIndex);\n",
       "        }\n",
       "\n",
       "        function renderDetailHeading(x, y, layerIndex, headIndex) {\n",
       "            var fillColor = getTextColor();\n",
       "            config.svg.append(\"text\")\n",
       "                .classed(\"detail\", true)\n",
       "                .text('Layer ' + config.layers[layerIndex] + \", Head \" + config.heads[headIndex])\n",
       "                .attr(\"font-size\", DETAIL_HEADING_TEXT_SIZE + \"px\")\n",
       "                .style(\"cursor\", \"default\")\n",
       "                .style(\"-webkit-user-select\", \"none\")\n",
       "                .attr(\"fill\", fillColor)\n",
       "                .attr(\"x\", x + DETAIL_WIDTH / 2)\n",
       "                .attr(\"text-anchor\", \"middle\")\n",
       "                .attr(\"y\", y + 40)\n",
       "                .attr(\"height\", DETAIL_HEADING_HEIGHT)\n",
       "                .attr(\"width\", DETAIL_WIDTH)\n",
       "                .attr(\"dy\", DETAIL_HEADING_TEXT_SIZE);\n",
       "        }\n",
       "\n",
       "        function renderDetailText(text, id, x, y, layerIndex) {\n",
       "            var tokenContainer = config.svg.append(\"svg:g\")\n",
       "                .classed(\"detail\", true)\n",
       "                .selectAll(\"g\")\n",
       "                .data(text)\n",
       "                .enter()\n",
       "                .append(\"g\");\n",
       "\n",
       "            var fillColor = getTextColor();\n",
       "\n",
       "            tokenContainer.append(\"rect\")\n",
       "                .classed(\"highlight\", true)\n",
       "                .attr(\"fill\", fillColor)\n",
       "                .style(\"opacity\", 0.0)\n",
       "                .attr(\"height\", DETAIL_BOX_HEIGHT)\n",
       "                .attr(\"width\", DETAIL_BOX_WIDTH)\n",
       "                .attr(\"x\", x)\n",
       "                .attr(\"y\", function (d, i) {\n",
       "                    return y + i * DETAIL_BOX_HEIGHT;\n",
       "                });\n",
       "\n",
       "            var textContainer = tokenContainer.append(\"text\")\n",
       "                .classed(\"token\", true)\n",
       "                .text(function (d) {\n",
       "                    return d;\n",
       "                })\n",
       "                .attr(\"font-size\", TEXT_SIZE + \"px\")\n",
       "                .style(\"cursor\", \"default\")\n",
       "                .style(\"-webkit-user-select\", \"none\")\n",
       "                .attr(\"fill\", fillColor)\n",
       "                .attr(\"x\", x)\n",
       "                .attr(\"y\", function (d, i) {\n",
       "                    return i * DETAIL_BOX_HEIGHT + y;\n",
       "                })\n",
       "                .attr(\"height\", DETAIL_BOX_HEIGHT)\n",
       "                .attr(\"width\", DETAIL_BOX_WIDTH)\n",
       "                .attr(\"dy\", TEXT_SIZE);\n",
       "\n",
       "            if (id == \"leftText\") {\n",
       "                textContainer.style(\"text-anchor\", \"end\")\n",
       "                    .attr(\"dx\", DETAIL_BOX_WIDTH - 2);\n",
       "                tokenContainer.on(\"mouseover\", function (d, index) {\n",
       "                    highlightSelection(index);\n",
       "                });\n",
       "                tokenContainer.on(\"mouseleave\", function () {\n",
       "                    unhighlightSelection();\n",
       "                });\n",
       "            }\n",
       "        }\n",
       "\n",
       "        function highlightSelection(index) {\n",
       "            config.svg.select(\"#leftText\")\n",
       "                .selectAll(\".highlight\")\n",
       "                .style(\"opacity\", function (d, i) {\n",
       "                    return i == index ? 1.0 : 0.0;\n",
       "                });\n",
       "            config.svg.selectAll(\".attn-line-group\")\n",
       "                .style(\"opacity\", function (d, i) {\n",
       "                    return i == index ? 1.0 : 0.0;\n",
       "                });\n",
       "        }\n",
       "\n",
       "        function unhighlightSelection() {\n",
       "            config.svg.select(\"#leftText\")\n",
       "                .selectAll(\".highlight\")\n",
       "                .style(\"opacity\", 0.0);\n",
       "            config.svg.selectAll(\".attn-line-group\")\n",
       "                .style(\"opacity\", 1);\n",
       "        }\n",
       "\n",
       "        function renderThumbnailAttn(x, y, att, layerIndex, headIndex) {\n",
       "\n",
       "            var attnContainer = config.svg.append(\"svg:g\");\n",
       "\n",
       "            var attnBackground = attnContainer.append(\"rect\")\n",
       "                .attr(\"id\", 'attn_background_' + layerIndex + \"_\" + headIndex)\n",
       "                .classed(\"attn_background\", true)\n",
       "                .attr(\"x\", x)\n",
       "                .attr(\"y\", y)\n",
       "                .attr(\"height\", config.thumbnailHeight)\n",
       "                .attr(\"width\", config.thumbnailWidth)\n",
       "                .attr(\"stroke-width\", 2)\n",
       "                .attr(\"stroke\", getLayerColor(layerIndex))\n",
       "                .attr(\"stroke-opacity\", 0)\n",
       "                .attr(\"fill\", getBackgroundColor());\n",
       "            var x1 = x + THUMBNAIL_PADDING;\n",
       "            var x2 = x1 + config.thumbnailWidth - 14;\n",
       "            var y1 = y + THUMBNAIL_PADDING;\n",
       "\n",
       "            attnContainer.selectAll(\"g\")\n",
       "                .data(att)\n",
       "                .enter()\n",
       "                .append(\"g\") // Add group for each source token\n",
       "                .attr(\"source-index\", function (d, i) { // Save index of source token\n",
       "                    return i;\n",
       "                })\n",
       "                .selectAll(\"line\")\n",
       "                .data(function (d) { // Loop over all target tokens\n",
       "                    return d;\n",
       "                })\n",
       "                .enter() // When entering\n",
       "                .append(\"line\")\n",
       "                .attr(\"x1\", x1)\n",
       "                .attr(\"y1\", function (d) {\n",
       "                    var sourceIndex = +this.parentNode.getAttribute(\"source-index\");\n",
       "                    return y1 + (sourceIndex + .5) * config.thumbnailBoxHeight;\n",
       "                })\n",
       "                .attr(\"x2\", x2)\n",
       "                .attr(\"y2\", function (d, targetIndex) {\n",
       "                    return y1 + (targetIndex + .5) * config.thumbnailBoxHeight;\n",
       "                })\n",
       "                .attr(\"stroke-width\", 2.2)\n",
       "                .attr(\"stroke\", getLayerColor(layerIndex))\n",
       "                .attr(\"stroke-opacity\", function (d) {\n",
       "                    return d;\n",
       "                });\n",
       "\n",
       "            var clickRegion = attnContainer.append(\"rect\")\n",
       "                .attr(\"x\", x)\n",
       "                .attr(\"y\", y)\n",
       "                .attr(\"height\", config.thumbnailHeight)\n",
       "                .attr(\"width\", config.thumbnailWidth)\n",
       "                .style(\"opacity\", 0);\n",
       "\n",
       "            clickRegion.on(\"click\", function (d, index) {\n",
       "                var attnBackgroundOther = config.svg.selectAll(\".attn_background\");\n",
       "                attnBackgroundOther.attr(\"fill\", getBackgroundColor());\n",
       "                attnBackgroundOther.attr(\"stroke-opacity\", 0);\n",
       "\n",
       "                config.svg.selectAll(\".detail\").remove();\n",
       "                if (config.detail_layer != layerIndex || config.detail_head != headIndex) {\n",
       "                    renderDetail(att, layerIndex, headIndex);\n",
       "                    config.detail_layer = layerIndex;\n",
       "                    config.detail_head = headIndex;\n",
       "                    attnBackground.attr(\"fill\", getHighlightColor());\n",
       "                    attnBackground.attr(\"stroke-opacity\", .8);\n",
       "                } else {\n",
       "                    config.detail_layer = null;\n",
       "                    config.detail_head = null;\n",
       "                    attnBackground.attr(\"fill\", getBackgroundColor());\n",
       "                    attnBackground.attr(\"stroke-opacity\", 0);\n",
       "                }\n",
       "            });\n",
       "\n",
       "            clickRegion.on(\"mouseover\", function (d) {\n",
       "                d3.select(this).style(\"cursor\", \"pointer\");\n",
       "            });\n",
       "        }\n",
       "\n",
       "        function renderDetailFrame(x, y, layerIndex) {\n",
       "            var detailFrame = config.svg.append(\"rect\")\n",
       "                .classed(\"detail\", true)\n",
       "                .attr(\"x\", x)\n",
       "                .attr(\"y\", y)\n",
       "                .attr(\"height\", config.detailHeight)\n",
       "                .attr(\"width\", DETAIL_WIDTH)\n",
       "                .style(\"opacity\", 1)\n",
       "                .attr(\"stroke-width\", 1.5)\n",
       "                .attr(\"stroke-opacity\", 0.7)\n",
       "                .attr(\"stroke\", getLayerColor(layerIndex));\n",
       "        }\n",
       "\n",
       "        function renderDetailAttn(x, y, att, layerIndex) {\n",
       "            var attnContainer = config.svg.append(\"svg:g\")\n",
       "                .classed(\"detail\", true)\n",
       "                .attr(\"pointer-events\", \"none\");\n",
       "            attnContainer.selectAll(\"g\")\n",
       "                .data(att)\n",
       "                .enter()\n",
       "                .append(\"g\") // Add group for each source token\n",
       "                .classed('attn-line-group', true)\n",
       "                .attr(\"source-index\", function (d, i) { // Save index of source token\n",
       "                    return i;\n",
       "                })\n",
       "                .selectAll(\"line\")\n",
       "                .data(function (d) { // Loop over all target tokens\n",
       "                    return d;\n",
       "                })\n",
       "                .enter()\n",
       "                .append(\"line\")\n",
       "                .attr(\"x1\", x + ATTN_PADDING)\n",
       "                .attr(\"y1\", function (d) {\n",
       "                    var sourceIndex = +this.parentNode.getAttribute(\"source-index\");\n",
       "                    return y + (sourceIndex + .5) * DETAIL_BOX_HEIGHT;\n",
       "                })\n",
       "                .attr(\"x2\", x + DETAIL_ATTENTION_WIDTH - ATTN_PADDING)\n",
       "                .attr(\"y2\", function (d, targetIndex) {\n",
       "                    return y + (targetIndex + .5) * DETAIL_BOX_HEIGHT;\n",
       "                })\n",
       "                .attr(\"stroke-width\", 2.2)\n",
       "                .attr(\"stroke\", getLayerColor(layerIndex))\n",
       "                .attr(\"stroke-opacity\", function (d) {\n",
       "                    return d;\n",
       "                });\n",
       "        }\n",
       "\n",
       "        function getLayerColor(layer) {\n",
       "          return LAYER_COLORS[layer % 10];\n",
       "        }\n",
       "\n",
       "        function getTextColor() {\n",
       "            return PALETTE[config.mode]['text']\n",
       "        }\n",
       "\n",
       "        function getBackgroundColor() {\n",
       "           return PALETTE[config.mode]['background']\n",
       "        }\n",
       "\n",
       "        function getHighlightColor() {\n",
       "           return PALETTE[config.mode]['highlight']\n",
       "        }\n",
       "\n",
       "        function initialize() {\n",
       "            config.attention = params['attention'];\n",
       "            config.filter = params['default_filter'];\n",
       "            config.mode = params['display_mode'];\n",
       "            config.layers = params['include_layers']\n",
       "            config.heads = params['include_heads']\n",
       "            config.totalHeads = params['total_heads']\n",
       "            config.rootDivId = params['root_div_id'];\n",
       "            $(`#${config.rootDivId} #filter`).on('change', function (e) {\n",
       "                config.filter = e.currentTarget.value;\n",
       "                render();\n",
       "            });\n",
       "        }\n",
       "\n",
       "        initialize();\n",
       "        render();\n",
       "\n",
       "    });"
      ],
      "text/plain": [
       "<IPython.core.display.Javascript object>"
      ]
     },
     "metadata": {},
     "output_type": "display_data"
    }
   ],
   "source": [
    "show_model_view(results)"
   ]
  },
  {
   "cell_type": "code",
   "execution_count": 61,
   "metadata": {},
   "outputs": [
    {
     "name": "stdout",
     "output_type": "stream",
     "text": [
      "Tokenized source: she 's five years older than me .\n",
      "Prediction: elle est cinq ans plus vieux que moi .\n",
      "Detokenized prediction: elle est cinq ans plus vieux que moi .\n",
      "Google Translate (en->fr): elle a cinq ans de plus que moi .\n",
      "Google Translate on prediction (fr->en): she is five years older than me.\n"
     ]
    },
    {
     "data": {
      "image/png": "[encoded data removed]",
      "text/plain": [
       "<Figure size 432x288 with 2 Axes>"
      ]
     },
     "metadata": {
      "needs_background": "light"
     },
     "output_type": "display_data"
    }
   ],
   "source": [
    "translate(transformer_model, \"she 's five years older than me .\")"
   ]
  },
  {
   "cell_type": "code",
   "execution_count": 62,
   "metadata": {},
   "outputs": [
    {
     "name": "stdout",
     "output_type": "stream",
     "text": [
      "Tokenized source: i know that the last thing you want to do is help me .\n",
      "Prediction: je sais que la dernière chose que tu veux faire est d' aide .\n",
      "Detokenized prediction: je sais que la dernière chose que tu veux faire est d' aide .\n",
      "Google Translate (en->fr): Je sais que la dernière chose que tu veux faire est de m'aider.\n",
      "Google Translate on prediction (fr->en): I know the last thing you want to do is help.\n"
     ]
    },
    {
     "data": {
      "image/png": "[encoded data removed]",
      "text/plain": [
       "<Figure size 432x288 with 2 Axes>"
      ]
     },
     "metadata": {
      "needs_background": "light"
     },
     "output_type": "display_data"
    }
   ],
   "source": [
    "translate(transformer_model, 'i know that the last thing you want to do is help me .')"
   ]
  },
  {
   "cell_type": "markdown",
   "metadata": {},
   "source": [
    "# Politeness control\n",
    "\n",
    "Some aspects of generation can be controlled thanks to special tokens in the input.\n",
    "For instance, this work https://aclanthology.org/N16-1005/ used special tokens to control the politeness of the output.\n",
    "\n",
    "We will implement this approach for English-French translation, to control the use of \"tu\" VS \"vous\" pronouns, which are formal/informal translations of \"you\".\n",
    "\n",
    "We only need to partition the training data into formal VS informal splits, by looking for occurrences of \"tu\" and \"vous\" (and other pronouns). Then, add source-side control tags depending on the politeness level of the target, and train the model with this.\n",
    "At test time, we only need to put the right control tag and the model will know how to interpret it to pick the right level of politeness.\n",
    "\n",
    "\n",
    "## Preparing Dataset\n",
    "\n",
    "As we only rely on the \"politeness control token,\" it is necessary to prepare distinctive polite and non-polite training samples from the corpus.\n",
    "\n",
    "While a lot of different aspects of French grammar can be considered here, to start with, we pick sentences that contain \"tu\" and \"vous\" — both meaning \"you\"  in English — and label them as \"non-polite\" and \"polite,\" respectively.\n",
    "\n",
    "### Regular expression (regex)\n",
    "\n",
    "A regular expression is a handy tool for preprocessing sentences by pattern-matching character combinations in strings.\n",
    "\n",
    "To extract the sentences that contain the word \"tu\" or \"vous\" (and some others), we can use the following regexes:\n",
    "```python\n",
    "r'(^|\\W)(vous|votre|vos|vôtre|vôtres)(\\W|$)'\n",
    "r'(^|\\W)(tu|ton|ta|tes|tien|tienne|tiens|tiennes)(\\W|$)'\n",
    "```\n",
    "They match sentences that contain the corresponding words by making sure that each word is preceded and followed by a \"non-word\" character.\n",
    "\n",
    "For more information on regexes, you can checkout the following resources:\n",
    "- https://www.regular-expressions.info/tutorial.html\n",
    "- https://regex101.com/#python"
   ]
  },
  {
   "cell_type": "code",
   "execution_count": null,
   "metadata": {},
   "outputs": [],
   "source": [
    "def is_formal(line):\n",
    "    \"\"\"\n",
    "    Contains formal translations of \"you/your/yours\"\n",
    "    \"\"\"\n",
    "    return bool(re.search(\n",
    "        r'(^|\\W)(vous|votre|vos|vôtre|vôtres)(\\W|$)',\n",
    "        line, re.IGNORECASE))\n",
    "\n",
    "def is_informal(line):\n",
    "    \"\"\"\n",
    "    Contains informal translations of \"you/your/yours\"\n",
    "    \"\"\"\n",
    "    return bool(re.search(\n",
    "        r'(^|\\W)(tu|ton|ta|tes|tien|tienne|tiens|tiennes)(\\W|$)',\n",
    "        line, re.IGNORECASE))"
   ]
  },
  {
   "cell_type": "markdown",
   "metadata": {},
   "source": [
    "### Adding politeness control tags\n",
    "\n",
    "When we identify sentences that are either polite or non-polite, we can attach corresponding control tags in front of each sentence."
   ]
  },
  {
   "cell_type": "code",
   "execution_count": null,
   "metadata": {},
   "outputs": [],
   "source": [
    "def preprocess_formal(source_line, target_line=None, source_lang=None, target_lang=None):\n",
    "    source_line, target_line = preprocess(source_line, target_line)\n",
    "    source_line = f'<formal> {source_line}'\n",
    "    return source_line, target_line\n",
    "\n",
    "def preprocess_informal(source_line, target_line=None, source_lang=None, target_lang=None):\n",
    "    source_line, target_line = preprocess(source_line, target_line)\n",
    "    source_line = f'<informal> {source_line}'\n",
    "    return source_line, target_line\n",
    "\n",
    "def preprocess_formal_or_informal(source_line, target_line, source_lang=None, target_lang=None):\n",
    "    \"\"\"\n",
    "    Preprocessing function for politeness control:\n",
    "    - keep only line pairs whose target side has French formal or informal pronouns\n",
    "    - prepend politeness control tags to the source side\n",
    "    \"\"\"\n",
    "    if is_formal(target_line):\n",
    "        return preprocess_formal(source_line, target_line)\n",
    "    elif is_informal(target_line):\n",
    "        return preprocess_informal(source_line, target_line)\n",
    "    else:  # this line pair in neither formal nor informal\n",
    "        # This example will be filtered out by load_dataset (uncomment below to keep it, without a control tag):\n",
    "        # return preprocess(source_line, target_line)\n",
    "        return None"
   ]
  },
  {
   "cell_type": "markdown",
   "metadata": {},
   "source": [
    "### Filtering and loading the dataset\n",
    "\n",
    "Finally, we can filter and load the dataset by passing these functions to `load_dataset` method.\n",
    "This will keep only the line pairs where `is_formal(*pair)` is `True` and so on."
   ]
  },
  {
   "cell_type": "code",
   "execution_count": null,
   "metadata": {},
   "outputs": [],
   "source": [
    "# Use the same dataset as before\n",
    "train_path = os.path.join(data_dir, 'train.en-fr')\n",
    "valid_path = os.path.join(data_dir, 'valid.en-fr')\n",
    "\n",
    "# But preprocess it to keep only line pairs that use tu/vous pronouns and to append control tags\n",
    "train_data = load_dataset(\n",
    "    train_path, 'en', 'fr',\n",
    "    preprocess=preprocess_formal_or_informal,\n",
    ")\n",
    "\n",
    "valid_data = load_dataset(\n",
    "    valid_path, 'en', 'fr',\n",
    "    preprocess=preprocess_formal_or_informal,\n",
    ")"
   ]
  },
  {
   "cell_type": "markdown",
   "metadata": {},
   "source": [
    "## Setting up for training\n",
    "\n",
    "As we are introducing new vocabularies (i.e., the control tokens), we need to add them to our pretrained model's existing vocabulary.\n",
    "\n",
    "Here, we replace the last two most infrequent tokens so that we do not need to resize the vocabulary and embeddings.\n",
    "\n",
    "Note that the replaced words will now be mapped to UNK."
   ]
  },
  {
   "cell_type": "code",
   "execution_count": null,
   "metadata": {},
   "outputs": [],
   "source": [
    "source_dict = transformer_model.source_dict\n",
    "\n",
    "# Replace some infrequent tokens with the new control tokens (these words will now be mapped to UNK)\n",
    "# This is a bit dirty, but this way we don't have to resize the pretrained model's vocabulary and embeddings\n",
    "source_dict[len(source_dict) - 2] = '<formal>'\n",
    "source_dict[len(source_dict) - 1] = '<informal>'\n",
    "\n",
    "# Binarize the training and validation data with these vocabularies\n",
    "binarize(train_data, source_dict, target_dict, sort=True)\n",
    "binarize(valid_data, source_dict, target_dict, sort=False)\n",
    "\n",
    "# You can see that the training source examples now start with special tokens.\n",
    "print(train_data[:5])\n",
    "\n",
    "print('train_size={}, valid_size={}, min_len={}, max_len={}, avg_len={:.1f}'.format(\n",
    "    len(train_data),\n",
    "    len(valid_data),\n",
    "    train_data['source_len'].min(),\n",
    "    train_data['source_len'].max(),\n",
    "    train_data['source_len'].mean(),\n",
    "))\n",
    "\n",
    "reset_seed()\n",
    "\n",
    "train_iterator = BatchIterator(train_data, 'en', 'fr', batch_size=512, max_len=30, shuffle=True)\n",
    "valid_iterator = BatchIterator(valid_data, 'en', 'fr', batch_size=512, max_len=30, shuffle=False)"
   ]
  },
  {
   "cell_type": "code",
   "execution_count": null,
   "metadata": {},
   "outputs": [],
   "source": [
    "# Finetune the EN-FR pretrained Transformer model with the new data\n",
    "new_checkpoint_path = os.path.join(model_root, 'en-fr', 'polite-transformer.pt')\n",
    "transformer_model.reset_optimizer()\n",
    "# Uncomment below to reload the pre-trained model\n",
    "# transformer_model.load(os.path.join(pretrained_model_dir, 'transformer.pt'), reset_optimizer=True)\n",
    "train_model(transformer_model, train_iterator, [valid_iterator], new_checkpoint_path, epochs=5)"
   ]
  },
  {
   "cell_type": "markdown",
   "metadata": {},
   "source": [
    "## Inference"
   ]
  },
  {
   "cell_type": "code",
   "execution_count": null,
   "metadata": {},
   "outputs": [],
   "source": [
    "translate(transformer_model, \"would you lend me your bicycle ?\", preprocess_formal, 'en', 'fr')"
   ]
  },
  {
   "cell_type": "code",
   "execution_count": null,
   "metadata": {},
   "outputs": [],
   "source": [
    "translate(transformer_model, \"would you lend me your bicycle ?\", preprocess_informal, 'en', 'fr')"
   ]
  },
  {
   "cell_type": "markdown",
   "metadata": {},
   "source": [
    "## Your turn!\n",
    "\n",
    "### Improving the performance\n",
    "Can you improve the performance of politeness control by including more detailed filtering patterns, reflecting the usage of French grammar?\n",
    "\n",
    "It is probable that our current regular expressions may be limited and end up filtering false negative sentences."
   ]
  },
  {
   "cell_type": "markdown",
   "metadata": {},
   "source": [
    "## Control the gender of the output\n",
    "\n",
    "One known issue of machine translation models (and other NLP models) is that they tend to exhibit gender biases, caused by the same biases appearing in the training data. For instance, in case of ambiguity, a doctor is more likely to be translated as masculine and a nurse as feminine.\n",
    "\n",
    "For instance \"Dr. Dupont is very skilled\" -> \"Le Dr. Dupont est très compétent\" (\"compétent\" is masculine, the feminine form is \"compétente\").\n",
    "\n",
    "You will now use control tags to control the gender of the translation. Sentences starting with `<feminine>` will be translated with the feminine pronoun \"elle\" and translations of sentences starting with `<masculine>` will use the masculine pronoun \"il\".\n",
    "\n",
    "Unfortunately, we don't have a mainstream gender-neutral pronoun in French (like \"they\" in English).\n",
    "An option called \"inclusive writing\" consists in writing both pronouns (e.g., \"il/elle\"), but there aren't\n",
    "many natural occurrences of this in existing NLP datasets yet, so for simplicity we will stick to binary masculine/feminine.\n",
    "\n",
    "You can mostly mirror the \"Politeness control\" task and change the regular expressions.\n",
    "\n",
    "A notable difference with the previous task is that"
   ]
  },
  {
   "cell_type": "code",
   "execution_count": 63,
   "metadata": {},
   "outputs": [],
   "source": [
    "def is_feminine(line):\n",
    "    \"\"\"\n",
    "    Contains the French feminine pronoun \"elle\"\n",
    "    \"\"\"\n",
    "    raise NotImplementedError\n",
    "\n",
    "def is_masculine(line):\n",
    "    \"\"\"\n",
    "    Contains the French masculine pronoun \"il\"\n",
    "    \"\"\"\n",
    "    raise NotImplementedError\n",
    "\n",
    "def preprocess_feminine(source_line, target_line, source_lang=None, target_lang=None):\n",
    "    \"\"\"\n",
    "    Preprocessing function for feminine line pairs: the source side will have a special <feminine> token\n",
    "    \"\"\"\n",
    "    raise NotImplementedError\n",
    "\n",
    "def preprocess_masculine(source_line, target_line, source_lang=None, target_lang=None):\n",
    "    \"\"\"\n",
    "    Preprocessing function for masculine line pairs: the source side will have a special <masculine> token\n",
    "    \"\"\"\n",
    "    raise NotImplementedError\n",
    "\n",
    "def feminize(line):\n",
    "    \"\"\"\n",
    "    Change the English pronouns in `line` to be feminine\n",
    "    \"\"\"\n",
    "    raise NotImplementedError\n",
    "\n",
    "def masculinize(line):\n",
    "    \"\"\"\n",
    "    Change the English pronouns in `line` to be masculine\n",
    "    \"\"\"\n",
    "    raise NotImplementedError\n",
    "\n",
    "def preprocess_masculine_or_feminine(source_line, target_line, source_lang=None, target_lang=None):\n",
    "    \"\"\"\n",
    "    Preprocessing function for gender control:\n",
    "    - add the <feminine> source tag to sentences pairs whose target side is feminine\n",
    "    - add the <masculine> source tag to sentences pairs whose target side is masculine\n",
    "    - do data augmentation to swap the source-side gender with probability 0.5\n",
    "    \"\"\"\n",
    "    if is_feminine(target_line):\n",
    "        if np.random.rand() < 0.5:\n",
    "            source_line = masculinize(source_line)\n",
    "        return preprocess_feminine(source_line, target_line)\n",
    "    elif is_masculine(target_line):\n",
    "        if np.random.rand() < 0.5:\n",
    "            source_line = feminize(source_line)\n",
    "        return preprocess_masculine(source_line, target_line)\n",
    "    else:\n",
    "        # return preprocess(source_line, target_line)\n",
    "        return None"
   ]
  },
  {
   "cell_type": "markdown",
   "metadata": {},
   "source": [
    "#### Once the previous functions have been filled in, the following can be run without modifications:"
   ]
  },
  {
   "cell_type": "code",
   "execution_count": null,
   "metadata": {},
   "outputs": [],
   "source": [
    "reset_seed()\n",
    "\n",
    "train_data = load_dataset(train_path, 'en', 'fr', preprocess=preprocess_masculine_or_feminine)\n",
    "valid_data = load_dataset(valid_path, 'en', 'fr', preprocess=preprocess_masculine_or_feminine)\n",
    "\n",
    "source_dict = transformer_model.source_dict\n",
    "\n",
    "# Replace some infrequent tokens with the new control tokens (these words will now be mapped to UNK)\n",
    "# This is a bit dirty, but this way we don't have to resize the pretrained model's vocabulary and embeddings\n",
    "source_dict[len(source_dict) - 2] = '<feminine>'\n",
    "source_dict[len(source_dict) - 1] = '<masculine>'\n",
    "\n",
    "# Binarize the training and validation data with these vocabularies\n",
    "binarize(train_data, source_dict, target_dict, sort=True)\n",
    "binarize(valid_data, source_dict, target_dict, sort=False)\n",
    "\n",
    "# You can see that the training source examples now start with special tokens.\n",
    "print(train_data[:5])\n",
    "\n",
    "print('train_size={}, valid_size={}, min_len={}, max_len={}, avg_len={:.1f}'.format(\n",
    "    len(train_data),\n",
    "    len(valid_data),\n",
    "    train_data['source_len'].min(),\n",
    "    train_data['source_len'].max(),\n",
    "    train_data['source_len'].mean(),\n",
    "))\n",
    "\n",
    "train_iterator = BatchIterator(train_data, 'en', 'fr', batch_size=512, max_len=30, shuffle=True)\n",
    "valid_iterator = BatchIterator(valid_data, 'en', 'fr', batch_size=512, max_len=30, shuffle=False)"
   ]
  },
  {
   "cell_type": "code",
   "execution_count": null,
   "metadata": {},
   "outputs": [],
   "source": [
    "# Finetune the EN-FR pretrained Transformer model with the new data\n",
    "new_checkpoint_path = os.path.join(model_root, 'en-fr', 'gender-controllable-transformer.pt')\n",
    "transformer_model.reset_optimizer()\n",
    "# Uncomment below to reload the pre-trained model:\n",
    "# transformer_model.load(os.path.join(pretrained_model_dir, 'transformer.pt'), reset_optimizer=True)\n",
    "train_model(transformer_model, train_iterator, [valid_iterator], new_checkpoint_path, epochs=5)"
   ]
  },
  {
   "cell_type": "code",
   "execution_count": null,
   "metadata": {},
   "outputs": [],
   "source": [
    "translate(transformer_model, \"she goes to the ALPS winter school .\", preprocess_masculine, 'en', 'fr')"
   ]
  },
  {
   "cell_type": "code",
   "execution_count": null,
   "metadata": {},
   "outputs": [],
   "source": [
    "translate(transformer_model, \"she goes to the ALPS winter school .\", preprocess_feminine, 'en', 'fr')"
   ]
  },
  {
   "cell_type": "markdown",
   "metadata": {},
   "source": [
    "# Domain adaptation\n",
    "\n",
    "Can you think of any other domains where the usage of control tags can be effective?\n",
    "\n",
    "For example, domain adaption on medical or law fields could be an option.\n",
    "  - (Medical) https://ufal.mff.cuni.cz/ufal_medical_corpus\n",
    "  - (Law) https://www.clarin.eu/resource-families/parallel-corpora\n",
    "  \n",
    "Note that it is also important to have \"non-medical\" or \"non-law\" corpus in the overall training set as well."
   ]
  },
  {
   "cell_type": "markdown",
   "metadata": {},
   "source": [
    "# Multilingual Translation\n",
    "\n",
    "We will now look at multilingual translation, another trendy topic in MT. A single model can be trained to translate from multiple languages into multiple languages (https://aclanthology.org/Q17-1024/, https://arxiv.org/abs/2010.11125).\n",
    "This is done by having a single multilingual BPE model and dictionary, shared between all languages. The embedding matrix (and other model parameters) are also shared across languages. And this multilingual model is trained on multiple parallel datasets (e.g., en->fr, fr->en, de->en, en->de). Controlling the target language can be achieved by using special tokens, like for politeness control.\n",
    "\n",
    "Load a pre-trained **de, fr <-> en** model. The multilingual dictionary includes tokens for all three languages plus the language codes (`<lang:de>`, `<lang:en>`, `<lang:fr>`), which are prepended to each source sequence to identify the target language."
   ]
  },
  {
   "cell_type": "code",
   "execution_count": null,
   "metadata": {},
   "outputs": [],
   "source": [
    "multi_model_dir = os.path.join(root_dir, 'pretrained_models', 'de-en-fr')\n",
    "\n",
    "multi_dict = data.Dictionary.load(os.path.join(multi_model_dir, 'dict.txt'))\n",
    "\n",
    "encoder = models.TransformerEncoder(source_dict=multi_dict, hidden_size=512, num_layers=2, heads=4)\n",
    "decoder = models.TransformerDecoder(\n",
    "    target_dict=multi_dict,\n",
    "    hidden_size=512, num_layers=1, heads=4,\n",
    "    embedding=encoder.embedding)  # tied embeddings (multilingual models usually have shared source/target embeddings)\n",
    "\n",
    "multi_model = models.EncoderDecoder(encoder, decoder, lr=0.0005, use_cuda=not cpu)\n",
    "\n",
    "checkpoint_path = os.path.join(multi_model_dir, 'transformer.pt')\n",
    "multi_model.load(checkpoint_path)"
   ]
  },
  {
   "cell_type": "markdown",
   "metadata": {},
   "source": [
    "### Multilingual evaluation\n",
    "\n",
    "Modify the `preprocess` function to automatically prepend language codes to all source sequences (when calling `translate`, or `load_data`).\n",
    "\n",
    "And load test sets in all language pairs."
   ]
  },
  {
   "cell_type": "code",
   "execution_count": null,
   "metadata": {},
   "outputs": [],
   "source": [
    "def preprocess_multi(source_line, target_line, source_lang=None, target_lang=None):\n",
    "    source_line, target_line = preprocess(source_line, target_line)\n",
    "    source_line = f'<lang:{target_lang}> {source_line}'\n",
    "    return source_line, target_line\n",
    "\n",
    "test_sets = OrderedDict()\n",
    "\n",
    "for pair in 'en-fr', 'fr-en', 'en-de', 'de-en', 'de-fr', 'fr-de':\n",
    "    src, tgt = pair.split('-')\n",
    "    path = os.path.join(data_dir, f'test.{src}-{tgt}')\n",
    "    dataset = load_dataset(path, src, tgt, preprocess_multi)\n",
    "    binarize(dataset, source_dict=multi_dict, target_dict=multi_dict, sort=False)\n",
    "    iterator = BatchIterator(dataset, src, tgt, batch_size=512, max_len=30, shuffle=False)\n",
    "    test_sets[pair] = iterator\n",
    "    \n",
    "en_centric_test_sets = list(test_sets.values())[:4]\n",
    "non_en_centric_test_sets = list(test_sets.values())[4:]"
   ]
  },
  {
   "cell_type": "code",
   "execution_count": null,
   "metadata": {},
   "outputs": [],
   "source": [
    "chrf = evaluate_model(multi_model, *en_centric_test_sets)"
   ]
  },
  {
   "cell_type": "markdown",
   "metadata": {},
   "source": [
    "### Interact with the model"
   ]
  },
  {
   "cell_type": "code",
   "execution_count": null,
   "metadata": {},
   "outputs": [],
   "source": [
    "# translate accepts preprocess, source_lang and target_lang arguments\n",
    "translate(multi_model, \"she 's five years older than me .\", preprocess_multi, 'en', 'fr')"
   ]
  },
  {
   "cell_type": "code",
   "execution_count": null,
   "metadata": {},
   "outputs": [],
   "source": [
    "translate(multi_model, 'sie ist fünf jahre älter als ich .', preprocess_multi, 'de', 'en')"
   ]
  },
  {
   "cell_type": "markdown",
   "metadata": {},
   "source": [
    "### Zero-shot translation\n",
    "\n",
    "In theory, the model can do **zero-shot** translation, i.e., translate between German and French even though it has never seen German-French sentence pairs during training."
   ]
  },
  {
   "cell_type": "code",
   "execution_count": null,
   "metadata": {},
   "outputs": [],
   "source": [
    "chrf = evaluate_model(multi_model, *non_en_centric_test_sets)"
   ]
  },
  {
   "cell_type": "markdown",
   "metadata": {},
   "source": [
    "#### However, in practice zero-shot performance is very bad. Interact with the model to understand why."
   ]
  },
  {
   "cell_type": "code",
   "execution_count": null,
   "metadata": {},
   "outputs": [],
   "source": [
    "translate(multi_model, 'sie ist fünf jahre älter als ich .', preprocess_multi, 'de', 'fr')"
   ]
  },
  {
   "cell_type": "code",
   "execution_count": null,
   "metadata": {},
   "outputs": [],
   "source": [
    "translate(multi_model, 'elle a cinq ans de plus que moi .', preprocess_multi, 'fr', 'de')"
   ]
  },
  {
   "cell_type": "markdown",
   "metadata": {},
   "source": [
    "## Your Turn!\n",
    "\n",
    "Choose one of these exercises, or both!\n",
    "\n",
    "### Hyper-parameter tuning\n",
    "\n",
    "Find the best hyper-parameters for Transformer **en-fr**. Share your best test chrF scores on Slack!\n",
    "\n",
    "*Don't forget to reload the `preprocess` function at the start of the notebook*\n",
    "\n",
    "- Hyper-parameters: `lr`, `batch_size`, `num_layers`, `hidden_size`, `dropout`, `heads`, etc.\n",
    "- Other improvements: modify the learning rate scheduler and optimizer in `models.EncoderDecoder`; use different embedding size and hidden size, etc.\n",
    "\n",
    "### Multilingual NMT\n",
    "\n",
    "Train your own multilingual NMT model.\n",
    "\n",
    "Tips:\n",
    "- Create a multilingual dictionary by concatenating the tokenized data in all languages. Or simply re-use the dictionary of the pre-trained model (`multi_dict`).\n",
    "- Use the same dictionary for the source and target sides, and share the embeddings between your encoder and decoder (do: `decoder.embedding = encoder.embedding`).\n",
    "- Use `data.MultiBatchIterator(iterator_list)` to concatenate a list of training iterators (one for each language pair) into a single iterator, which is compatible with `train_model`.\n",
    "- `train_model` can take a list of several validation iterators, which will let you validate your model on several language pairs.\n",
    "- Improve your model's performance on **de-fr** and **fr-de** by including training data for these languages pairs (`data/train.de-fr.de` and `data/train.de-fr.fr`).\n",
    "\n",
    "### Train bilingual or multilingual models on other language pairs\n",
    "\n",
    "- Modify and re-run `./download-data.sh` to download data in new languages, preprocess this data and train BPE models"
   ]
  },
  {
   "cell_type": "markdown",
   "metadata": {},
   "source": [
    "# Adaptation to a new language pair\n",
    "\n",
    "Large-scale multilingual MT models are great as they can provide translations for multiple language pairs with just a single model.\n",
    "\n",
    "However, these models tend to be very large in model parameters and require heavy computational power to train.\n",
    "\n",
    "Therefore, when adding a new language pair, instead of re-training the model using the existing and newly added corpora from scratch, it would be more efficient to finetune the pretrained model only using the new dataset.\n",
    "\n",
    "## Naive finetuning of the model\n",
    "In the above \"Multilingual Translation\" section, we observed poor zero-shot MT performance for the \"DE, FR <-> EN\" model.\n",
    "\n",
    "We saw that, while it is possible to do \"DE <-> FR\" translation, as the model has never seen such bilingual data, the performance was rather poor.\n",
    "\n",
    "Suppose now we want to explicitly train the model to additionally support the \"DE -> FR\" translation.\n",
    "One way is to load the corresponding dataset and finetune the pretrained model."
   ]
  },
  {
   "cell_type": "code",
   "execution_count": null,
   "metadata": {},
   "outputs": [],
   "source": [
    "# Load DE-FR training data\n",
    "src, tgt = 'de', 'fr'\n",
    "\n",
    "train_path = os.path.join(data_dir, f'train.{src}-{tgt}')\n",
    "valid_path = os.path.join(data_dir, f'valid.{src}-{tgt}')\n",
    "\n",
    "# set max_size to 10000 for fast debugging\n",
    "train_data = load_dataset(train_path, src, tgt, preprocess_multi, max_size=None)\n",
    "valid_data = load_dataset(valid_path, src, tgt, preprocess_multi)\n",
    "\n",
    "binarize(train_data, source_dict=multi_dict, target_dict=multi_dict, sort=True)\n",
    "binarize(valid_data, source_dict=multi_dict, target_dict=multi_dict, sort=False)\n",
    "\n",
    "reset_seed()\n",
    "\n",
    "train_iterator = BatchIterator(train_data, src, tgt, batch_size=512, max_len=30, shuffle=True)\n",
    "valid_iterator = BatchIterator(valid_data, src, tgt, batch_size=512, max_len=30, shuffle=False)"
   ]
  },
  {
   "cell_type": "code",
   "execution_count": null,
   "metadata": {},
   "outputs": [],
   "source": [
    "# Finetune the entire model on EN-FR\n",
    "new_checkpoint_path = os.path.join(model_root, 'de-en-fr', 'finetuned-transformer.pt')\n",
    "train_model(multi_model, train_iterator, [valid_iterator], new_checkpoint_path, epochs=1)"
   ]
  },
  {
   "cell_type": "markdown",
   "metadata": {},
   "source": [
    "## Catastrophic forgetting\n",
    "After the finetuning, we evaluate the model on FR-EN and DE-FR test sets.\n",
    "\n",
    "Unfortunately, this finetuning resulted in a drop in performance for the FR-EN translation.\n",
    "\n",
    "This phenomenon of model forgetting previously learned information upon learning new information is called \"catastrophic forgetting\"."
   ]
  },
  {
   "cell_type": "code",
   "execution_count": null,
   "metadata": {},
   "outputs": [],
   "source": [
    "# Now evaluate on FR-EN and DE-FR test sets. We see a drop in FR-EN performance (catastrophic forgetting)\n",
    "chrf = evaluate_model(multi_model, test_sets['fr-en'], test_sets['de-fr'])"
   ]
  },
  {
   "cell_type": "markdown",
   "metadata": {},
   "source": [
    "## Adapter modules\n",
    "An alternative to finetuning and an effective way of bypassing the problem of catastrophic forgetting is the usage of adapter modules [Houlsby, Neil, et al. \"Parameter-efficient transfer learning for NLP.\" International Conference on Machine Learning. PMLR, 2019].\n",
    "\n",
    "An adapter module is often a small bottle-neck architecture, consisting of a few feedforward networks and a skip-connection, inserted twice in each Transformer layer.\n",
    "\n",
    "The insertion of adapter modules incurs additional model parameters, but they are often kept small compared to the size of the original network.\n",
    "\n",
    "During the adapter tuning, only the adapter modules are trained with the downstream data — in our case, the DE-FR data — while the rest of the model parameters are fixed."
   ]
  },
  {
   "cell_type": "code",
   "execution_count": null,
   "metadata": {},
   "outputs": [],
   "source": [
    "from models import AdapterTransformerDecoder, AdapterTransformerEncoderLayer\n",
    "\n",
    "class AdapterLayer(nn.Module):\n",
    "    # This class definition is just for show. Adapter layers are actually defined in models.py\n",
    "    # Same adapter architecture as in this paper: https://arxiv.org/abs/1909.08478\n",
    "    def __init__(self, input_dim, projection_dim):\n",
    "        \"\"\"\n",
    "        input_dim: Transformer model's hidden size\n",
    "        projection_dim: bottleneck dimension of the adapter (usually smaller than input_dim), can be tuned\n",
    "        to control the amount of new parameters.\n",
    "        \"\"\"\n",
    "        super().__init__()\n",
    "        self.down = nn.Linear(input_dim, projection_dim)\n",
    "        self.up = nn.Linear(projection_dim, input_dim)\n",
    "        self.layer_norm = nn.LayerNorm(input_dim)\n",
    "        # initialize the adapter weights to small values, so that it computes the identity function\n",
    "        # (or close enough) at the beginning of training (i.e., it keeps the Transformer layer outputs mostly\n",
    "        # unchanged)\n",
    "        nn.init.uniform_(self.down.weight, -1e-6, 1e-6)\n",
    "        nn.init.uniform_(self.up.weight, -1e-6, 1e-6)\n",
    "        nn.init.zeros_(self.down.bias)\n",
    "        nn.init.zeros_(self.up.bias)\n",
    "\n",
    "    def forward(self, x):\n",
    "        y = self.layer_norm(x)\n",
    "        # down projection to a bottleneck dimension\n",
    "        y = self.down(y)\n",
    "        # non-linearity\n",
    "        y = F.relu(y)\n",
    "        # up projection to the model's dimension\n",
    "        y = self.up(y)\n",
    "        # residual connection\n",
    "        return x + y\n",
    "\n",
    "class AdapterTransformerEncoder(models.TransformerEncoder):\n",
    "    def __init__(self, adapter_ids, projection_dim, *args, **kwargs):\n",
    "        \"\"\"\n",
    "        Create a Transformer Encoder with adapter layers (that will be plugged in after each Transformer layer)\n",
    "        adapter_ids: list of adapter names (e.g., ['de-fr', 'fr-de']), one set of adapters will be created for each\n",
    "        of those. Adapters can be activated/deactivated thanks to the \"select_adapters\" function.\n",
    "        projection_dim: bottleneck dimension of the adapters\n",
    "        \"\"\"\n",
    "        self.adapter_ids = adapter_ids\n",
    "        self.projection_dim = projection_dim\n",
    "        super().__init__(*args, **kwargs)\n",
    "        for name, param in self.named_parameters():\n",
    "            if '.adapters.' not in name:\n",
    "                param.requires_grad = False\n",
    "\n",
    "    def select_adapter(self, id):\n",
    "        # Use this method to activate a specific set of adapters (e.g., 'de-fr')\n",
    "        # Set id=None to deactivate adapters (and use the initial Transformer model)\n",
    "        for layer in self.layers:\n",
    "            layer.adapter_id = id\n",
    "\n",
    "    def build_layer(self, layer_id):\n",
    "        # This method can be modified to add adapters only at some layers (e.g., first encoder layer)\n",
    "        # Use models.TransformerEncoderLayer instead for standard Trandformer layers\n",
    "        return AdapterTransformerEncoderLayer(\n",
    "            self.adapter_ids,\n",
    "            self.projection_dim,\n",
    "            self.hidden_size,\n",
    "            self.heads,\n",
    "            self.dropout\n",
    "        )"
   ]
  },
  {
   "cell_type": "code",
   "execution_count": null,
   "metadata": {},
   "outputs": [],
   "source": [
    "encoder = AdapterTransformerEncoder(\n",
    "    source_dict=multi_dict,\n",
    "    adapter_ids=['de-fr'],   # you can create adapters for more than one language pair\n",
    "    projection_dim=64,       # bottleneck dimension of the adapters\n",
    "    hidden_size=512,\n",
    "    num_layers=2,\n",
    "    heads=4,\n",
    ")\n",
    "decoder = AdapterTransformerDecoder(\n",
    "    target_dict=multi_dict,\n",
    "    adapter_ids=['de-fr'],\n",
    "    projection_dim=64,\n",
    "    hidden_size=512,\n",
    "    num_layers=1,\n",
    "    heads=4,\n",
    "    embedding=encoder.embedding,\n",
    ")\n",
    "\n",
    "adapter_model = models.EncoderDecoder(encoder, decoder, lr=0.0005, use_cuda=not cpu)\n",
    "\n",
    "pretrained_checkpoint_path = os.path.join(multi_model_dir, 'transformer.pt')\n",
    "# Load the pre-trained model's parameters, set strict to False for partial initialization without errors.\n",
    "# As the pre-trained checkpoint does not contain parameters for the adapter layers, those are initialized at random.\n",
    "# We also reset the optimizer because its parameters to not match anymore and the learning rate might be too small.\n",
    "adapter_model.load(pretrained_checkpoint_path, strict=False, reset_optimizer=True)\n",
    "\n",
    "new_checkpoint_path = os.path.join(model_root, 'de-en-fr', 'adapter-transformer.pt')\n",
    "\n",
    "# Show the number of trained parameters.\n",
    "# All Transformer parameters are frozen except the adapter parameters.\n",
    "total_params = 0\n",
    "trained_params = 0\n",
    "for name, param in adapter_model.named_parameters():\n",
    "    total_params += param.numel()\n",
    "    if param.requires_grad:\n",
    "        trained_params += param.numel()\n",
    "print(f'Total parameters: {total_params}, trained parameters: {trained_params}')"
   ]
  },
  {
   "cell_type": "code",
   "execution_count": null,
   "metadata": {},
   "outputs": [],
   "source": [
    "# Activate the DE-FR adapters and train them on the DE-FR data (the other parameters are frozen)\n",
    "# Note that you can do encoder.select_adapter(None) to train only decoder adapters\n",
    "encoder.select_adapter('de-fr')\n",
    "decoder.select_adapter('de-fr')\n",
    "train_model(adapter_model, train_iterator, [valid_iterator], new_checkpoint_path, epochs=1)"
   ]
  },
  {
   "cell_type": "markdown",
   "metadata": {},
   "source": [
    "## Turning on adapters for evaluation\n",
    "\n",
    "After the adapter tuning, we can turn on the \"DE-FR\" adapters to do inference.\n",
    "\n",
    "We can see that with just 200K new parameters (1.4% of the initial model's size) we can adapt to the DE-FR direction without hurting performance of the other language pairs."
   ]
  },
  {
   "cell_type": "code",
   "execution_count": null,
   "metadata": {},
   "outputs": [],
   "source": [
    "# Activate the DE-FR adapters to translate in the DE-FR direction\n",
    "encoder.select_adapter('de-fr')\n",
    "decoder.select_adapter('de-fr')\n",
    "chrf = evaluate_model(adapter_model, test_sets['fr-en'], test_sets['de-fr'])"
   ]
  },
  {
   "cell_type": "code",
   "execution_count": null,
   "metadata": {},
   "outputs": [],
   "source": [
    "# Deactivate the adapters to use the initial model (e.g., to translate in the English-centric directions).\n",
    "encoder.select_adapter(None)\n",
    "decoder.select_adapter(None)\n",
    "chrf = evaluate_model(adapter_model, test_sets['fr-en'], test_sets['de-fr'])"
   ]
  },
  {
   "cell_type": "markdown",
   "metadata": {},
   "source": [
    "## Your turn!\n",
    "\n",
    "- Can you introduce more adapters to support more language pairs?\n",
    "- Do you think adapters can also be used in the task of domain adaptation as well?"
   ]
  },
  {
   "cell_type": "markdown",
   "metadata": {},
   "source": [
    "# Check out the other topics in MT!\n",
    "There are also many other interesting and important research topics in MT which are not covered in this lab session.\n",
    "\n",
    "Here are some of them:\n",
    "- **Unsupervised or low-resource MT**\n",
    "  - How can we leverage monolingual data when bilingual data is not available or extremely scarce?\n",
    "  - How can we improve the performance of low-resourced language pairs?\n",
    "- **Document-level context-aware MT**\n",
    "  - How can we effectively translate a text containing multiple sentences while keeping the translation coherent and faithful?\n",
    "- **Domain-adapted or personalized MT, Continual learning for MT**\n",
    "  - How can we extend an existing model for new domains, language pairs, or simply new addition of data?\n",
    "- **Efficient MT**\n",
    "  - How can we train and serve MT models more efficiently? Efficiency here can mean both space and time efficiency.\n",
    "  \n",
    "If you are interested in finding out more about MT, you can check out the [WMT conference](https://www.statmt.org/wmt21/) that is held annually."
   ]
  }
 ],
 "metadata": {
  "kernelspec": {
   "display_name": "Python 3 (ipykernel)",
   "language": "python",
   "name": "python3"
  },
  "language_info": {
   "codemirror_mode": {
    "name": "ipython",
    "version": 3
   },
   "file_extension": ".py",
   "mimetype": "text/x-python",
   "name": "python",
   "nbconvert_exporter": "python",
   "pygments_lexer": "ipython3",
   "version": "3.8.10"
  }
 },
 "nbformat": 4,
 "nbformat_minor": 2
}
