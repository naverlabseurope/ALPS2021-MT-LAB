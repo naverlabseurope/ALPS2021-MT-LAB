{
 "cells": [
  {
   "cell_type": "markdown",
   "metadata": {},
   "source": [
    "Instructions for running Jupyter Notebook on a remote server: \n",
    "\n",
    "https://docs.anaconda.com/anaconda/user-guide/tasks/remote-jupyter-notebook/"
   ]
  },
  {
   "cell_type": "markdown",
   "metadata": {},
   "source": [
    "# Neural Machine Translation"
   ]
  },
  {
   "cell_type": "markdown",
   "metadata": {},
   "source": [
    "General Reference: https://github.com/nyu-dl/NLP_DL_Lecture_Note/blob/master/lecture_note.pdf <br>\n",
    "Original Notebook: https://github.com/nyu-dl/AMMI-2019-NLP-Part2"
   ]
  },
  {
   "cell_type": "markdown",
   "metadata": {},
   "source": [
    "### Set up Google Translate API for Comparison\n",
    "\n",
    "https://github.com/ssut/py-googletrans"
   ]
  },
  {
   "cell_type": "code",
   "execution_count": 1,
   "metadata": {},
   "outputs": [],
   "source": [
    "# a python library that implemented Google Translate API, used for later comparison\n",
    "from googletrans import Translator\n",
    "translator = Translator()"
   ]
  },
  {
   "cell_type": "markdown",
   "metadata": {},
   "source": [
    "### Python imports"
   ]
  },
  {
   "cell_type": "code",
   "execution_count": 2,
   "metadata": {},
   "outputs": [],
   "source": [
    "path_to_utils = 'pyfiles'\n",
    "import os\n",
    "import sys # a built-in Python module that contains parameters specific to the system\n",
    "sys.path.append(path_to_utils)\n",
    "import nmt_dataset\n",
    "import nnet_models\n",
    "import numpy as np\n",
    "import torch\n",
    "import torch.nn as nn\n",
    "from torch import optim # package implementing various optimization algorithms\n",
    "import torch.nn.functional as F\n",
    "from torch.utils.data import DataLoader\n",
    "from torch.optim.lr_scheduler import ReduceLROnPlateau # Reduce learning rate when a metric has stopped improving\n",
    "from functools import partial\n",
    "import time\n",
    "from tqdm.notebook import tqdm # IPython/Jupyter Notebook progressbar decorator for iterators\n",
    "import numpy as np\n",
    "import matplotlib.pyplot as plt\n",
    "import matplotlib.ticker as ticker\n",
    "import copy\n",
    "from subword_nmt.apply_bpe import BPE # segment text into subword units\n",
    "%matplotlib inline"
   ]
  },
  {
   "cell_type": "markdown",
   "metadata": {},
   "source": [
    "## The Dataset\n",
    "\n",
    "We will work with a English to French Dataset from https://www.manythings.org/anki/.\n",
    "\n",
    "The data is downloaded by running the `download-data.sh` script. You can also modify this script to download data for other language pairs."
   ]
  },
  {
   "cell_type": "code",
   "execution_count": 3,
   "metadata": {},
   "outputs": [],
   "source": [
    "data_dir = 'data'\n",
    "source_lang, target_lang = 'en', 'fr'\n",
    "model_dir = 'models/{}-{}'.format(source_lang, target_lang)"
   ]
  },
  {
   "cell_type": "code",
   "execution_count": 4,
   "metadata": {},
   "outputs": [
    {
     "name": "stdout",
     "output_type": "stream",
     "text": [
      "armenian is an indo-european language .\r\n",
      "you could be a little nicer to your brother .\r\n",
      "have you come up with another plan ?\r\n",
      "i have to keep my mind on this important question .\r\n",
      "they crossed the border .\r\n"
     ]
    }
   ],
   "source": [
    "! head -5 data/train.en-fr.en"
   ]
  },
  {
   "cell_type": "markdown",
   "metadata": {},
   "source": [
    "## Load and preprocess the data\n",
    "\n",
    "1. Load the BPE model\n",
    "2. Load the parallel corpora for this language pair (train, valid and test). `load_data` will load a corpus and tokenize it with the BPE model with the `preprocess` function.\n",
    "3. Create (or load) dictionaries that map BPE tokens to token IDs (`nmt_dataset.load_or_create_dictionary` function)\n",
    "4. Binarize the data: map source and target text sequences to sequences of IDs, and sort the training set by length (`nmt_dataset.binarize` function)\n",
    "5. Create batches (`nmt_dataset.BatchIterator` class): group multiple sequence pairs of similar length together, pad them to the maximum length and create numpy arrays that can be used to train our models"
   ]
  },
  {
   "cell_type": "code",
   "execution_count": 5,
   "metadata": {},
   "outputs": [],
   "source": [
    "# set random seed, the seed() method is used to initialize the random number generator.\n",
    "def reset_seed(seed=1234):\n",
    "    np.random.seed(seed)\n",
    "    torch.manual_seed(seed)"
   ]
  },
  {
   "cell_type": "markdown",
   "metadata": {},
   "source": [
    "#### 1. Load the BPE model (multilingual BPE model, works with French, German and English)"
   ]
  },
  {
   "cell_type": "code",
   "execution_count": 6,
   "metadata": {},
   "outputs": [],
   "source": [
    "bpe_path = os.path.join(data_dir, 'bpecodes.de-en-fr')\n",
    "\n",
    "with open(bpe_path) as bpe_codes:\n",
    "    bpe_model = BPE(bpe_codes)\n",
    "\n",
    "def preprocess(line, is_source=True, source_lang=None, target_lang=None):\n",
    "    return bpe_model.segment(line.lower())\n",
    "\n",
    "def postprocess(line):\n",
    "    return line.replace('@@ ', '')\n",
    "\n",
    "def load_data(source_lang, target_lang, split='train', max_size=None):\n",
    "    # max_size: max number of sentence pairs in the training corpus (None = all)\n",
    "    path = os.path.join(data_dir, '{}.{}-{}'.format(split, *sorted([source_lang, target_lang])))\n",
    "    return nmt_dataset.load_dataset(path, source_lang, target_lang, preprocess=preprocess, max_size=max_size)   # set max_size to 10000 for fast debugging"
   ]
  },
  {
   "cell_type": "markdown",
   "metadata": {},
   "source": [
    "#### 2. Load and preprocess the parallel corpora (these are pandas DataFrames)"
   ]
  },
  {
   "cell_type": "code",
   "execution_count": 7,
   "metadata": {},
   "outputs": [
    {
     "name": "stdout",
     "output_type": "stream",
     "text": [
      "                                         source_data  \\\n",
      "0            armenian is an indo-european language .   \n",
      "1      you could be a little nicer to your brother .   \n",
      "2               have you come up with another plan ?   \n",
      "3  i have to keep my mind on this important quest...   \n",
      "4                          they crossed the border .   \n",
      "\n",
      "                                         target_data  \\\n",
      "0       l' arménien est une langue indo-européenne .   \n",
      "1  tu pourrais être un peu plus gentil à l' égard...   \n",
      "2                     as-tu concocté un autre plan ?   \n",
      "3  je dois garder à l' esprit cette importante qu...   \n",
      "4                    ils traversèrent la frontière .   \n",
      "\n",
      "                                    source_tokenized  \\\n",
      "0  [ar@@, men@@, i@@, an, is, an, in@@, do@@, -@@...   \n",
      "1  [you, could, be, a, little, ni@@, cer, to, you...   \n",
      "2      [have, you, come, up, with, another, plan, ?]   \n",
      "3  [i, have, to, keep, my, mind, on, this, import...   \n",
      "4            [they, cros@@, sed, the, bor@@, der, .]   \n",
      "\n",
      "                                    target_tokenized  \n",
      "0  [l', ar@@, mé@@, ni@@, en, est, une, langue, i...  \n",
      "1  [tu, pourrais, être, un, peu, plus, gentil, à,...  \n",
      "2  [as-tu, con@@, co@@, c@@, té, un, autre, plan, ?]  \n",
      "3  [je, dois, garder, à, l', esprit, cette, impor...  \n",
      "4  [ils, tra@@, vers@@, èrent, la, fron@@, ti@@, ...  \n"
     ]
    }
   ],
   "source": [
    "train_data = load_data(source_lang, target_lang, 'train', max_size=None)   # set max_size to 10000 for fast debugging\n",
    "valid_data = load_data(source_lang, target_lang, 'valid')\n",
    "test_data = load_data(source_lang, target_lang, 'test')\n",
    "print(train_data.iloc[:5]) # to see the first 5 rows of train_data"
   ]
  },
  {
   "cell_type": "markdown",
   "metadata": {},
   "source": [
    "#### 3. Load or create the dictionaries"
   ]
  },
  {
   "cell_type": "code",
   "execution_count": 8,
   "metadata": {
    "tags": []
   },
   "outputs": [
    {
     "name": "stdout",
     "output_type": "stream",
     "text": [
      "['<sos>', '<eos>', '<unk>', '<pad>', '.', 'i', 'you', 'to', 'a', 'the', '?', \"'t\", 'tom', 'are', 'he', 'do', 'an', 'it', 'is', 'she', 'that', 'me', 'don', 'have', \"'s\", 'in', 'of', 'want', 'like', 'this', 'can', 'your', \"'m\", ',', 'was', 'my', 'what', 'on', 'up', 'for', 'be', 'we', 'not', 'with', \"'ll\", 'all', \"'re\", 'here', 'no', 'see', 'need', 'as', 'get', 'know', 'at', 'why', 'one', 'did', 'take', 'where', 'ing', 'there', 'were', 'will', 'didn', 'really', 'her', 'his', 'has', 'they', 'had', 'going', 'should', 'how', 'and', 'think', 'about', 'let', 'go', 'who', 'so', 'good', 'mary', 'y', 'could', 'now', 'out', 'if', \"'d\", \"'ve\", 'something', 'told', 'day', 'from', 'us', 'just', 're@@', 'ts', 'would', 'today']\n",
      "['<sos>', '<eos>', '<unk>', '<pad>', '.', 'je', 'un', 'de', 'il', '?', 'a', 'pas', 'que', 'est', 'ne', 'à', 'tom', 'la', 'le', \"l'\", ',', 'vous', 'tu', 'en', 'pour', \"n'\", 'ce', \"d'\", 'une', 'te', \"j'\", 'ai', 'suis', \"qu'\", 'elle', 'faire', \"c'\", 'plus', 'nous', 'me', 'dit', 'des', 'les', \"m'\", 'être', 'er', 'ça', 'ici', 'voir', 'qui', '!', \"s'\", 'fait', 'c@@', 'pourquoi', 'besoin', 'ré@@', 'veux', 'se', 'tout', 'êtes', 'dans', 're@@', 'du', 'était', 'y', 'si', 'as', 'et', 'chose', 'avoir', 'son', 'é', 'sur', 'avait', 'ma', 'vraiment', 'é@@', 'moi', 'toi', 'peut', 'étais', 'avec', 'es', 'très', 'dé@@', 'été', 'quelque', 'cette', 'té', 'au', 'eu', 'mon', 'ée', 'cela', 'p@@', 'où', 'pense', 'tes', 'est-ce']\n"
     ]
    }
   ],
   "source": [
    "# create path for source dict and target dict\n",
    "source_dict_path = os.path.join(model_dir, 'dict.{}.txt'.format(source_lang))\n",
    "target_dict_path = os.path.join(model_dir, 'dict.{}.txt'.format(target_lang))\n",
    "\n",
    "# use the function `load_or_create_dictionary( )` defined in the `nmt_dataset.py` file to create source dictionary\n",
    "source_dict = nmt_dataset.load_or_create_dictionary(\n",
    "    source_dict_path,\n",
    "    train_data['source_tokenized'],\n",
    "    minimum_count=10,\n",
    "    reset=False    # set reset to True if you're changing the data or the preprocessing\n",
    ")\n",
    "print(source_dict.words[:100]) # print the first 100 words in the source dict\n",
    "\n",
    "target_dict = nmt_dataset.load_or_create_dictionary(\n",
    "    target_dict_path,\n",
    "    train_data['target_tokenized'],\n",
    "    minimum_count=10,\n",
    "    reset=False\n",
    ")\n",
    "print(target_dict.words[:100])"
   ]
  },
  {
   "cell_type": "code",
   "execution_count": 9,
   "metadata": {},
   "outputs": [
    {
     "name": "stdout",
     "output_type": "stream",
     "text": [
      "source vocab size: 3179\n",
      "target vocab size: 3637\n"
     ]
    }
   ],
   "source": [
    "print('source vocab size:', len(source_dict))\n",
    "print('target vocab size:', len(target_dict))"
   ]
  },
  {
   "cell_type": "markdown",
   "metadata": {},
   "source": [
    "#### 4. Use the dictionaries to map tokens to indices. The training set is also sorted by length for more efficient batching."
   ]
  },
  {
   "cell_type": "code",
   "execution_count": 10,
   "metadata": {},
   "outputs": [
    {
     "name": "stdout",
     "output_type": "stream",
     "text": [
      "       source_data  target_data source_tokenized target_tokenized  \\\n",
      "7176   wonderful !  excellent !   [wonderful, !]   [excellent, !]   \n",
      "9486          go .         va !          [go, .]          [va, !]   \n",
      "15374        run !      cours !         [run, !]       [cours, !]   \n",
      "22360    perfect !    parfait !     [perfect, !]     [parfait, !]   \n",
      "35662  seriously ?   vraiment ?   [seriously, ?]    [vraiment, ?]   \n",
      "\n",
      "           source_bin  source_len     target_bin  target_len  \n",
      "7176   [1460, 156, 1]           3  [2914, 50, 1]           3  \n",
      "9486       [78, 4, 1]           3   [131, 50, 1]           3  \n",
      "15374   [694, 156, 1]           3   [876, 50, 1]           3  \n",
      "22360  [1178, 156, 1]           3  [2110, 50, 1]           3  \n",
      "35662   [1727, 10, 1]           3     [76, 9, 1]           3  \n"
     ]
    }
   ],
   "source": [
    "nmt_dataset.binarize(train_data, source_dict, target_dict, sort=True)\n",
    "nmt_dataset.binarize(valid_data, source_dict, target_dict, sort=False)\n",
    "nmt_dataset.binarize(test_data, source_dict, target_dict, sort=False)\n",
    "print(train_data.iloc[:5]) # print the first 5 rows of train_data\n",
    "# index 1 at the end means [EOS_IDX]\n",
    "# '<sos>', '<eos>', '<unk>', '<pad>' are associated with index 2"
   ]
  },
  {
   "cell_type": "markdown",
   "metadata": {},
   "source": [
    "#### Data statistics:"
   ]
  },
  {
   "cell_type": "code",
   "execution_count": 11,
   "metadata": {},
   "outputs": [
    {
     "name": "stdout",
     "output_type": "stream",
     "text": [
      "train_size=186503, valid_size=2000, test_size=2000, min_len=3, max_len=75\n",
      "Train source length distribution:\n",
      "0.5000     9.0\n",
      "0.7500    11.0\n",
      "0.9000    13.0\n",
      "0.9500    15.0\n",
      "0.9900    20.0\n",
      "0.9990    29.0\n",
      "0.9999    42.0\n",
      "Name: source_len, dtype: float64\n"
     ]
    }
   ],
   "source": [
    "print('train_size={}, valid_size={}, test_size={}, min_len={}, max_len={}'.format(\n",
    "    len(train_data),\n",
    "    len(valid_data),\n",
    "    len(test_data),\n",
    "    train_data['source_len'].min(),\n",
    "    train_data['source_len'].max(),\n",
    "))\n",
    "\n",
    "print('Train source length distribution:')\n",
    "# quantile () Compute the q-th quantile of the data\n",
    "# The 90th percentile indicates the point where 90% percent of the data have values less than this number. \n",
    "# More generally, the pth percentile is the number n for which p% of the data is less than n.\n",
    "print(train_data['source_len'].quantile([0.5, 0.75, 0.9, 0.95, 0.99, 0.999, 0.9999])) "
   ]
  },
  {
   "cell_type": "markdown",
   "metadata": {},
   "source": [
    "#### 5. Build batches. The training batches are automatically shuffled before each epoch"
   ]
  },
  {
   "cell_type": "code",
   "execution_count": 12,
   "metadata": {},
   "outputs": [],
   "source": [
    "max_len = 30       # maximum 30 tokens per sentence (longer sequences will be truncated)\n",
    "batch_size = 512   # maximum 512 tokens per batch (decrease if you get OOM errors, increase to speed up training)\n",
    "\n",
    "reset_seed() \n",
    "\n",
    "train_iterator = nmt_dataset.BatchIterator(train_data, source_lang, target_lang, batch_size=batch_size, max_len=max_len, shuffle=True)\n",
    "valid_iterator = nmt_dataset.BatchIterator(valid_data, source_lang, target_lang, batch_size=batch_size, max_len=max_len, shuffle=False)\n",
    "test_iterator = nmt_dataset.BatchIterator(test_data, source_lang, target_lang, batch_size=batch_size, max_len=max_len, shuffle=False)"
   ]
  },
  {
   "cell_type": "markdown",
   "metadata": {},
   "source": [
    "#### Example of training batch:"
   ]
  },
  {
   "cell_type": "code",
   "execution_count": 13,
   "metadata": {},
   "outputs": [
    {
     "name": "stdout",
     "output_type": "stream",
     "text": [
      "{'source': tensor([[   5,   23,    8, 1654,    7,  180,   26,    6,    4,    1],\n",
      "        [  36,   84,   69, 2813, 1744,   27,   93,   94,   10,    1],\n",
      "        [  15,    6,   28,   35,  187,  409,  947,  790,   10,    1],\n",
      "        [  55,   18,   17,   20,   19,  431,   80, 1726,   10,    1],\n",
      "        [   9, 1512,  150,   11,  352,  705,   54,  157,    4,    1],\n",
      "        [  15,    6,   53,   79,  328,   20,  743,   61,   10,    1],\n",
      "        [  29,  164,  150,   11,  701, 1070,    7,   21,    4,    1],\n",
      "        [  66,  117,   18,    8, 1765,  192, 2485,  656,    4,    1],\n",
      "        [   5,   30, 1112, 1844,  265,  101,   39,  600,    4,    1],\n",
      "        [   5,   27,    7,   49,    6,   25,   35,  613,    4,    1],\n",
      "        [   6,   23,    7, 1117, 1118,  559,   29, 1606,    4,    1],\n",
      "        [  77,   24,  250,   17, 1901,  983,   20,  183,    4,    1],\n",
      "        [  81,  371,   33,  130, 2551,  242,  502,  314,    4,    1],\n",
      "        [  36,   15,    6,  419,   15,   37,  206,   92,   10,    1],\n",
      "        [   5,  533,    5,   62,   51,  645,   51,    6,    4,    1],\n",
      "        [  59,   34,   17,   20,    6,  478,   29,  791,   10,    1],\n",
      "        [   5,   32,  104,   20,    5,   30,   15,   20,    4,    1],\n",
      "        [   5,   53,   20,   12,   18,    8, 2353,  422,    4,    1],\n",
      "        [   5,   27,    7,  265,    8,  743,   39,   29,    4,    1],\n",
      "        [   5,   44,   95,   23,    7, 1759, 2393,  572,    4,    1],\n",
      "        [   5,   32,  100,  139,   25, 1654,   26,   29,    4,    1],\n",
      "        [   5,   27,    7,  106,    6,   43,   31,  619,    4,    1],\n",
      "        [   5,   64,   11,   53,    6,   70,    8,  675,    4,    1],\n",
      "        [  15,    6,  124, 1134,  111,    6,   15,   20,   10,    1],\n",
      "        [   5,   89,  137,    7,   15,   29,  159,   85,    4,    1],\n",
      "        [   9, 1096,  811, 2503,  197,   39,  350, 1777,    4,    1],\n",
      "        [   5,   88,   28,    7,   58,    8,  174,  996,    4,    1],\n",
      "        [1158,  815,  446,    8,   18,   25,  526,  731,    4,    1],\n",
      "        [  18,   31,  222,  468,  354,   93,   31,  169,   10,    1],\n",
      "        [   9,  119, 1500, 1130, 1200,  584,  387, 1000,    4,    1],\n",
      "        [  41,   46,  520,    7,  306,   38,    7,  906,    4,    1],\n",
      "        [   5,   88, 1544,   17,   87,    6,  552,   47,    4,    1],\n",
      "        [   5,   32,  319,   51, 1176,   51,    5,   30,    4,    1],\n",
      "        [  12,   18,    8,  969,  641, 2297,  192,  797,    4,    1],\n",
      "        [  73,   63,    6,  295,   31,  129,  178,   97,   10,    1],\n",
      "        [   5,   32,   71,    7,  203,   56,  157,  459,    4,    1],\n",
      "        [1591,   26,    9,  551,  682,  155,   18,  482,    4,    1],\n",
      "        [  41,   46,  144,  383,    7,   53,  507,  219,    4,    1],\n",
      "        [  41,  294,    9,  324,  388,   25,    9, 2322,    4,    1],\n",
      "        [   5,   32,   42,   71,    7,  449,    6,   29,    4,    1],\n",
      "        [  14, 1851,  474,  799,   35, 1265,  969,   54,    4,    1],\n",
      "        [  19,   34,  240,  910,    7, 1037,  107,  181,    4,    1],\n",
      "        [1629,   30,  238,  289,  192,  671,   33,  146,    4,    1],\n",
      "        [   5,   95,   27,    7,  180,    6,    8,  435,    4,    1],\n",
      "        [   5,   88,   28,    7,   53,   79,   57,   29,    4,    1],\n",
      "        [   6,   46,   25, 1134,   33,  418,   11,    6,   10,    1],\n",
      "        [  13,    6, 2215,  425,    7,  142,  629, 1760,   10,    1],\n",
      "        [  17,   24,  135,  311,  207,  618,    9,  590,    4,    1],\n",
      "        [  23,    6,  166,  490,    8, 2880,   29,   81,   10,    1],\n",
      "        [   5,   22,   11,   27,    7,   40,   31,  370,    4,    1],\n",
      "        [  14,   24,    9,   56,   33,  177,   11,   14,   10,    1]]), 'target': tensor([[  30,   31,   28, 2142,   15,   29,  420,    4,    1],\n",
      "        [  12, 1261,  160, 1758,  138,   38,  622,    9,    1],\n",
      "        [1948,   75,  745,  527,  436,    7,  690,    9,    1],\n",
      "        [  54,  305, 1504,   19,  194,   66, 2507,    9,    1],\n",
      "        [  18, 1026,   14,    2,   11,   17,  228,    4,    1],\n",
      "        [1395,   49,   10,  937,   88, 1068,   47,    9,    1],\n",
      "        [  88,  265,   14,   43, 1822,  119,   11,    4,    1],\n",
      "        [  71,  130,   13, 2006, 1092,    7, 2280,    4,    1],\n",
      "        [  30,   31, 2544,   63,  104,   24,  589,    4,    1],\n",
      "        [   5,   57,   21,   48,   61,   92,  643,    4,    1],\n",
      "        [  21,  445,  297,  429, 2579,   88, 2079,    4,    1],\n",
      "        [1006,  215,   12,   46,  345,  114,   46,    4,    1],\n",
      "        [1530,  214,   20,   75,  269, 1046,  235,    4,    1],\n",
      "        [  12, 2014, 1420,   18,  214,    7,  241,    9,    1],\n",
      "        [   5, 1188,   44,  317,  769,   12,   79,    4,    1],\n",
      "        [  96,  146, 1299,  744,   88, 1838,  734,    9,    1],\n",
      "        [   5,   32,  747,    7,  668,   18,   35,    4,    1],\n",
      "        [   5,  100,   12,   16,   13, 1209,  729,    4,    1],\n",
      "        [   5,   57, 1015,   28, 1068,   24,  162,    4,    1],\n",
      "        [   5, 2600,   31,  144,    2,  793,   45,    4,    1],\n",
      "        [   5,   32,   84,   23, 2142,    7,   94,    4,    1],\n",
      "        [   5,   57,  142,  210,   24,   98,  733,    4,    1],\n",
      "        [  30, 1436,   12,   22,  197,   28,  551,    4,    1],\n",
      "        [  22,   67,  191,  159,   22,  291,   46,    9,    1],\n",
      "        [   5,  190,   35,   46,   59,    7, 1492,    4,    1],\n",
      "        [  17, 1162,  949, 1809,   10,  248, 1709,    4,    1],\n",
      "        [  30,  236, 1562,  175,    6,  806,  972,    4,    1],\n",
      "        [1715, 1898, 3151,   13,   23, 1233, 1867,    4,    1],\n",
      "        [ 106,  375, 2025,  857,    7,  117,  193,    9,    1],\n",
      "        [  17, 1303,  693, 1560,  908, 2160,   10,    4,    1],\n",
      "        [  38, 1009,  215,    7,  471,   15,  214,    4,    1],\n",
      "        [   5, 1318,   12,   22,  189,   98,   47,    4,    1],\n",
      "        [   5,  253,  317, 1145,   12,    5,  109,    4,    1],\n",
      "        [  16,   13, 2795,   53,  722,    7,  869,    4,    1],\n",
      "        [ 156, 2184,  182,  523,  279, 3223,   98,    9,    1],\n",
      "        [   5,  158,  525,   28,  228,   37,  335,    4,    1],\n",
      "        [ 678,   41, 1509, 2235,   25,   13, 1411,    4,    1],\n",
      "        [ 112,  266,  694,  153,   15,   58, 2237,    4,    1],\n",
      "        [  38,  124, 2144,   17, 1863,   90,  857,    4,    1],\n",
      "        [   5,   14,  158,   11,   29, 1547,  162,    4,    1],\n",
      "        [   8,   10,  305,    2,  280,   92, 1498,    4,    1],\n",
      "        [  34,   64, 2824, 1900,    7,   18,  754,    4,    1],\n",
      "        [  42, 1250,  317, 1368,  383,   90, 2253,    4,    1],\n",
      "        [   5, 1871,  293,   21,  794,   28,  507,    4,    1],\n",
      "        [  30,  236,  272,   49,   10,   52,  162,    4,    1],\n",
      "        [  21, 1487,  875,   20,   25,   99,   11,    9,    1],\n",
      "        [ 242, 3083,   12,   15, 1657,  920, 1244,    9,    1],\n",
      "        [  94,   52,  334,  207,  390,   19,  685,    4,    1],\n",
      "        [ 116,  278,  289,    6,  317,  202,  720,    9,    1],\n",
      "        [   5,   14,   57,   11,   44,  108,  590,    4,    1],\n",
      "        [  36,   13,  145,   20,   25,   99,   11,    9,    1]]), 'source_len': tensor([10, 10, 10, 10, 10, 10, 10, 10, 10, 10, 10, 10, 10, 10, 10, 10, 10, 10,\n",
      "        10, 10, 10, 10, 10, 10, 10, 10, 10, 10, 10, 10, 10, 10, 10, 10, 10, 10,\n",
      "        10, 10, 10, 10, 10, 10, 10, 10, 10, 10, 10, 10, 10, 10, 10]), 'target_len': tensor([9, 9, 9, 9, 9, 9, 9, 9, 9, 9, 9, 9, 9, 9, 9, 9, 9, 9, 9, 9, 9, 9, 9, 9,\n",
      "        9, 9, 9, 9, 9, 9, 9, 9, 9, 9, 9, 9, 9, 9, 9, 9, 9, 9, 9, 9, 9, 9, 9, 9,\n",
      "        9, 9, 9]), 'source_lang': 'en', 'target_lang': 'fr'}\n"
     ]
    }
   ],
   "source": [
    "print(next(iter(train_iterator)))"
   ]
  },
  {
   "cell_type": "markdown",
   "metadata": {},
   "source": [
    "The Seq2Seq Model\n",
    "=================\n",
    "\n",
    "A Recurrent Neural Network, or RNN, is a network that operates on a\n",
    "sequence and uses its own output as input for subsequent steps.\n",
    "\n",
    "A `Sequence to Sequence network <http://arxiv.org/abs/1409.3215>`__, or\n",
    "seq2seq network, or `Encoder-Decoder\n",
    "network <https://arxiv.org/pdf/1406.1078v3.pdf>`__, is a model\n",
    "consisting of usually of two RNNs called the encoder and decoder. The encoder reads\n",
    "an input sequence and outputs a single vector, and the decoder reads\n",
    "that vector to produce an output sequence. Essentially, all we need is some mechanism to read the source sentence and create an encoding and some mechanism to read the encoding and decode it to the target language. \n",
    "\n",
    "Unlike sequence prediction with a single RNN, where every input\n",
    "corresponds to an output, the seq2seq model frees us from sequence\n",
    "length and order, which makes it ideal for translation between two\n",
    "languages.\n",
    "\n",
    "Consider the sentence \"I am not the\n",
    "black cat\" → \"Je ne suis pas le chat noir\". Most of the words in the input sentence have a direct\n",
    "translation in the output sentence, but are in slightly different\n",
    "orders, e.g. \"chat noir\" and \"black cat\". Because of the \"ne/pas\"\n",
    "construction there is also one more word in the input sentence. It would\n",
    "be difficult to produce a correct translation directly from the sequence\n",
    "of input words.\n",
    "\n",
    "With a seq2seq model the encoder creates a single vector which, in the\n",
    "ideal case, encodes the \"meaning\" of the input sequence into a single\n",
    "vector — a single point in some N dimensional space of sentences.\n"
   ]
  },
  {
   "cell_type": "markdown",
   "metadata": {},
   "source": [
    "The Encoder\n",
    "-----------\n",
    "\n",
    "The encoder is anything which takes in a sentence and gives us a representation for the sentence. \n",
    "\n",
    "The encoder of a seq2seq network can be a RNN that outputs some value for\n",
    "every word from the input sentence. For every input word the encoder\n",
    "outputs a vector and a hidden state, and uses the hidden state for the\n",
    "next input word.\n",
    "\n",
    "However, we will start with a simpler Bag-of-Words encoder and then move on to more complex encoders.\n",
    "\n",
    "### Bag-of-Words Encoder"
   ]
  },
  {
   "cell_type": "code",
   "execution_count": 14,
   "metadata": {},
   "outputs": [],
   "source": [
    "bow_encoder = nnet_models.BagOfWords(\n",
    "    input_size=len(source_dict),\n",
    "    hidden_size=512,\n",
    "    num_layers=1,\n",
    "    dropout=0.0,\n",
    "    reduce=\"sum\"\n",
    ")"
   ]
  },
  {
   "cell_type": "code",
   "execution_count": 15,
   "metadata": {},
   "outputs": [
    {
     "name": "stdout",
     "output_type": "stream",
     "text": [
      "BagOfWords(\n",
      "  (activation): ReLU()\n",
      "  (embedding): Embedding(3179, 512, padding_idx=3)\n",
      "  (dropout): Dropout(p=0.0, inplace=False)\n",
      "  (layers): ModuleList(\n",
      "    (0): Linear(in_features=512, out_features=512, bias=True)\n",
      "  )\n",
      ")\n"
     ]
    }
   ],
   "source": [
    "print(bow_encoder)"
   ]
  },
  {
   "cell_type": "markdown",
   "metadata": {},
   "source": [
    "The Decoder\n",
    "--------------------\n",
    "\n",
    "The decoder is another network that takes the encoder output vector(s) and outputs a sequence of words to create the translation.\n",
    "\n",
    "### Decoder without Attention\n",
    "\n",
    "In the simplest seq2seq decoder we use only the last output of the encoder. This last output is sometimes called the context vector as it encodes context from the entire sequence. This context vector can be used as the initial hidden state for an RNN decoder.\n",
    "\n",
    "At every step of decoding, the decoder is given an input token and hidden state. The initial input token is the start-of-string <SOS> token, and the first hidden state is the context vector (the encoder's last hidden state)."
   ]
  },
  {
   "cell_type": "code",
   "execution_count": null,
   "metadata": {},
   "outputs": [],
   "source": [
    "bow_decoder = nnet_models.RNN_Decoder(\n",
    "    output_size=len(target_dict),\n",
    "    hidden_size=512,\n",
    "    num_layers=1,\n",
    "    dropout=0.0\n",
    ")"
   ]
  },
  {
   "cell_type": "code",
   "execution_count": null,
   "metadata": {},
   "outputs": [],
   "source": [
    "print(bow_decoder)"
   ]
  },
  {
   "cell_type": "code",
   "execution_count": null,
   "metadata": {},
   "outputs": [],
   "source": [
    "bow_model = nnet_models.EncoderDecoder(\n",
    "    bow_encoder,\n",
    "    bow_decoder,\n",
    "    lr=0.001,\n",
    "    use_cuda=True,\n",
    "    target_dict=target_dict\n",
    ")"
   ]
  },
  {
   "cell_type": "markdown",
   "metadata": {},
   "source": [
    "### Training code"
   ]
  },
  {
   "cell_type": "code",
   "execution_count": null,
   "metadata": {},
   "outputs": [],
   "source": [
    "def save_model(model, checkpoint_path):\n",
    "    dirname = os.path.dirname(checkpoint_path)\n",
    "    if dirname:\n",
    "        os.makedirs(dirname, exist_ok=True)\n",
    "    torch.save(model, checkpoint_path)\n",
    "\n",
    "def train_model(\n",
    "        train_iterator,\n",
    "        valid_iterators,\n",
    "        model,\n",
    "        checkpoint_path,\n",
    "        epochs=10,\n",
    "        validation_frequency=1\n",
    "    ):\n",
    "    \"\"\"\n",
    "    train_iterator: instance of nmt_dataset.BatchIterator or nmt_dataset.MultiBatchIterator\n",
    "    valid_iterators: list of nmt_dataset.BatchIterator\n",
    "    model: instance of nnet_models.EncoderDecoder\n",
    "    checkpoint_path: path of the model checkpoint\n",
    "    epochs: iterate this many times over train_iterator\n",
    "    validation_frequency: validate the model every N epochs\n",
    "    \"\"\"\n",
    "\n",
    "    reset_seed()\n",
    "\n",
    "    best_bleu = -1\n",
    "    for epoch in range(1, epochs + 1):\n",
    "\n",
    "        start = time.time()\n",
    "        running_loss = 0\n",
    "\n",
    "        print('Epoch: [{}/{}]'.format(epoch, epochs))\n",
    "\n",
    "        # Iterate over training batches for one epoch\n",
    "        for i, batch in tqdm(enumerate(train_iterator), total=len(train_iterator)):\n",
    "            t = time.time()\n",
    "            running_loss += model.train_step(batch)\n",
    "\n",
    "        # Average training loss for this epoch\n",
    "        epoch_loss = running_loss / len(train_iterator)\n",
    "\n",
    "        print(\"loss={:.3f}, time={:.2f}\".format(epoch_loss, time.time() - start))\n",
    "        sys.stdout.flush()\n",
    "\n",
    "        # Evaluate and save the model\n",
    "        if epoch % validation_frequency == 0:\n",
    "            bleu_scores = []\n",
    "            \n",
    "            # Compute BLEU over all validation sets\n",
    "            for valid_iterator in valid_iterators:\n",
    "                src, tgt = valid_iterator.source_lang, valid_iterator.target_lang\n",
    "                translation_output = model.translate(valid_iterator, postprocess)\n",
    "                bleu_score = translation_output.score\n",
    "                output = translation_output.output\n",
    "\n",
    "                with open(os.path.join(model_dir, 'valid.{}-{}.{}.out'.format(src, tgt, epoch)), 'w') as f:\n",
    "                    f.writelines(line + '\\n' for line in output)\n",
    "\n",
    "                print('{}-{}: BLEU={}'.format(src, tgt, bleu_score))\n",
    "                sys.stdout.flush()\n",
    "                bleu_scores.append(bleu_score)\n",
    "\n",
    "            # Average the validation BLEU scores\n",
    "            bleu_score = round(sum(bleu_scores) / len(bleu_scores), 2)\n",
    "            if len(bleu_scores) > 1:\n",
    "                print('BLEU={}'.format(bleu_score))\n",
    "\n",
    "            # Update the model's learning rate based on current performance.\n",
    "            # This scheduler divides the learning rate by 10 if BLEU does not improve.\n",
    "            model.scheduler_step(bleu_score)\n",
    "\n",
    "            # Save a model checkpoint if it has the best validation BLEU so far\n",
    "            if bleu_score > best_bleu:\n",
    "                best_bleu = bleu_score\n",
    "                save_model(model, checkpoint_path)\n",
    "\n",
    "        print('=' * 50)\n",
    "\n",
    "    print(\"Training completed. Best BLEU is {}\".format(best_bleu))"
   ]
  },
  {
   "cell_type": "markdown",
   "metadata": {},
   "source": [
    "### Train a model with BOW Encoder and RNN Decoder (or load a pre-trained model)"
   ]
  },
  {
   "cell_type": "code",
   "execution_count": null,
   "metadata": {},
   "outputs": [],
   "source": [
    "# Set this value to True to train your own model. By default, a pre-trained model will be loaded.\n",
    "# Tip: you can set \"epoch\" to a small value (e.g., 2) and re-run this cell several times to continue training you model (`train_model` does not reset the model)\n",
    "train_again = False\n",
    "\n",
    "if train_again:\n",
    "    checkpoint_path = os.path.join(model_dir, 'bow.pt')\n",
    "else:\n",
    "    checkpoint_path = os.path.join(model_dir, 'pretrained-bow.pt')\n",
    "\n",
    "print('checkpoint path:', checkpoint_path)\n",
    "\n",
    "if os.path.exists(checkpoint_path) and not train_again:\n",
    "    bow_model = torch.load(checkpoint_path)\n",
    "else:\n",
    "    train_model(train_iterator, [valid_iterator], bow_model,\n",
    "                epochs=10,\n",
    "                checkpoint_path=checkpoint_path)"
   ]
  },
  {
   "cell_type": "markdown",
   "metadata": {},
   "source": [
    "### Compute BLEU on the test set"
   ]
  },
  {
   "cell_type": "code",
   "execution_count": null,
   "metadata": {},
   "outputs": [],
   "source": [
    "print('BLEU:', bow_model.translate(test_iterator, postprocess).score)"
   ]
  },
  {
   "cell_type": "markdown",
   "metadata": {},
   "source": [
    "### Interact with the model"
   ]
  },
  {
   "cell_type": "code",
   "execution_count": null,
   "metadata": {},
   "outputs": [],
   "source": [
    "def get_binned_bleu_scores(model, valid_iterator):\n",
    "    # Compute and plot BLEU scores according to sequence length\n",
    "    # lengths = np.arange(0, 31, 5)\n",
    "    lengths = np.arange(4, 20, 3)\n",
    "    bleu_scores = np.zeros(len(lengths))\n",
    "\n",
    "    for i in tqdm(range(1, len(lengths)), total=len(lengths) - 1):\n",
    "        min_len = lengths[i - 1]\n",
    "        max_len = lengths[i]\n",
    "\n",
    "        tmp_data = valid_data[(valid_iterator.data['source_len'] > min_len) & (valid_iterator.data['source_len'] <= max_len)]\n",
    "        tmp_iterator = nmt_dataset.BatchIterator(tmp_data, source_lang, target_lang, batch_size, max_len=max_len)\n",
    "\n",
    "        bleu_scores[i] = model.translate(tmp_iterator, postprocess).score\n",
    "\n",
    "    lengths = lengths[1:]\n",
    "    bleu_scores = bleu_scores[1:]\n",
    "\n",
    "    plt.plot(lengths, bleu_scores, 'x-')\n",
    "    plt.ylim(0, np.max(bleu_scores) + 1)\n",
    "    plt.xlabel('Source length')\n",
    "    plt.ylabel('BLEU score')\n",
    "    \n",
    "    return lengths, bleu_scores\n",
    "\n",
    "\n",
    "def show_attention(input_sentence, output_words, attentions):\n",
    "    # Plot an encoder-decoder attention matrix\n",
    "    fig = plt.figure()\n",
    "    ax = fig.add_subplot(111)\n",
    "    cax = ax.matshow(attentions, cmap='bone', aspect='auto')\n",
    "    fig.colorbar(cax)\n",
    "\n",
    "    ax.set_xticklabels([''] + input_sentence.split(' ') +\n",
    "                       [nmt_dataset.EOS_TOKEN], rotation=90)\n",
    "    ax.set_yticklabels([''] + output_words.split(' ') +\n",
    "                       [nmt_dataset.EOS_TOKEN])\n",
    "\n",
    "    ax.xaxis.set_major_locator(ticker.MultipleLocator(1))\n",
    "    ax.yaxis.set_major_locator(ticker.MultipleLocator(1))\n",
    "\n",
    "    plt.show()\n",
    "\n",
    "\n",
    "def encode_as_batch(sentence, dictionary, source_lang, target_lang):\n",
    "    # Create a batch from a single sentence\n",
    "    sentence = sentence + ' ' + nmt_dataset.EOS_TOKEN\n",
    "    tensor = dictionary.txt2vec(sentence).unsqueeze(0)\n",
    "\n",
    "    return {\n",
    "        'source': tensor,\n",
    "        'source_len': torch.from_numpy(np.array([tensor.shape[-1]])),\n",
    "        'source_lang': source_lang,\n",
    "        'target_lang': target_lang\n",
    "    }\n",
    "\n",
    "\n",
    "def get_translation(model, sentence, dictionary, source_lang, target_lang, return_output=False):\n",
    "    # Translate given sentence with given model. Also show translation outputs by Google Translate for comparison.\n",
    "    print('Source:', sentence)\n",
    "    sentence_tok = preprocess(sentence, is_source=True, source_lang=source_lang, target_lang=target_lang)\n",
    "    print('Tokenized source:', sentence_tok)\n",
    "    batch = encode_as_batch(sentence_tok, dictionary, source_lang, target_lang)\n",
    "    prediction, attn_matrix, enc_self_attn = model.eval_step(batch)\n",
    "    prediction = prediction[0]\n",
    "    prediction_detok = postprocess(prediction)\n",
    "    print('Prediction:', prediction)\n",
    "    print('Detokenized prediction:', prediction_detok)\n",
    "\n",
    "    print('Google Translate ({}->{}): {}'.format(\n",
    "        source_lang,\n",
    "        target_lang,\n",
    "        translator.translate(sentence, src=source_lang, dest=target_lang).text\n",
    "    ))\n",
    "    print('Google Translate on prediction ({}->{}): {}'.format(\n",
    "        target_lang,\n",
    "        source_lang,\n",
    "        translator.translate(prediction_detok, src=target_lang, dest=source_lang).text\n",
    "    ))\n",
    "\n",
    "    results = {\n",
    "        'source': sentence,\n",
    "        'source_tokens': sentence_tok.split(' ') + ['<eos>'],\n",
    "        'prediction_detok': prediction_detok,\n",
    "        'prediction_tokens': prediction.split(' '),\n",
    "    }\n",
    "\n",
    "    if attn_matrix is not None:\n",
    "        attn_matrix = attn_matrix[0].detach().cpu().numpy()\n",
    "        results['attention_matrix'] = attn_matrix\n",
    "        show_attention(sentence_tok, prediction, attn_matrix)\n",
    "    \n",
    "    if enc_self_attn is not None:\n",
    "        results['encoder_self_attention_list'] = enc_self_attn\n",
    "    \n",
    "    if return_output:\n",
    "        return results"
   ]
  },
  {
   "cell_type": "code",
   "execution_count": null,
   "metadata": {},
   "outputs": [],
   "source": [
    "get_translation(bow_model, 'hello how are you ?', source_dict, source_lang, target_lang)"
   ]
  },
  {
   "cell_type": "markdown",
   "metadata": {},
   "source": [
    "The biggest limitation of a Bag-of-Word encoder is that is insensitive to word order: <br>\n",
    "when shuffling the words in the previous sentence, you get the same output."
   ]
  },
  {
   "cell_type": "code",
   "execution_count": null,
   "metadata": {},
   "outputs": [],
   "source": [
    "get_translation(bow_model, 'are hello ? how you', source_dict, source_lang, target_lang)"
   ]
  },
  {
   "cell_type": "code",
   "execution_count": null,
   "metadata": {},
   "outputs": [],
   "source": [
    "get_translation(bow_model, 'she \\'s five years older than me .', source_dict, source_lang, target_lang)"
   ]
  },
  {
   "cell_type": "markdown",
   "metadata": {},
   "source": [
    "## RNN Encoder + RNN Decoder"
   ]
  },
  {
   "cell_type": "code",
   "execution_count": null,
   "metadata": {},
   "outputs": [],
   "source": [
    "rnn_encoder = nnet_models.RNN_Encoder(\n",
    "    input_size=len(source_dict),\n",
    "    hidden_size=512,\n",
    "    num_layers=1,\n",
    "    dropout=0.2\n",
    ")"
   ]
  },
  {
   "cell_type": "code",
   "execution_count": null,
   "metadata": {},
   "outputs": [],
   "source": [
    "print(rnn_encoder)"
   ]
  },
  {
   "cell_type": "code",
   "execution_count": null,
   "metadata": {},
   "outputs": [],
   "source": [
    "rnn_decoder = nnet_models.RNN_Decoder(\n",
    "    output_size=len(target_dict),\n",
    "    hidden_size=512,\n",
    "    num_layers=1,\n",
    "    dropout=0.2\n",
    ")"
   ]
  },
  {
   "cell_type": "code",
   "execution_count": null,
   "metadata": {},
   "outputs": [],
   "source": [
    "print(rnn_decoder)"
   ]
  },
  {
   "cell_type": "code",
   "execution_count": null,
   "metadata": {},
   "outputs": [],
   "source": [
    "rnn_model = nnet_models.EncoderDecoder(\n",
    "    rnn_encoder,\n",
    "    rnn_decoder,\n",
    "    lr=0.001,\n",
    "    use_cuda=True,\n",
    "    target_dict=target_dict\n",
    ")"
   ]
  },
  {
   "cell_type": "markdown",
   "metadata": {},
   "source": [
    "### Train a model with RNN Encoder and RNN Decoder (or load a pre-trained model)"
   ]
  },
  {
   "cell_type": "code",
   "execution_count": null,
   "metadata": {},
   "outputs": [],
   "source": [
    "# Set this value to True to train your own model. By default, a pre-trained model will be loaded.\n",
    "# Tip: you can set \"epoch\" to a small value (e.g., 2) and re-run this cell several times to continue training you model (`train_model` does not reset the model)\n",
    "train_again = False\n",
    "\n",
    "if train_again:\n",
    "    checkpoint_path = os.path.join(model_dir, 'rnn.pt')\n",
    "else:\n",
    "    checkpoint_path = os.path.join(model_dir, 'pretrained-rnn.pt')\n",
    "\n",
    "print('checkpoint path:', checkpoint_path)\n",
    "\n",
    "if os.path.exists(checkpoint_path) and not train_again:\n",
    "    rnn_model = torch.load(checkpoint_path)\n",
    "else:\n",
    "    train_model(train_iterator, [valid_iterator], rnn_model,\n",
    "                epochs=10,\n",
    "                checkpoint_path=checkpoint_path)"
   ]
  },
  {
   "cell_type": "markdown",
   "metadata": {},
   "source": [
    "### Compute BLEU on the test set"
   ]
  },
  {
   "cell_type": "code",
   "execution_count": null,
   "metadata": {},
   "outputs": [],
   "source": [
    "print('BLEU:', rnn_model.translate(test_iterator, postprocess).score)"
   ]
  },
  {
   "cell_type": "markdown",
   "metadata": {},
   "source": [
    "### Interact with the model"
   ]
  },
  {
   "cell_type": "code",
   "execution_count": null,
   "metadata": {},
   "outputs": [],
   "source": [
    "get_translation(rnn_model, 'hello how are you ?', source_dict, source_lang, target_lang)"
   ]
  },
  {
   "cell_type": "markdown",
   "metadata": {},
   "source": [
    "Contrary to the BoW encoder, an RNN is sensitive to word ordering"
   ]
  },
  {
   "cell_type": "code",
   "execution_count": null,
   "metadata": {},
   "outputs": [],
   "source": [
    "get_translation(rnn_model, 'are hello ? how you', source_dict, source_lang, target_lang)"
   ]
  },
  {
   "cell_type": "code",
   "execution_count": null,
   "metadata": {},
   "outputs": [],
   "source": [
    "get_translation(rnn_model, 'she \\'s five years older than me .', source_dict, source_lang, target_lang)"
   ]
  },
  {
   "cell_type": "code",
   "execution_count": null,
   "metadata": {},
   "outputs": [],
   "source": [
    "get_translation(rnn_model, 'i know that the last thing you want to do is help me .', source_dict, source_lang, target_lang)"
   ]
  },
  {
   "cell_type": "markdown",
   "metadata": {},
   "source": [
    "### Plot validation BLEU according to source sequence length\n",
    "The performance quickly degrades as the input length increases. This is caused by three main factors:\n",
    "- The RNN decoder (without attention) only relies on the last hidden state of the encoder. This means that we have to encode the full sentence into a single fixed-size vector\n",
    "- Encoder-decoder RNNs are difficult to train (because the signal has to be backpropagated through the entire sequence of states)\n",
    "- The training set we used is mostly composed of very short sentences (95% of source sentences are 15 tokens or less)"
   ]
  },
  {
   "cell_type": "code",
   "execution_count": null,
   "metadata": {},
   "outputs": [],
   "source": [
    "rnn_lengths, rnn_bleu_scores = get_binned_bleu_scores(rnn_model, valid_iterator)"
   ]
  },
  {
   "cell_type": "markdown",
   "metadata": {},
   "source": [
    "## RNN Encoder + RNN Decoder with Encoder-Decoder Attention"
   ]
  },
  {
   "cell_type": "code",
   "execution_count": null,
   "metadata": {},
   "outputs": [],
   "source": [
    "rnn_attn_encoder = nnet_models.RNN_Encoder(\n",
    "    input_size=len(source_dict),\n",
    "    hidden_size=512,\n",
    "    num_layers=1,\n",
    "    dropout=0.0\n",
    ")"
   ]
  },
  {
   "cell_type": "code",
   "execution_count": null,
   "metadata": {},
   "outputs": [],
   "source": [
    " print(rnn_attn_encoder)"
   ]
  },
  {
   "cell_type": "code",
   "execution_count": null,
   "metadata": {},
   "outputs": [],
   "source": [
    "rnn_attn_decoder = nnet_models.AttentionDecoder(\n",
    "    output_size=len(target_dict),\n",
    "    hidden_size=512,\n",
    "    dropout=0.0\n",
    ")"
   ]
  },
  {
   "cell_type": "code",
   "execution_count": null,
   "metadata": {},
   "outputs": [],
   "source": [
    "print(rnn_attn_decoder)"
   ]
  },
  {
   "cell_type": "code",
   "execution_count": null,
   "metadata": {},
   "outputs": [],
   "source": [
    "rnn_attn_model = nnet_models.EncoderDecoder(\n",
    "    rnn_attn_encoder,\n",
    "    rnn_attn_decoder,\n",
    "    lr=0.001,\n",
    "    use_cuda=True,\n",
    "    target_dict=target_dict\n",
    ")"
   ]
  },
  {
   "cell_type": "markdown",
   "metadata": {},
   "source": [
    "### Train a model with RNN Encoder and RNN Decoder with attention (or load a pre-trained model)"
   ]
  },
  {
   "cell_type": "code",
   "execution_count": null,
   "metadata": {},
   "outputs": [],
   "source": [
    "# Set this value to True to train your own model. By default, a pre-trained model will be loaded.\n",
    "# Tip: you can set \"epoch\" to a small value (e.g., 2) and re-run this cell several times to continue training you model (`train_model` does not reset the model)\n",
    "train_again = False\n",
    "\n",
    "if train_again:\n",
    "    checkpoint_path = os.path.join(model_dir, 'rnn-attn.pt')\n",
    "else:\n",
    "    checkpoint_path = os.path.join(model_dir, 'pretrained-rnn-attn.pt')\n",
    "\n",
    "print('checkpoint path:', checkpoint_path)\n",
    "\n",
    "if os.path.exists(checkpoint_path) and not train_again:\n",
    "    rnn_attn_model = torch.load(checkpoint_path)\n",
    "else:\n",
    "    train_model(train_iterator, [valid_iterator], rnn_attn_model,\n",
    "                epochs=10,\n",
    "                checkpoint_path=checkpoint_path)"
   ]
  },
  {
   "cell_type": "markdown",
   "metadata": {},
   "source": [
    "### Compute BLEU on the test set"
   ]
  },
  {
   "cell_type": "code",
   "execution_count": null,
   "metadata": {},
   "outputs": [],
   "source": [
    "print('BLEU:', rnn_attn_model.translate(test_iterator, postprocess).score)"
   ]
  },
  {
   "cell_type": "markdown",
   "metadata": {},
   "source": [
    "### Plot validation BLEU according to source sequence length"
   ]
  },
  {
   "cell_type": "code",
   "execution_count": null,
   "metadata": {},
   "outputs": [],
   "source": [
    "rnn_attn_lengths, rnn_attn_bleu_scores = get_binned_bleu_scores(rnn_attn_model, valid_iterator)"
   ]
  },
  {
   "cell_type": "code",
   "execution_count": null,
   "metadata": {},
   "outputs": [],
   "source": [
    "plt.plot(rnn_lengths, rnn_bleu_scores, '--x', label='RNN without attention')\n",
    "plt.plot(rnn_attn_lengths, rnn_attn_bleu_scores, '--x', label='RNN with attention')\n",
    "plt.xlabel('Source length')\n",
    "plt.ylabel('BLEU score')\n",
    "plt.legend()"
   ]
  },
  {
   "cell_type": "markdown",
   "metadata": {},
   "source": [
    "### Interact with the model and visualize attention matrices"
   ]
  },
  {
   "cell_type": "code",
   "execution_count": null,
   "metadata": {},
   "outputs": [],
   "source": [
    "get_translation(rnn_attn_model, 'hello how are you ?', source_dict, source_lang, target_lang)"
   ]
  },
  {
   "cell_type": "code",
   "execution_count": null,
   "metadata": {},
   "outputs": [],
   "source": [
    "get_translation(rnn_attn_model, 'she \\'s five years older than me .', source_dict, source_lang, target_lang)"
   ]
  },
  {
   "cell_type": "code",
   "execution_count": null,
   "metadata": {},
   "outputs": [],
   "source": [
    "get_translation(rnn_attn_model, 'i know that the last thing you want to do is help me .', source_dict, source_lang, target_lang)"
   ]
  },
  {
   "cell_type": "markdown",
   "metadata": {},
   "source": [
    "## Transformer Model\n",
    "\n",
    "[Transformer](https://arxiv.org/abs/1706.03762) is currently the state-of-the-art for Machine Translation. The encoder uses self-attention over the previous layers. The decoder combines self-attention and encoder-decoder attention."
   ]
  },
  {
   "cell_type": "code",
   "execution_count": null,
   "metadata": {},
   "outputs": [],
   "source": [
    "transformer_encoder = nnet_models.TransformerEncoder(\n",
    "    input_size=len(source_dict),\n",
    "    hidden_size=512,\n",
    "    num_layers=1,\n",
    "    dropout=0.0,\n",
    "    heads=4\n",
    ")"
   ]
  },
  {
   "cell_type": "code",
   "execution_count": null,
   "metadata": {},
   "outputs": [],
   "source": [
    "print(transformer_encoder)"
   ]
  },
  {
   "cell_type": "code",
   "execution_count": null,
   "metadata": {},
   "outputs": [],
   "source": [
    "transformer_decoder = nnet_models.TransformerDecoder(\n",
    "    output_size=len(target_dict),\n",
    "    hidden_size=512,\n",
    "    num_layers=1,\n",
    "    heads=4,\n",
    "    dropout=0.0\n",
    ")"
   ]
  },
  {
   "cell_type": "code",
   "execution_count": null,
   "metadata": {},
   "outputs": [],
   "source": [
    "print(transformer_decoder)"
   ]
  },
  {
   "cell_type": "code",
   "execution_count": null,
   "metadata": {},
   "outputs": [],
   "source": [
    "transformer_model = nnet_models.EncoderDecoder(\n",
    "    transformer_encoder,\n",
    "    transformer_decoder,\n",
    "    lr=0.001,\n",
    "    use_cuda=True,\n",
    "    target_dict=target_dict\n",
    ")"
   ]
  },
  {
   "cell_type": "markdown",
   "metadata": {},
   "source": [
    "### Train a Transformer model (or load a pre-trained model)"
   ]
  },
  {
   "cell_type": "code",
   "execution_count": null,
   "metadata": {},
   "outputs": [],
   "source": [
    "# Set this value to True to train your own model. By default, a pre-trained model will be loaded.\n",
    "# Tip: you can set \"epoch\" to a small value (e.g., 2) and re-run this cell several times to continue training you model (`train_model` does not reset the model)\n",
    "train_again = False\n",
    "\n",
    "if train_again:\n",
    "    checkpoint_path = os.path.join(model_dir, 'transformer.pt')\n",
    "else:\n",
    "    checkpoint_path = os.path.join(model_dir, 'pretrained-transformer.pt')\n",
    "\n",
    "print('checkpoint path:', checkpoint_path)\n",
    "\n",
    "if os.path.exists(checkpoint_path) and not train_again:\n",
    "    transformer_model = torch.load(checkpoint_path)\n",
    "else:\n",
    "    train_model(train_iterator, [valid_iterator], transformer_model,\n",
    "                epochs=10,\n",
    "                checkpoint_path=checkpoint_path)"
   ]
  },
  {
   "cell_type": "markdown",
   "metadata": {},
   "source": [
    "### Compute BLEU on the test set"
   ]
  },
  {
   "cell_type": "code",
   "execution_count": null,
   "metadata": {},
   "outputs": [],
   "source": [
    "print('BLEU:', transformer_model.translate(test_iterator, postprocess).score)"
   ]
  },
  {
   "cell_type": "markdown",
   "metadata": {},
   "source": [
    "### Plot validation BLEU according to source sequence length"
   ]
  },
  {
   "cell_type": "code",
   "execution_count": null,
   "metadata": {},
   "outputs": [],
   "source": [
    "transformer_lengths, transformer_bleu_scores = get_binned_bleu_scores(transformer_model, valid_iterator)"
   ]
  },
  {
   "cell_type": "code",
   "execution_count": null,
   "metadata": {},
   "outputs": [],
   "source": [
    "plt.plot(rnn_lengths, rnn_bleu_scores, '--x', label='RNN without attention')\n",
    "plt.plot(transformer_lengths, transformer_bleu_scores, '--x', label='Transformer')\n",
    "plt.xlabel('Source length')\n",
    "plt.ylabel('BLEU score')\n",
    "plt.legend()"
   ]
  },
  {
   "cell_type": "markdown",
   "metadata": {},
   "source": [
    "### Interact with the model"
   ]
  },
  {
   "cell_type": "code",
   "execution_count": null,
   "metadata": {},
   "outputs": [],
   "source": [
    "# bertviz: tool for visualizing attention in the Transformer model\n",
    "from bertviz.bertviz import head_view, model_view"
   ]
  },
  {
   "cell_type": "code",
   "execution_count": null,
   "metadata": {},
   "outputs": [],
   "source": [
    "%%javascript\n",
    "require.config({\n",
    "  paths: {\n",
    "      d3: '//cdnjs.cloudflare.com/ajax/libs/d3/5.7.0/d3.min',\n",
    "    jquery: '//ajax.googleapis.com/ajax/libs/jquery/2.0.0/jquery.min',\n",
    "  }\n",
    "});"
   ]
  },
  {
   "cell_type": "code",
   "execution_count": null,
   "metadata": {},
   "outputs": [],
   "source": [
    "def show_head_view(results):\n",
    "    self_attention = results['encoder_self_attention_list']\n",
    "    tokens = results['source_tokens']\n",
    "    sentence_b_start = None\n",
    "    head_view(self_attention, tokens, sentence_b_start)\n",
    "\n",
    "def show_model_view(results):\n",
    "    self_attention = results['encoder_self_attention_list']\n",
    "    tokens = results['source_tokens']\n",
    "    sentence_b_start = None\n",
    "    model_view(self_attention, tokens, sentence_b_start)"
   ]
  },
  {
   "cell_type": "code",
   "execution_count": null,
   "metadata": {},
   "outputs": [],
   "source": [
    "results = get_translation(transformer_model, 'hello how are you ?', source_dict, source_lang, target_lang, return_output=True)"
   ]
  },
  {
   "cell_type": "code",
   "execution_count": null,
   "metadata": {},
   "outputs": [],
   "source": [
    "show_head_view(results)"
   ]
  },
  {
   "cell_type": "code",
   "execution_count": null,
   "metadata": {},
   "outputs": [],
   "source": [
    "show_model_view(results)"
   ]
  },
  {
   "cell_type": "code",
   "execution_count": null,
   "metadata": {},
   "outputs": [],
   "source": [
    "results = get_translation(transformer_model, 'she \\'s five years older than me .', source_dict, source_lang, target_lang, return_output=True)"
   ]
  },
  {
   "cell_type": "code",
   "execution_count": null,
   "metadata": {},
   "outputs": [],
   "source": [
    "results = get_translation(transformer_model, 'i know that the last thing you want to do is help me .', source_dict, source_lang, target_lang, return_output=True)"
   ]
  },
  {
   "cell_type": "markdown",
   "metadata": {},
   "source": [
    "## Multilingual Transformer model\n",
    "\n",
    "Load a pre-trained **de, fr <-> en** model. The same dictionary and embeddings are shared between all languages, and language codes (`<lang:de>`, `<lang:en>`, `<lang:fr>`) are prepended to each source sequence to identify the target language."
   ]
  },
  {
   "cell_type": "code",
   "execution_count": null,
   "metadata": {},
   "outputs": [],
   "source": [
    "multi_model_dir = os.path.join('models', 'de-en-fr')\n",
    "\n",
    "multi_dict = nmt_dataset.load_or_create_dictionary(\n",
    "    os.path.join(multi_model_dir, 'dict.txt'),\n",
    "    dataset=None,\n",
    "    minimum_count=10,\n",
    "    reset=False\n",
    ")\n",
    "\n",
    "checkpoint_path = os.path.join(multi_model_dir, 'pretrained-transformer.pt')\n",
    "multi_transformer_model = torch.load(checkpoint_path)\n",
    "\n",
    "print(multi_transformer_model)"
   ]
  },
  {
   "cell_type": "markdown",
   "metadata": {},
   "source": [
    "### Multilingual evaluation\n",
    "\n",
    "Modify the `preprocess` function to automatically prepend language codes to all source sequences (when calling `get_translation`, or `load_data`).\n",
    "\n",
    "And load test sets in all language pairs."
   ]
  },
  {
   "cell_type": "code",
   "execution_count": null,
   "metadata": {},
   "outputs": [],
   "source": [
    "def preprocess(line, is_source=True, source_lang=None, target_lang=None):\n",
    "    line = bpe_model.segment(line.lower())\n",
    "    if is_source:\n",
    "        line = '<lang:{}> {}'.format(target_lang, line)\n",
    "    return line\n",
    "\n",
    "test_iterators = []\n",
    "\n",
    "for src, tgt in ('en', 'fr'), ('fr', 'en'), ('en', 'de'), ('de', 'en'), ('de', 'fr'), ('fr', 'de'):\n",
    "    dataset = load_data(src, tgt, 'test')\n",
    "    nmt_dataset.binarize(dataset, source_dict=multi_dict, target_dict=multi_dict, sort=False)\n",
    "    iterator = nmt_dataset.BatchIterator(dataset, src, tgt, batch_size=512, max_len=30, shuffle=False)\n",
    "    test_iterators.append(iterator)"
   ]
  },
  {
   "cell_type": "code",
   "execution_count": null,
   "metadata": {},
   "outputs": [],
   "source": [
    "for test_iterator in test_iterators[:4]:\n",
    "    print('BLEU {}-{}: {}'.format(\n",
    "        test_iterator.source_lang,\n",
    "        test_iterator.target_lang,\n",
    "        multi_transformer_model.translate(test_iterator, postprocess).score\n",
    "    ))"
   ]
  },
  {
   "cell_type": "markdown",
   "metadata": {},
   "source": [
    "### Interact with the model"
   ]
  },
  {
   "cell_type": "code",
   "execution_count": null,
   "metadata": {},
   "outputs": [],
   "source": [
    "get_translation(multi_transformer_model, 'she \\'s five years older than me .', multi_dict, source_lang='en', target_lang='fr')"
   ]
  },
  {
   "cell_type": "code",
   "execution_count": null,
   "metadata": {},
   "outputs": [],
   "source": [
    "get_translation(multi_transformer_model, 'sie ist fünf jahre älter als ich .', multi_dict, source_lang='de', target_lang='en')"
   ]
  },
  {
   "cell_type": "markdown",
   "metadata": {},
   "source": [
    "### Zero-shot translation\n",
    "\n",
    "In theory, the model can do **zero-shot** translation, i.e., translate between German and French even though it has never seen German-French sentence pairs during training."
   ]
  },
  {
   "cell_type": "code",
   "execution_count": null,
   "metadata": {},
   "outputs": [],
   "source": [
    "for test_iterator in test_iterators[4:]:\n",
    "    print('BLEU {}-{}: {}'.format(\n",
    "        test_iterator.source_lang,\n",
    "        test_iterator.target_lang,\n",
    "        multi_transformer_model.translate(test_iterator, postprocess).score\n",
    "    ))"
   ]
  },
  {
   "cell_type": "markdown",
   "metadata": {},
   "source": [
    "#### However, in practice zero-shot performance is very bad. Interact with the model to understand why."
   ]
  },
  {
   "cell_type": "code",
   "execution_count": null,
   "metadata": {},
   "outputs": [],
   "source": [
    "get_translation(multi_transformer_model, 'sie ist fünf jahre älter als ich .', multi_dict, 'de', 'fr')"
   ]
  },
  {
   "cell_type": "code",
   "execution_count": null,
   "metadata": {},
   "outputs": [],
   "source": [
    "get_translation(multi_transformer_model, 'elle a cinq ans de plus que moi .', multi_dict, 'fr', 'de')"
   ]
  },
  {
   "cell_type": "markdown",
   "metadata": {},
   "source": [
    "## Your Turn!\n",
    "\n",
    "Choose one of these exercises, or both!\n",
    "\n",
    "### Hyper-parameter tuning\n",
    "\n",
    "Find the best hyper-parameters for Transformer **en-fr**. Share your best test BLEU scores on Slack!\n",
    "\n",
    "*Don't forget to reload the `preprocess` function at the start of the notebook*\n",
    "\n",
    "- Hyper-parameters: `lr`, `batch_size`, `num_layers`, `hidden_size`, `dropout`, `heads`, etc.\n",
    "- Other improvements: modify the learning rate scheduler and optimizer in `nnet_models.EncoderDecoder`; use different embedding size and hidden size, etc.\n",
    "\n",
    "### Multilingual NMT\n",
    "\n",
    "Train your own multilingual NMT model.\n",
    "\n",
    "Tips:\n",
    "- Create a multilingual dictionary by concatenating the tokenized data in all languages. Or simply re-use the dictionary of the pre-trained model (`multi_dict`).\n",
    "- Use the same dictionary for the source and target sides, and share the embeddings between your encoder and decoder (do: `decoder.embedding = encoder.embedding`).\n",
    "- Use `nmt_dataset.MultiBatchIterator(iterator_list)` to concatenate a list of training iterators (one for each language pair) into a single iterator, which is compatible with `train_model`.\n",
    "- `train_model` can take a list of several validation iterators, which will let you validate your model on several language pairs.\n",
    "- Improve your model's performance on **de-fr** and **fr-de** by including training data for these languages pairs (`data/train.de-fr.de` and `data/train.de-fr.fr`).\n",
    "\n",
    "### Train bilingual or multilingual models on other language pairs\n",
    "\n",
    "- Modify and re-run `./download-data.sh` to download data in new languages, preprocess this data and train BPE models"
   ]
  }
 ],
 "metadata": {
  "kernelspec": {
   "display_name": "Python 3 (ipykernel)",
   "language": "python",
   "name": "python3"
  },
  "language_info": {
   "codemirror_mode": {
    "name": "ipython",
    "version": 3
   },
   "file_extension": ".py",
   "mimetype": "text/x-python",
   "name": "python",
   "nbconvert_exporter": "python",
   "pygments_lexer": "ipython3",
   "version": "3.8.5"
  },
  "toc": {
   "base_numbering": 1,
   "nav_menu": {},
   "number_sections": true,
   "sideBar": true,
   "skip_h1_title": false,
   "title_cell": "Table of Contents",
   "title_sidebar": "Contents",
   "toc_cell": false,
   "toc_position": {},
   "toc_section_display": true,
   "toc_window_display": false
  }
 },
 "nbformat": 4,
 "nbformat_minor": 2
}
